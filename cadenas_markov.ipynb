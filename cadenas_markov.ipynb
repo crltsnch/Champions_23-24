{
 "cells": [
  {
   "cell_type": "code",
   "execution_count": 4,
   "metadata": {},
   "outputs": [
    {
     "name": "stdout",
     "output_type": "stream",
     "text": [
      "Matriz de Transición para el Equipo 1:\n",
      "               LocalGana  Empate  VisitanteGana\n",
      "LocalGana            0.0     1.0            0.0\n",
      "Empate               0.0     0.4            0.6\n",
      "VisitanteGana        0.2     0.4            0.4\n",
      "\n",
      "Matriz de Transición para el Equipo 3:\n",
      "               LocalGana    Empate  VisitanteGana\n",
      "LocalGana       0.000000  1.000000       0.000000\n",
      "Empate          0.333333  0.333333       0.333333\n",
      "VisitanteGana   0.000000  0.500000       0.500000\n",
      "\n",
      "Matriz de Transición para el Equipo 14:\n",
      "               LocalGana    Empate  VisitanteGana\n",
      "LocalGana       0.000000  1.000000            0.0\n",
      "Empate          0.333333  0.166667            0.5\n",
      "VisitanteGana   0.000000  1.000000            0.0\n",
      "\n",
      "Matriz de Transición para el Equipo 28:\n",
      "               LocalGana  Empate  VisitanteGana\n",
      "LocalGana           0.00    1.00            0.0\n",
      "Empate              0.20    0.00            0.8\n",
      "VisitanteGana       0.25    0.75            0.0\n",
      "\n"
     ]
    },
    {
     "name": "stderr",
     "output_type": "stream",
     "text": [
      "/var/folders/98/7bgvzcwx7tz2bgwyh060mq100000gn/T/ipykernel_82971/169711508.py:15: SettingWithCopyWarning: \n",
      "A value is trying to be set on a copy of a slice from a DataFrame.\n",
      "Try using .loc[row_indexer,col_indexer] = value instead\n",
      "\n",
      "See the caveats in the documentation: https://pandas.pydata.org/pandas-docs/stable/user_guide/indexing.html#returning-a-view-versus-a-copy\n",
      "  data_equipo['Estado'] = np.where(data_equipo['Local'] == equipo, 'LocalGana',\n",
      "/var/folders/98/7bgvzcwx7tz2bgwyh060mq100000gn/T/ipykernel_82971/169711508.py:15: SettingWithCopyWarning: \n",
      "A value is trying to be set on a copy of a slice from a DataFrame.\n",
      "Try using .loc[row_indexer,col_indexer] = value instead\n",
      "\n",
      "See the caveats in the documentation: https://pandas.pydata.org/pandas-docs/stable/user_guide/indexing.html#returning-a-view-versus-a-copy\n",
      "  data_equipo['Estado'] = np.where(data_equipo['Local'] == equipo, 'LocalGana',\n",
      "/var/folders/98/7bgvzcwx7tz2bgwyh060mq100000gn/T/ipykernel_82971/169711508.py:15: SettingWithCopyWarning: \n",
      "A value is trying to be set on a copy of a slice from a DataFrame.\n",
      "Try using .loc[row_indexer,col_indexer] = value instead\n",
      "\n",
      "See the caveats in the documentation: https://pandas.pydata.org/pandas-docs/stable/user_guide/indexing.html#returning-a-view-versus-a-copy\n",
      "  data_equipo['Estado'] = np.where(data_equipo['Local'] == equipo, 'LocalGana',\n",
      "/var/folders/98/7bgvzcwx7tz2bgwyh060mq100000gn/T/ipykernel_82971/169711508.py:15: SettingWithCopyWarning: \n",
      "A value is trying to be set on a copy of a slice from a DataFrame.\n",
      "Try using .loc[row_indexer,col_indexer] = value instead\n",
      "\n",
      "See the caveats in the documentation: https://pandas.pydata.org/pandas-docs/stable/user_guide/indexing.html#returning-a-view-versus-a-copy\n",
      "  data_equipo['Estado'] = np.where(data_equipo['Local'] == equipo, 'LocalGana',\n"
     ]
    }
   ],
   "source": [
    "import pandas as pd\n",
    "import numpy as np\n",
    "\n",
    "# Paso 1: Cargar los datos\n",
    "data = pd.read_csv('dataframe/champions_23_24.csv')\n",
    "\n",
    "# Paso 2: Filtrar los datos para los equipos específicos\n",
    "equipos_especificos = [1, 3, 14, 28]\n",
    "data_equipos = data[data['Local'].isin(equipos_especificos) | data['Visitante'].isin(equipos_especificos)]\n",
    "\n",
    "# Paso 3: Definir los estados y calcular probabilidades de transición\n",
    "transiciones_por_equipo = {}\n",
    "for equipo in equipos_especificos:\n",
    "    data_equipo = data_equipos[(data_equipos['Local'] == equipo) | (data_equipos['Visitante'] == equipo)]\n",
    "    data_equipo['Estado'] = np.where(data_equipo['Local'] == equipo, 'LocalGana', \n",
    "                                     np.where(data_equipo['Empate'] == 1, 'Empate', 'VisitanteGana'))\n",
    "    transiciones_equipo = pd.crosstab(data_equipo['Estado'], data_equipo['Estado'].shift(-1), normalize='index')\n",
    "    transiciones_por_equipo[equipo] = transiciones_equipo.fillna(0).values\n",
    "\n",
    "# Paso 4: Imprimir las matrices de transición por equipo\n",
    "for equipo, transiciones_equipo in transiciones_por_equipo.items():\n",
    "    print(f\"Matriz de Transición para el Equipo {equipo}:\")\n",
    "    print(pd.DataFrame(transiciones_equipo, index=['LocalGana', 'Empate', 'VisitanteGana'], columns=['LocalGana', 'Empate', 'VisitanteGana']))\n",
    "    print()\n",
    "\n"
   ]
  }
 ],
 "metadata": {
  "kernelspec": {
   "display_name": "base",
   "language": "python",
   "name": "python3"
  },
  "language_info": {
   "codemirror_mode": {
    "name": "ipython",
    "version": 3
   },
   "file_extension": ".py",
   "mimetype": "text/x-python",
   "name": "python",
   "nbconvert_exporter": "python",
   "pygments_lexer": "ipython3",
   "version": "3.11.5"
  }
 },
 "nbformat": 4,
 "nbformat_minor": 2
}
