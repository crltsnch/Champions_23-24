{
 "cells": [
  {
   "cell_type": "code",
   "execution_count": 8,
   "metadata": {},
   "outputs": [],
   "source": [
    "import pandas as pd\n",
    "import numpy as np\n",
    "import matplotlib.pyplot as plt\n",
    "import seaborn as sns"
   ]
  },
  {
   "cell_type": "code",
   "execution_count": null,
   "metadata": {},
   "outputs": [
    {
     "data": {
      "text/html": [
       "<div>\n",
       "<style scoped>\n",
       "    .dataframe tbody tr th:only-of-type {\n",
       "        vertical-align: middle;\n",
       "    }\n",
       "\n",
       "    .dataframe tbody tr th {\n",
       "        vertical-align: top;\n",
       "    }\n",
       "\n",
       "    .dataframe thead th {\n",
       "        text-align: right;\n",
       "    }\n",
       "</style>\n",
       "<table border=\"1\" class=\"dataframe\">\n",
       "  <thead>\n",
       "    <tr style=\"text-align: right;\">\n",
       "      <th></th>\n",
       "      <th>Equipo 1</th>\n",
       "      <th>Agr.</th>\n",
       "      <th>Equipo 2</th>\n",
       "      <th>Ida</th>\n",
       "      <th>Vuelta</th>\n",
       "      <th>Temporada</th>\n",
       "    </tr>\n",
       "  </thead>\n",
       "  <tbody>\n",
       "    <tr>\n",
       "      <th>0</th>\n",
       "      <td>Leipzig</td>\n",
       "      <td>1–8</td>\n",
       "      <td>Manchester City</td>\n",
       "      <td>1–1</td>\n",
       "      <td>0–7</td>\n",
       "      <td>22/23</td>\n",
       "    </tr>\n",
       "    <tr>\n",
       "      <th>1</th>\n",
       "      <td>Brujas</td>\n",
       "      <td>1–7</td>\n",
       "      <td>Benfica</td>\n",
       "      <td>0–2</td>\n",
       "      <td>1–5</td>\n",
       "      <td>22/23</td>\n",
       "    </tr>\n",
       "    <tr>\n",
       "      <th>2</th>\n",
       "      <td>Liverpool</td>\n",
       "      <td>2–6</td>\n",
       "      <td>Real Madrid</td>\n",
       "      <td>2–5</td>\n",
       "      <td>0–1</td>\n",
       "      <td>22/23</td>\n",
       "    </tr>\n",
       "    <tr>\n",
       "      <th>3</th>\n",
       "      <td>Milan</td>\n",
       "      <td>1–0</td>\n",
       "      <td>Tottenham Hotspur</td>\n",
       "      <td>1–0</td>\n",
       "      <td>0–0</td>\n",
       "      <td>22/23</td>\n",
       "    </tr>\n",
       "    <tr>\n",
       "      <th>4</th>\n",
       "      <td>Eintracht Fráncfort</td>\n",
       "      <td>0–5</td>\n",
       "      <td>Napoli</td>\n",
       "      <td>0–2</td>\n",
       "      <td>0–3</td>\n",
       "      <td>22/23</td>\n",
       "    </tr>\n",
       "  </tbody>\n",
       "</table>\n",
       "</div>"
      ],
      "text/plain": [
       "              Equipo 1 Agr.           Equipo 2  Ida Vuelta Temporada\n",
       "0              Leipzig  1–8    Manchester City  1–1    0–7     22/23\n",
       "1               Brujas  1–7            Benfica  0–2    1–5     22/23\n",
       "2            Liverpool  2–6        Real Madrid  2–5    0–1     22/23\n",
       "3                Milan  1–0  Tottenham Hotspur  1–0    0–0     22/23\n",
       "4  Eintracht Fráncfort  0–5             Napoli  0–2    0–3     22/23"
      ]
     },
     "execution_count": 14,
     "metadata": {},
     "output_type": "execute_result"
    }
   ],
   "source": [
    "#leer el data\n",
    "data = pd.read_csv('octavos.csv')\n",
    "data.head()"
   ]
  }
 ],
 "metadata": {
  "kernelspec": {
   "display_name": "base",
   "language": "python",
   "name": "python3"
  },
  "language_info": {
   "codemirror_mode": {
    "name": "ipython",
    "version": 3
   },
   "file_extension": ".py",
   "mimetype": "text/x-python",
   "name": "python",
   "nbconvert_exporter": "python",
   "pygments_lexer": "ipython3",
   "version": "3.11.5"
  }
 },
 "nbformat": 4,
 "nbformat_minor": 2
}
