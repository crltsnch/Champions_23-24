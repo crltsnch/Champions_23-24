{
 "cells": [
  {
   "cell_type": "code",
   "execution_count": 155,
   "metadata": {},
   "outputs": [],
   "source": [
    "import pandas as pd\n",
    "import numpy as np\n",
    "from statsmodels.tsa.arima.model import ARIMA\n",
    "from statsmodels.tsa.statespace.sarimax import SARIMAX\n",
    "from datetime import datetime"
   ]
  },
  {
   "cell_type": "code",
   "execution_count": 156,
   "metadata": {},
   "outputs": [],
   "source": [
    "data = pd.read_csv('dataframe/champions.csv')"
   ]
  },
  {
   "cell_type": "code",
   "execution_count": 157,
   "metadata": {},
   "outputs": [],
   "source": [
    "data['Temporada'] = pd.to_datetime(data['Temporada'])\n",
    "\n",
    "# Ordenar el DataFrame por la columna 'Temporada'\n",
    "data_sorted = data.sort_values(by='Temporada')"
   ]
  },
  {
   "cell_type": "code",
   "execution_count": 158,
   "metadata": {},
   "outputs": [],
   "source": [
    "from sklearn.model_selection import train_test_split\n",
    "\n",
    "# Selección de equipos de interés\n",
    "equipo_de_interes = [1, 3, 5, 14, 16, 24, 28, 31]\n",
    "equipo_data = data[data['Local'].isin(equipo_de_interes) | data['Visitante'].isin(equipo_de_interes)]\n",
    "\n",
    "# Concatenación de goles locales y visitantes por temporada\n",
    "serie_temporal_local = equipo_data.groupby(['Temporada', 'Local']).sum()['GolesLocal']\n",
    "serie_temporal_visitante = equipo_data.groupby(['Temporada', 'Visitante']).sum()['GolesVisitante']\n",
    "\n",
    "# Creación de la serie temporal para cada equipo\n",
    "serie_temporal_por_equipo = pd.concat([serie_temporal_local, serie_temporal_visitante]).groupby(level=1).sum()\n",
    "\n",
    "# División en conjunto de entrenamiento y prueba\n",
    "train_data, test_data = train_test_split(serie_temporal_por_equipo, test_size=0.2, shuffle=False)\n",
    "\n"
   ]
  },
  {
   "cell_type": "code",
   "execution_count": 159,
   "metadata": {},
   "outputs": [],
   "source": [
    "def arima_model(train, test, order):\n",
    "    # Selección de la columna 'GolesLocal' de los datos de entrenamiento\n",
    "    train_data = train['GolesLocal']\n",
    "    \n",
    "    # Crear el modelo ARIMA\n",
    "    model = ARIMA(train_data, order=order)\n",
    "    \n",
    "    # Ajustar el modelo a los datos\n",
    "    model_fit = model.fit()\n",
    "    \n",
    "    # Predecir los valores futuros\n",
    "    forecast = model_fit.forecast(steps=len(test))\n",
    "    \n",
    "    return model_fit, forecast\n"
   ]
  },
  {
   "cell_type": "code",
   "execution_count": 161,
   "metadata": {},
   "outputs": [
    {
     "ename": "ValueError",
     "evalue": "index must be a MultiIndex to unstack, <class 'pandas.core.indexes.base.Index'> was passed",
     "output_type": "error",
     "traceback": [
      "\u001b[0;31m---------------------------------------------------------------------------\u001b[0m",
      "\u001b[0;31mValueError\u001b[0m                                Traceback (most recent call last)",
      "Cell \u001b[0;32mIn[161], line 22\u001b[0m\n\u001b[1;32m     19\u001b[0m     plt\u001b[38;5;241m.\u001b[39mtight_layout()\n\u001b[1;32m     20\u001b[0m     plt\u001b[38;5;241m.\u001b[39mshow()\n\u001b[0;32m---> 22\u001b[0m serie_temporal_por_equipo_df \u001b[38;5;241m=\u001b[39m serie_temporal_por_equipo\u001b[38;5;241m.\u001b[39munstack()\n\u001b[1;32m     24\u001b[0m series_plot(serie_temporal_por_equipo_df, \u001b[38;5;124m'\u001b[39m\u001b[38;5;124mSerie Temporal de Goles Marcados por Equipo (Por Partido)\u001b[39m\u001b[38;5;124m'\u001b[39m)\n",
      "File \u001b[0;32m~/anaconda3/lib/python3.11/site-packages/pandas/core/series.py:4313\u001b[0m, in \u001b[0;36mSeries.unstack\u001b[0;34m(self, level, fill_value)\u001b[0m\n\u001b[1;32m   4270\u001b[0m \u001b[38;5;250m\u001b[39m\u001b[38;5;124;03m\"\"\"\u001b[39;00m\n\u001b[1;32m   4271\u001b[0m \u001b[38;5;124;03mUnstack, also known as pivot, Series with MultiIndex to produce DataFrame.\u001b[39;00m\n\u001b[1;32m   4272\u001b[0m \n\u001b[0;32m   (...)\u001b[0m\n\u001b[1;32m   4309\u001b[0m \u001b[38;5;124;03mb    2    4\u001b[39;00m\n\u001b[1;32m   4310\u001b[0m \u001b[38;5;124;03m\"\"\"\u001b[39;00m\n\u001b[1;32m   4311\u001b[0m \u001b[38;5;28;01mfrom\u001b[39;00m \u001b[38;5;21;01mpandas\u001b[39;00m\u001b[38;5;21;01m.\u001b[39;00m\u001b[38;5;21;01mcore\u001b[39;00m\u001b[38;5;21;01m.\u001b[39;00m\u001b[38;5;21;01mreshape\u001b[39;00m\u001b[38;5;21;01m.\u001b[39;00m\u001b[38;5;21;01mreshape\u001b[39;00m \u001b[38;5;28;01mimport\u001b[39;00m unstack\n\u001b[0;32m-> 4313\u001b[0m \u001b[38;5;28;01mreturn\u001b[39;00m unstack(\u001b[38;5;28mself\u001b[39m, level, fill_value)\n",
      "File \u001b[0;32m~/anaconda3/lib/python3.11/site-packages/pandas/core/reshape/reshape.py:482\u001b[0m, in \u001b[0;36munstack\u001b[0;34m(obj, level, fill_value)\u001b[0m\n\u001b[1;32m    477\u001b[0m         \u001b[38;5;28;01mreturn\u001b[39;00m obj\u001b[38;5;241m.\u001b[39mT\u001b[38;5;241m.\u001b[39mstack(dropna\u001b[38;5;241m=\u001b[39m\u001b[38;5;28;01mFalse\u001b[39;00m)\n\u001b[1;32m    478\u001b[0m \u001b[38;5;28;01melif\u001b[39;00m \u001b[38;5;129;01mnot\u001b[39;00m \u001b[38;5;28misinstance\u001b[39m(obj\u001b[38;5;241m.\u001b[39mindex, MultiIndex):\n\u001b[1;32m    479\u001b[0m     \u001b[38;5;66;03m# GH 36113\u001b[39;00m\n\u001b[1;32m    480\u001b[0m     \u001b[38;5;66;03m# Give nicer error messages when unstack a Series whose\u001b[39;00m\n\u001b[1;32m    481\u001b[0m     \u001b[38;5;66;03m# Index is not a MultiIndex.\u001b[39;00m\n\u001b[0;32m--> 482\u001b[0m     \u001b[38;5;28;01mraise\u001b[39;00m \u001b[38;5;167;01mValueError\u001b[39;00m(\n\u001b[1;32m    483\u001b[0m         \u001b[38;5;124mf\u001b[39m\u001b[38;5;124m\"\u001b[39m\u001b[38;5;124mindex must be a MultiIndex to unstack, \u001b[39m\u001b[38;5;132;01m{\u001b[39;00m\u001b[38;5;28mtype\u001b[39m(obj\u001b[38;5;241m.\u001b[39mindex)\u001b[38;5;132;01m}\u001b[39;00m\u001b[38;5;124m was passed\u001b[39m\u001b[38;5;124m\"\u001b[39m\n\u001b[1;32m    484\u001b[0m     )\n\u001b[1;32m    485\u001b[0m \u001b[38;5;28;01melse\u001b[39;00m:\n\u001b[1;32m    486\u001b[0m     \u001b[38;5;28;01mif\u001b[39;00m is_1d_only_ea_dtype(obj\u001b[38;5;241m.\u001b[39mdtype):\n",
      "\u001b[0;31mValueError\u001b[0m: index must be a MultiIndex to unstack, <class 'pandas.core.indexes.base.Index'> was passed"
     ]
    }
   ],
   "source": [
    "import matplotlib.pyplot as plt\n",
    "\n",
    "def series_plot(data, title):\n",
    "    fig, axs = plt.subplots(len(data.columns), figsize=(10, 6*len(data.columns)), sharex=True)\n",
    "    fig.suptitle(title)\n",
    "    \n",
    "    for i, equipo in enumerate(data.columns):\n",
    "        equipo_data_local = equipo_data[equipo_data['Local'] == equipo]\n",
    "        equipo_data_visitante = equipo_data[equipo_data['Visitante'] == equipo]\n",
    "        \n",
    "        axs[i].plot(equipo_data_local['Temporada'], equipo_data_local['GolesLocal'], marker='o', linestyle='-', label=f'{equipo} (Local)')\n",
    "        axs[i].plot(equipo_data_visitante['Temporada'], equipo_data_visitante['GolesVisitante'], marker='x', linestyle='--', label=f'{equipo} (Visitante)')\n",
    "        axs[i].set_ylabel('Goles Marcados')\n",
    "        axs[i].legend()\n",
    "        axs[i].grid(True)\n",
    "    \n",
    "    plt.xlabel('Temporada')\n",
    "    plt.xticks(rotation=45)\n",
    "    plt.tight_layout()\n",
    "    plt.show()\n",
    "\n",
    "serie_temporal_por_equipo_df = serie_temporal_por_equipo.unstack()\n",
    "\n",
    "series_plot(serie_temporal_por_equipo_df, 'Serie Temporal de Goles Marcados por Equipo (Por Partido)')"
   ]
  },
  {
   "cell_type": "code",
   "execution_count": null,
   "metadata": {},
   "outputs": [],
   "source": [
    "def evaluacion_modelo(test, forecast):\n",
    "    errores = test - forecast\n",
    "\n",
    "    # Métricas de evaluación\n",
    "    mse = np.mean(errores ** 2)\n",
    "    mae = np.mean(np.abs(errores))\n",
    "    rmse = np.sqrt(mse)\n",
    "    \n",
    "    # Diccionario con las métricas\n",
    "    metricas = {\n",
    "        'MSE': mse,\n",
    "        'MAE': mae,\n",
    "        'RMSE': rmse\n",
    "    }\n",
    "    \n",
    "    return metricas"
   ]
  },
  {
   "cell_type": "code",
   "execution_count": null,
   "metadata": {},
   "outputs": [
    {
     "name": "stderr",
     "output_type": "stream",
     "text": [
      "/Users/carlotasanchezgonzalez/anaconda3/lib/python3.11/site-packages/statsmodels/tsa/base/tsa_model.py:473: ValueWarning: A date index has been provided, but it has no associated frequency information and so will be ignored when e.g. forecasting.\n",
      "  self._init_dates(dates, freq)\n",
      "/Users/carlotasanchezgonzalez/anaconda3/lib/python3.11/site-packages/statsmodels/tsa/base/tsa_model.py:473: ValueWarning: A date index has been provided, but it is not monotonic and so will be ignored when e.g. forecasting.\n",
      "  self._init_dates(dates, freq)\n",
      "/Users/carlotasanchezgonzalez/anaconda3/lib/python3.11/site-packages/statsmodels/tsa/base/tsa_model.py:473: ValueWarning: A date index has been provided, but it has no associated frequency information and so will be ignored when e.g. forecasting.\n",
      "  self._init_dates(dates, freq)\n",
      "/Users/carlotasanchezgonzalez/anaconda3/lib/python3.11/site-packages/statsmodels/tsa/base/tsa_model.py:473: ValueWarning: A date index has been provided, but it is not monotonic and so will be ignored when e.g. forecasting.\n",
      "  self._init_dates(dates, freq)\n",
      "/Users/carlotasanchezgonzalez/anaconda3/lib/python3.11/site-packages/statsmodels/tsa/base/tsa_model.py:473: ValueWarning: A date index has been provided, but it has no associated frequency information and so will be ignored when e.g. forecasting.\n",
      "  self._init_dates(dates, freq)\n",
      "/Users/carlotasanchezgonzalez/anaconda3/lib/python3.11/site-packages/statsmodels/tsa/base/tsa_model.py:473: ValueWarning: A date index has been provided, but it is not monotonic and so will be ignored when e.g. forecasting.\n",
      "  self._init_dates(dates, freq)\n",
      "/Users/carlotasanchezgonzalez/anaconda3/lib/python3.11/site-packages/statsmodels/tsa/base/tsa_model.py:836: ValueWarning: No supported index is available. Prediction results will be given with an integer index beginning at `start`.\n",
      "  return get_prediction_index(\n",
      "/Users/carlotasanchezgonzalez/anaconda3/lib/python3.11/site-packages/statsmodels/tsa/base/tsa_model.py:836: FutureWarning: No supported index is available. In the next version, calling this method in a model without a supported index will result in an exception.\n",
      "  return get_prediction_index(\n"
     ]
    },
    {
     "data": {
      "text/plain": [
       "(<statsmodels.tsa.arima.model.ARIMAResultsWrapper at 0x156a13450>,\n",
       " 464    2.369016\n",
       " 465    2.379070\n",
       " 466    2.379344\n",
       " 467    2.379352\n",
       " 468    2.379352\n",
       "          ...   \n",
       " 576    2.379352\n",
       " 577    2.379352\n",
       " 578    2.379352\n",
       " 579    2.379352\n",
       " 580    2.379352\n",
       " Name: predicted_mean, Length: 117, dtype: float64)"
      ]
     },
     "execution_count": 103,
     "metadata": {},
     "output_type": "execute_result"
    }
   ],
   "source": [
    "arima_model(train, test, order=(1, 1, 1))\n"
   ]
  }
 ],
 "metadata": {
  "kernelspec": {
   "display_name": "base",
   "language": "python",
   "name": "python3"
  },
  "language_info": {
   "codemirror_mode": {
    "name": "ipython",
    "version": 3
   },
   "file_extension": ".py",
   "mimetype": "text/x-python",
   "name": "python",
   "nbconvert_exporter": "python",
   "pygments_lexer": "ipython3",
   "version": "3.11.5"
  }
 },
 "nbformat": 4,
 "nbformat_minor": 2
}
