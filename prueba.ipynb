{
 "cells": [
  {
   "cell_type": "code",
   "execution_count": 15,
   "metadata": {},
   "outputs": [
    {
     "name": "stdout",
     "output_type": "stream",
     "text": [
      "<class 'pandas.core.frame.DataFrame'>\n",
      "RangeIndex: 124 entries, 0 to 123\n",
      "Data columns (total 34 columns):\n",
      " #   Column                Non-Null Count  Dtype  \n",
      "---  ------                --------------  -----  \n",
      " 0   idPartido             124 non-null    int64  \n",
      " 1   Temporada             124 non-null    object \n",
      " 2   Ronda                 124 non-null    object \n",
      " 3   Local                 124 non-null    int64  \n",
      " 4   Visitante             124 non-null    int64  \n",
      " 5   Evento                124 non-null    object \n",
      " 6   GolesLocal            124 non-null    int64  \n",
      " 7   GolesVisitante        124 non-null    int64  \n",
      " 8   VictoriaLocal         124 non-null    int64  \n",
      " 9   Empate                124 non-null    int64  \n",
      " 10  VictoriaVisitante     124 non-null    int64  \n",
      " 11  %_Victorias_Local     124 non-null    float64\n",
      " 12  %_Empate              124 non-null    float64\n",
      " 13  %_Victoria_Visitante  124 non-null    float64\n",
      " 14  %_Equipo1_Ganado      124 non-null    float64\n",
      " 15  %_Equipo2_Ganado      124 non-null    float64\n",
      " 16  %_1_G_Temporada       124 non-null    float64\n",
      " 17  %_1_G_Temporada_L     124 non-null    float64\n",
      " 18  %_1_E_Temporada_L     124 non-null    float64\n",
      " 19  %_1_P_Temporada_L     124 non-null    float64\n",
      " 20  1_Media_G             124 non-null    float64\n",
      " 21  1_Media_G_Local       124 non-null    float64\n",
      " 22  1_Media_Goles_PP      124 non-null    float64\n",
      " 23  1_ValorJugadores      124 non-null    float64\n",
      " 24  1_MediaJugadores      124 non-null    float64\n",
      " 25  %_2_G_Temporada       124 non-null    float64\n",
      " 26  %_2_G_Temporada_L     124 non-null    float64\n",
      " 27  %_2_E_Temporada_L     124 non-null    float64\n",
      " 28  %_2_P_Temporada_L     124 non-null    float64\n",
      " 29  2_Media_G             124 non-null    float64\n",
      " 30  2_Media_G_Local       124 non-null    float64\n",
      " 31  2_Media_Goles_PP      124 non-null    float64\n",
      " 32  2_ValorJugadores      124 non-null    float64\n",
      " 33  2_MediaJugadores      124 non-null    float64\n",
      "dtypes: float64(23), int64(8), object(3)\n",
      "memory usage: 33.1+ KB\n"
     ]
    }
   ],
   "source": [
    "import pandas as pd \n",
    "\n",
    "df = pd.read_csv('cosas/champions_23_24.csv')\n",
    "df2 = pd.read_csv('cosas/champions.csv')\n",
    "df3 = pd.read_csv('cosas/df_entrenador_trayectoria.csv')\n",
    "df4 = pd.read_csv('cosas/df_entrenador.csv')\n",
    "df5 = pd.read_csv('cosas/df_equipo.csv')\n",
    "df6 = pd.read_csv('cosas/df_jugadores.csv')\n",
    "\n",
    "df7 = pd.read_csv('dataframe/champions_23_24.csv')\n",
    "df8 = pd.read_csv('dataframe/champions.csv')\n",
    "df9 = pd.read_csv('dataframe/df_entrenador_trayectoria.csv')\n",
    "df10 = pd.read_csv('dataframe/df_entrenador.csv')\n",
    "df11 = pd.read_csv('dataframe/df_equipo.csv')\n",
    "df12 = pd.read_csv('dataframe/df_jugadores.csv')\n",
    "\n",
    "df.info()\n"
   ]
  },
  {
   "cell_type": "code",
   "execution_count": 16,
   "metadata": {},
   "outputs": [
    {
     "name": "stdout",
     "output_type": "stream",
     "text": [
      "<class 'pandas.core.frame.DataFrame'>\n",
      "RangeIndex: 124 entries, 0 to 123\n",
      "Data columns (total 34 columns):\n",
      " #   Column                Non-Null Count  Dtype  \n",
      "---  ------                --------------  -----  \n",
      " 0   idPartido             124 non-null    int64  \n",
      " 1   Temporada             124 non-null    object \n",
      " 2   Ronda                 124 non-null    object \n",
      " 3   Local                 124 non-null    int64  \n",
      " 4   Visitante             124 non-null    int64  \n",
      " 5   Evento                124 non-null    object \n",
      " 6   GolesLocal            124 non-null    int64  \n",
      " 7   GolesVisitante        124 non-null    int64  \n",
      " 8   VictoriaLocal         124 non-null    int64  \n",
      " 9   Empate                124 non-null    int64  \n",
      " 10  VictoriaVisitante     124 non-null    int64  \n",
      " 11  %_Victorias_Local     124 non-null    float64\n",
      " 12  %_Empate              124 non-null    float64\n",
      " 13  %_Victoria_Visitante  124 non-null    float64\n",
      " 14  %_Equipo1_Ganado      124 non-null    float64\n",
      " 15  %_Equipo2_Ganado      124 non-null    float64\n",
      " 16  %_1_G_Temporada       124 non-null    float64\n",
      " 17  %_1_G_Temporada_L     124 non-null    float64\n",
      " 18  %_1_E_Temporada_L     124 non-null    float64\n",
      " 19  %_1_P_Temporada_L     124 non-null    float64\n",
      " 20  1_Media_G             124 non-null    float64\n",
      " 21  1_Media_G_Local       124 non-null    float64\n",
      " 22  1_Media_Goles_PP      124 non-null    float64\n",
      " 23  1_ValorJugadores      124 non-null    float64\n",
      " 24  1_MediaJugadores      124 non-null    float64\n",
      " 25  %_2_G_Temporada       124 non-null    float64\n",
      " 26  %_2_G_Temporada_L     124 non-null    float64\n",
      " 27  %_2_E_Temporada_L     124 non-null    float64\n",
      " 28  %_2_P_Temporada_L     124 non-null    float64\n",
      " 29  2_Media_G             124 non-null    float64\n",
      " 30  2_Media_G_Local       124 non-null    float64\n",
      " 31  2_Media_Goles_PP      124 non-null    float64\n",
      " 32  2_ValorJugadores      124 non-null    float64\n",
      " 33  2_MediaJugadores      124 non-null    float64\n",
      "dtypes: float64(23), int64(8), object(3)\n",
      "memory usage: 33.1+ KB\n"
     ]
    }
   ],
   "source": [
    "\n",
    "\n",
    "df7.info()\n"
   ]
  },
  {
   "cell_type": "code",
   "execution_count": 17,
   "metadata": {},
   "outputs": [
    {
     "name": "stdout",
     "output_type": "stream",
     "text": [
      "<class 'pandas.core.frame.DataFrame'>\n",
      "RangeIndex: 2494 entries, 0 to 2493\n",
      "Data columns (total 34 columns):\n",
      " #   Column                Non-Null Count  Dtype  \n",
      "---  ------                --------------  -----  \n",
      " 0   idPartido             2494 non-null   int64  \n",
      " 1   Temporada             2494 non-null   object \n",
      " 2   Ronda                 2494 non-null   object \n",
      " 3   Local                 2494 non-null   int64  \n",
      " 4   Visitante             2494 non-null   int64  \n",
      " 5   Evento                2494 non-null   object \n",
      " 6   GolesLocal            2494 non-null   int64  \n",
      " 7   GolesVisitante        2494 non-null   int64  \n",
      " 8   VictoriaLocal         2494 non-null   int64  \n",
      " 9   Empate                2494 non-null   int64  \n",
      " 10  VictoriaVisitante     2494 non-null   int64  \n",
      " 11  %_Victorias_Local     2494 non-null   float64\n",
      " 12  %_Empate              2494 non-null   float64\n",
      " 13  %_Victoria_Visitante  2494 non-null   float64\n",
      " 14  %_Equipo1_Ganado      2494 non-null   float64\n",
      " 15  %_Equipo2_Ganado      2494 non-null   float64\n",
      " 16  %_1_G_Temporada       2494 non-null   float64\n",
      " 17  %_1_G_Temporada_L     2494 non-null   float64\n",
      " 18  %_1_E_Temporada_L     2494 non-null   float64\n",
      " 19  %_1_P_Temporada_L     2494 non-null   float64\n",
      " 20  1_Media_G             2494 non-null   float64\n",
      " 21  1_Media_G_Local       2494 non-null   float64\n",
      " 22  1_Media_Goles_PP      2494 non-null   float64\n",
      " 23  1_ValorJugadores      2494 non-null   float64\n",
      " 24  1_MediaJugadores      2494 non-null   float64\n",
      " 25  %_2_G_Temporada       2494 non-null   float64\n",
      " 26  %_2_G_Temporada_L     2494 non-null   float64\n",
      " 27  %_2_E_Temporada_L     2494 non-null   float64\n",
      " 28  %_2_P_Temporada_L     2494 non-null   float64\n",
      " 29  2_Media_G             2494 non-null   float64\n",
      " 30  2_Media_G_Local       2494 non-null   float64\n",
      " 31  2_Media_Goles_PP      2494 non-null   float64\n",
      " 32  2_ValorJugadores      2494 non-null   float64\n",
      " 33  2_MediaJugadores      2494 non-null   float64\n",
      "dtypes: float64(23), int64(8), object(3)\n",
      "memory usage: 662.6+ KB\n"
     ]
    }
   ],
   "source": [
    "df2.info()\n"
   ]
  },
  {
   "cell_type": "code",
   "execution_count": 18,
   "metadata": {},
   "outputs": [
    {
     "name": "stdout",
     "output_type": "stream",
     "text": [
      "<class 'pandas.core.frame.DataFrame'>\n",
      "RangeIndex: 2494 entries, 0 to 2493\n",
      "Data columns (total 34 columns):\n",
      " #   Column                Non-Null Count  Dtype  \n",
      "---  ------                --------------  -----  \n",
      " 0   idPartido             2494 non-null   int64  \n",
      " 1   Temporada             2494 non-null   object \n",
      " 2   Ronda                 2494 non-null   object \n",
      " 3   Local                 2494 non-null   int64  \n",
      " 4   Visitante             2494 non-null   int64  \n",
      " 5   Evento                2494 non-null   object \n",
      " 6   GolesLocal            2494 non-null   int64  \n",
      " 7   GolesVisitante        2494 non-null   int64  \n",
      " 8   VictoriaLocal         2494 non-null   int64  \n",
      " 9   Empate                2494 non-null   int64  \n",
      " 10  VictoriaVisitante     2494 non-null   int64  \n",
      " 11  %_Victorias_Local     2494 non-null   float64\n",
      " 12  %_Empate              2494 non-null   float64\n",
      " 13  %_Victoria_Visitante  2494 non-null   float64\n",
      " 14  %_Equipo1_Ganado      2494 non-null   float64\n",
      " 15  %_Equipo2_Ganado      2494 non-null   float64\n",
      " 16  %_1_G_Temporada       2494 non-null   float64\n",
      " 17  %_1_G_Temporada_L     2494 non-null   float64\n",
      " 18  %_1_E_Temporada_L     2494 non-null   float64\n",
      " 19  %_1_P_Temporada_L     2494 non-null   float64\n",
      " 20  1_Media_G             2494 non-null   float64\n",
      " 21  1_Media_G_Local       2494 non-null   float64\n",
      " 22  1_Media_Goles_PP      2494 non-null   float64\n",
      " 23  1_ValorJugadores      2494 non-null   float64\n",
      " 24  1_MediaJugadores      2494 non-null   float64\n",
      " 25  %_2_G_Temporada       2494 non-null   float64\n",
      " 26  %_2_G_Temporada_L     2494 non-null   float64\n",
      " 27  %_2_E_Temporada_L     2494 non-null   float64\n",
      " 28  %_2_P_Temporada_L     2494 non-null   float64\n",
      " 29  2_Media_G             2494 non-null   float64\n",
      " 30  2_Media_G_Local       2494 non-null   float64\n",
      " 31  2_Media_Goles_PP      2494 non-null   float64\n",
      " 32  2_ValorJugadores      2494 non-null   float64\n",
      " 33  2_MediaJugadores      2494 non-null   float64\n",
      "dtypes: float64(23), int64(8), object(3)\n",
      "memory usage: 662.6+ KB\n"
     ]
    }
   ],
   "source": [
    "df8.info()\n"
   ]
  },
  {
   "cell_type": "code",
   "execution_count": 19,
   "metadata": {},
   "outputs": [
    {
     "name": "stdout",
     "output_type": "stream",
     "text": [
      "<class 'pandas.core.frame.DataFrame'>\n",
      "RangeIndex: 2119 entries, 0 to 2118\n",
      "Data columns (total 7 columns):\n",
      " #   Column        Non-Null Count  Dtype \n",
      "---  ------        --------------  ----- \n",
      " 0   idEntrenador  2119 non-null   int64 \n",
      " 1   Temporada     2119 non-null   object\n",
      " 2   Equipo        2119 non-null   int64 \n",
      " 3   PJ            2119 non-null   int64 \n",
      " 4   PG            2119 non-null   int64 \n",
      " 5   PE            2119 non-null   int64 \n",
      " 6   PP            2119 non-null   int64 \n",
      "dtypes: int64(6), object(1)\n",
      "memory usage: 116.0+ KB\n"
     ]
    }
   ],
   "source": [
    "df3.info()\n"
   ]
  },
  {
   "cell_type": "code",
   "execution_count": 20,
   "metadata": {},
   "outputs": [
    {
     "name": "stdout",
     "output_type": "stream",
     "text": [
      "<class 'pandas.core.frame.DataFrame'>\n",
      "RangeIndex: 2119 entries, 0 to 2118\n",
      "Data columns (total 7 columns):\n",
      " #   Column        Non-Null Count  Dtype \n",
      "---  ------        --------------  ----- \n",
      " 0   idEntrenador  2119 non-null   int64 \n",
      " 1   Temporada     2119 non-null   object\n",
      " 2   Equipo        2119 non-null   int64 \n",
      " 3   PJ            2119 non-null   int64 \n",
      " 4   PG            2119 non-null   int64 \n",
      " 5   PE            2119 non-null   int64 \n",
      " 6   PP            2119 non-null   int64 \n",
      "dtypes: int64(6), object(1)\n",
      "memory usage: 116.0+ KB\n"
     ]
    }
   ],
   "source": [
    "df9.info()\n"
   ]
  },
  {
   "cell_type": "code",
   "execution_count": 21,
   "metadata": {},
   "outputs": [
    {
     "name": "stdout",
     "output_type": "stream",
     "text": [
      "<class 'pandas.core.frame.DataFrame'>\n",
      "RangeIndex: 250 entries, 0 to 249\n",
      "Data columns (total 9 columns):\n",
      " #   Column        Non-Null Count  Dtype \n",
      "---  ------        --------------  ----- \n",
      " 0   idEntrenador  250 non-null    int64 \n",
      " 1   Apodo         250 non-null    object\n",
      " 2   Nombre        250 non-null    object\n",
      " 3   T             250 non-null    int64 \n",
      " 4   PJ            250 non-null    int64 \n",
      " 5   PG            250 non-null    int64 \n",
      " 6   PE            250 non-null    int64 \n",
      " 7   PP            250 non-null    int64 \n",
      " 8   %             250 non-null    object\n",
      "dtypes: int64(6), object(3)\n",
      "memory usage: 17.7+ KB\n"
     ]
    }
   ],
   "source": [
    "df4.info()\n"
   ]
  },
  {
   "cell_type": "code",
   "execution_count": 22,
   "metadata": {},
   "outputs": [
    {
     "name": "stdout",
     "output_type": "stream",
     "text": [
      "<class 'pandas.core.frame.DataFrame'>\n",
      "RangeIndex: 250 entries, 0 to 249\n",
      "Data columns (total 9 columns):\n",
      " #   Column        Non-Null Count  Dtype \n",
      "---  ------        --------------  ----- \n",
      " 0   idEntrenador  250 non-null    int64 \n",
      " 1   Apodo         250 non-null    object\n",
      " 2   Nombre        250 non-null    object\n",
      " 3   T             250 non-null    int64 \n",
      " 4   PJ            250 non-null    int64 \n",
      " 5   PG            250 non-null    int64 \n",
      " 6   PE            250 non-null    int64 \n",
      " 7   PP            250 non-null    int64 \n",
      " 8   %             250 non-null    object\n",
      "dtypes: int64(6), object(3)\n",
      "memory usage: 17.7+ KB\n"
     ]
    }
   ],
   "source": [
    "df10.info()\n"
   ]
  },
  {
   "cell_type": "code",
   "execution_count": 23,
   "metadata": {},
   "outputs": [
    {
     "name": "stdout",
     "output_type": "stream",
     "text": [
      "<class 'pandas.core.frame.DataFrame'>\n",
      "RangeIndex: 553 entries, 0 to 552\n",
      "Data columns (total 19 columns):\n",
      " #   Column    Non-Null Count  Dtype \n",
      "---  ------    --------------  ----- \n",
      " 0   idEquipo  553 non-null    int64 \n",
      " 1   Nombre    553 non-null    object\n",
      " 2   Pais      553 non-null    object\n",
      " 3   T         553 non-null    int64 \n",
      " 4   PJ        553 non-null    int64 \n",
      " 5   PG        553 non-null    int64 \n",
      " 6   PE        553 non-null    int64 \n",
      " 7   PP        553 non-null    int64 \n",
      " 8   %         553 non-null    object\n",
      " 9   Títulos   553 non-null    int64 \n",
      " 10  F         553 non-null    int64 \n",
      " 11  1/2       553 non-null    int64 \n",
      " 12  1/4       553 non-null    int64 \n",
      " 13  1/8       553 non-null    int64 \n",
      " 14  1/16      553 non-null    int64 \n",
      " 15  GF        553 non-null    int64 \n",
      " 16  GC        553 non-null    int64 \n",
      " 17  TA        553 non-null    int64 \n",
      " 18  TR        553 non-null    int64 \n",
      "dtypes: int64(16), object(3)\n",
      "memory usage: 82.2+ KB\n"
     ]
    }
   ],
   "source": [
    "df5.info()\n"
   ]
  },
  {
   "cell_type": "code",
   "execution_count": 24,
   "metadata": {},
   "outputs": [
    {
     "name": "stdout",
     "output_type": "stream",
     "text": [
      "<class 'pandas.core.frame.DataFrame'>\n",
      "RangeIndex: 553 entries, 0 to 552\n",
      "Data columns (total 19 columns):\n",
      " #   Column    Non-Null Count  Dtype \n",
      "---  ------    --------------  ----- \n",
      " 0   idEquipo  553 non-null    int64 \n",
      " 1   Nombre    553 non-null    object\n",
      " 2   Pais      553 non-null    object\n",
      " 3   T         553 non-null    int64 \n",
      " 4   PJ        553 non-null    int64 \n",
      " 5   PG        553 non-null    int64 \n",
      " 6   PE        553 non-null    int64 \n",
      " 7   PP        553 non-null    int64 \n",
      " 8   %         553 non-null    object\n",
      " 9   Títulos   553 non-null    int64 \n",
      " 10  F         553 non-null    int64 \n",
      " 11  1/2       553 non-null    int64 \n",
      " 12  1/4       553 non-null    int64 \n",
      " 13  1/8       553 non-null    int64 \n",
      " 14  1/16      553 non-null    int64 \n",
      " 15  GF        553 non-null    int64 \n",
      " 16  GC        553 non-null    int64 \n",
      " 17  TA        553 non-null    int64 \n",
      " 18  TR        553 non-null    int64 \n",
      "dtypes: int64(16), object(3)\n",
      "memory usage: 82.2+ KB\n"
     ]
    }
   ],
   "source": [
    "df11.info()\n"
   ]
  },
  {
   "cell_type": "code",
   "execution_count": 25,
   "metadata": {},
   "outputs": [
    {
     "name": "stdout",
     "output_type": "stream",
     "text": [
      "<class 'pandas.core.frame.DataFrame'>\n",
      "RangeIndex: 20280 entries, 0 to 20279\n",
      "Data columns (total 20 columns):\n",
      " #   Column      Non-Null Count  Dtype  \n",
      "---  ------      --------------  -----  \n",
      " 0   Temporada   20280 non-null  object \n",
      " 1   idJugador   20280 non-null  int64  \n",
      " 2   Jugador     20280 non-null  object \n",
      " 3   Equipo      20280 non-null  int64  \n",
      " 4   Edad        20280 non-null  float64\n",
      " 5   PJ          20280 non-null  int64  \n",
      " 6   Titular     20280 non-null  int64  \n",
      " 7   Mín         20280 non-null  float64\n",
      " 8   Gls.        20280 non-null  int64  \n",
      " 9   Ass         20280 non-null  float64\n",
      " 10  TP          20280 non-null  float64\n",
      " 11  TPint       20280 non-null  float64\n",
      " 12  TA          20280 non-null  int64  \n",
      " 13  TR          20280 non-null  int64  \n",
      " 14  xG          20280 non-null  float64\n",
      " 15  npxG        20280 non-null  float64\n",
      " 16  PrgC        20280 non-null  float64\n",
      " 17  PrgP        20280 non-null  float64\n",
      " 18  PrgR        20280 non-null  float64\n",
      " 19  Valoracion  20280 non-null  float64\n",
      "dtypes: float64(11), int64(7), object(2)\n",
      "memory usage: 3.1+ MB\n"
     ]
    }
   ],
   "source": [
    "df6.info()\n"
   ]
  },
  {
   "cell_type": "code",
   "execution_count": 26,
   "metadata": {},
   "outputs": [
    {
     "name": "stdout",
     "output_type": "stream",
     "text": [
      "<class 'pandas.core.frame.DataFrame'>\n",
      "RangeIndex: 20280 entries, 0 to 20279\n",
      "Data columns (total 22 columns):\n",
      " #   Column      Non-Null Count  Dtype  \n",
      "---  ------      --------------  -----  \n",
      " 0   Temporada   20280 non-null  object \n",
      " 1   idJugador   20280 non-null  int64  \n",
      " 2   Jugador     20280 non-null  object \n",
      " 3   País        20280 non-null  object \n",
      " 4   Posc        20280 non-null  object \n",
      " 5   Equipo      20280 non-null  int64  \n",
      " 6   Edad        20280 non-null  float64\n",
      " 7   PJ          20280 non-null  int64  \n",
      " 8   Titular     20280 non-null  int64  \n",
      " 9   Mín         20280 non-null  float64\n",
      " 10  Gls.        20280 non-null  int64  \n",
      " 11  Ass         20280 non-null  float64\n",
      " 12  TP          20280 non-null  float64\n",
      " 13  TPint       20280 non-null  float64\n",
      " 14  TA          20280 non-null  int64  \n",
      " 15  TR          20280 non-null  int64  \n",
      " 16  xG          20280 non-null  float64\n",
      " 17  npxG        20280 non-null  float64\n",
      " 18  PrgC        20280 non-null  float64\n",
      " 19  PrgP        20280 non-null  float64\n",
      " 20  PrgR        20280 non-null  float64\n",
      " 21  Valoracion  20280 non-null  float64\n",
      "dtypes: float64(11), int64(7), object(4)\n",
      "memory usage: 3.4+ MB\n"
     ]
    }
   ],
   "source": [
    "df12.info()"
   ]
  }
 ],
 "metadata": {
  "kernelspec": {
   "display_name": "base",
   "language": "python",
   "name": "python3"
  },
  "language_info": {
   "codemirror_mode": {
    "name": "ipython",
    "version": 3
   },
   "file_extension": ".py",
   "mimetype": "text/x-python",
   "name": "python",
   "nbconvert_exporter": "python",
   "pygments_lexer": "ipython3",
   "version": "3.11.5"
  }
 },
 "nbformat": 4,
 "nbformat_minor": 2
}
