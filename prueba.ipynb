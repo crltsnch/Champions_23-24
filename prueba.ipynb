{
 "cells": [
  {
   "cell_type": "code",
   "execution_count": 15,
   "metadata": {},
   "outputs": [
    {
     "name": "stdout",
     "output_type": "stream",
     "text": [
      "Epoch 1/10\n"
     ]
    },
    {
     "name": "stderr",
     "output_type": "stream",
     "text": [
      "/Users/carlotasanchezgonzalez/anaconda3/lib/python3.11/site-packages/keras/src/layers/reshaping/reshape.py:39: UserWarning: Do not pass an `input_shape`/`input_dim` argument to a layer. When using Sequential models, prefer using an `Input(shape)` object as the first layer in the model instead.\n",
      "  super().__init__(**kwargs)\n"
     ]
    },
    {
     "name": "stdout",
     "output_type": "stream",
     "text": [
      "\u001b[1m50/50\u001b[0m \u001b[32m━━━━━━━━━━━━━━━━━━━━\u001b[0m\u001b[37m\u001b[0m \u001b[1m1s\u001b[0m 2ms/step - accuracy: 0.4869 - loss: 1.0149 - val_accuracy: 0.5886 - val_loss: 0.9138\n",
      "Epoch 2/10\n",
      "\u001b[1m50/50\u001b[0m \u001b[32m━━━━━━━━━━━━━━━━━━━━\u001b[0m\u001b[37m\u001b[0m \u001b[1m0s\u001b[0m 1ms/step - accuracy: 0.5960 - loss: 0.9157 - val_accuracy: 0.5943 - val_loss: 0.8981\n",
      "Epoch 3/10\n",
      "\u001b[1m50/50\u001b[0m \u001b[32m━━━━━━━━━━━━━━━━━━━━\u001b[0m\u001b[37m\u001b[0m \u001b[1m0s\u001b[0m 1ms/step - accuracy: 0.6001 - loss: 0.8943 - val_accuracy: 0.5771 - val_loss: 0.8991\n",
      "Epoch 4/10\n",
      "\u001b[1m50/50\u001b[0m \u001b[32m━━━━━━━━━━━━━━━━━━━━\u001b[0m\u001b[37m\u001b[0m \u001b[1m0s\u001b[0m 1ms/step - accuracy: 0.6653 - loss: 0.8291 - val_accuracy: 0.6171 - val_loss: 0.9160\n",
      "Epoch 5/10\n",
      "\u001b[1m50/50\u001b[0m \u001b[32m━━━━━━━━━━━━━━━━━━━━\u001b[0m\u001b[37m\u001b[0m \u001b[1m0s\u001b[0m 1ms/step - accuracy: 0.6281 - loss: 0.8694 - val_accuracy: 0.6286 - val_loss: 0.8792\n",
      "Epoch 6/10\n",
      "\u001b[1m50/50\u001b[0m \u001b[32m━━━━━━━━━━━━━━━━━━━━\u001b[0m\u001b[37m\u001b[0m \u001b[1m0s\u001b[0m 1ms/step - accuracy: 0.6168 - loss: 0.8470 - val_accuracy: 0.6057 - val_loss: 0.8783\n",
      "Epoch 7/10\n",
      "\u001b[1m50/50\u001b[0m \u001b[32m━━━━━━━━━━━━━━━━━━━━\u001b[0m\u001b[37m\u001b[0m \u001b[1m0s\u001b[0m 1ms/step - accuracy: 0.6343 - loss: 0.8314 - val_accuracy: 0.6229 - val_loss: 0.8710\n",
      "Epoch 8/10\n",
      "\u001b[1m50/50\u001b[0m \u001b[32m━━━━━━━━━━━━━━━━━━━━\u001b[0m\u001b[37m\u001b[0m \u001b[1m0s\u001b[0m 3ms/step - accuracy: 0.6555 - loss: 0.8322 - val_accuracy: 0.5943 - val_loss: 0.8733\n",
      "Epoch 9/10\n",
      "\u001b[1m50/50\u001b[0m \u001b[32m━━━━━━━━━━━━━━━━━━━━\u001b[0m\u001b[37m\u001b[0m \u001b[1m0s\u001b[0m 1ms/step - accuracy: 0.6626 - loss: 0.7974 - val_accuracy: 0.6057 - val_loss: 0.8914\n",
      "Epoch 10/10\n",
      "\u001b[1m50/50\u001b[0m \u001b[32m━━━━━━━━━━━━━━━━━━━━\u001b[0m\u001b[37m\u001b[0m \u001b[1m0s\u001b[0m 1ms/step - accuracy: 0.6460 - loss: 0.7976 - val_accuracy: 0.6057 - val_loss: 0.8988\n",
      "\u001b[1m24/24\u001b[0m \u001b[32m━━━━━━━━━━━━━━━━━━━━\u001b[0m\u001b[37m\u001b[0m \u001b[1m0s\u001b[0m 478us/step - accuracy: 0.6428 - loss: 0.8539\n",
      "Accuracy: 0.6408544778823853\n"
     ]
    }
   ],
   "source": [
    "import pandas as pd\n",
    "import numpy as np\n",
    "import tensorflow as tf\n",
    "from sklearn.model_selection import train_test_split\n",
    "from sklearn.preprocessing import StandardScaler\n",
    "\n",
    "# Cargar los datos\n",
    "data = pd.read_csv(\"dataframe/champions.csv\")\n",
    "\n",
    "data = pd.get_dummies(data, columns=['Ronda'])\n",
    "# Eliminar columnas irrelevantes\n",
    "data = data.drop(['idPartido', 'Temporada', 'Evento', 'GolesLocal', 'GolesVisitante'], axis=1)\n",
    "data.head()\n",
    "\n",
    "# Codificar variables categóricas si es necesario\n",
    "\n",
    "# Separar características y etiquetas\n",
    "X = data.drop(['VictoriaLocal', 'Empate', 'VictoriaVisitante'], axis=1)\n",
    "y = data[['VictoriaLocal', 'Empate', 'VictoriaVisitante']]\n",
    "\n",
    "# Escalar características\n",
    "scaler = StandardScaler()\n",
    "X_scaled = scaler.fit_transform(X)\n",
    "\n",
    "# Dividir los datos en conjuntos de entrenamiento y prueba\n",
    "X_train, X_test, y_train, y_test = train_test_split(X_scaled, y, test_size=0.3, random_state=42)\n",
    "\n",
    "# Convertir los datos a tensores\n",
    "X_train = tf.convert_to_tensor(X_train, dtype=tf.float32)\n",
    "X_test = tf.convert_to_tensor(X_test, dtype=tf.float32)\n",
    "y_train = tf.convert_to_tensor(y_train.values, dtype=tf.float32)\n",
    "y_test = tf.convert_to_tensor(y_test.values, dtype=tf.float32)\n",
    "\n",
    "# Definir el modelo de redes neuronales convolucionales\n",
    "model = tf.keras.Sequential([\n",
    "    tf.keras.layers.Reshape((X_train.shape[1], 1), input_shape=(X_train.shape[1],)),\n",
    "    tf.keras.layers.Conv1D(32, 3, activation='relu'),\n",
    "    tf.keras.layers.MaxPooling1D(),\n",
    "    tf.keras.layers.Flatten(),\n",
    "    tf.keras.layers.Dense(128, activation='relu'),\n",
    "    tf.keras.layers.Dense(3, activation='softmax')  # Tres clases: VictoriaLocal, Empate, VictoriaVisitante\n",
    "])\n",
    "\n",
    "# Compilar el modelo\n",
    "model.compile(optimizer='adam',\n",
    "              loss='categorical_crossentropy',\n",
    "              metrics=['accuracy'])\n",
    "\n",
    "# Entrenar el modelo\n",
    "model.fit(X_train, y_train, epochs=10, batch_size=32, validation_split=0.1)\n",
    "\n",
    "# Evaluar el modelo\n",
    "loss, accuracy = model.evaluate(X_test, y_test)\n",
    "print(\"Accuracy:\", accuracy)\n"
   ]
  },
  {
   "cell_type": "code",
   "execution_count": 16,
   "metadata": {},
   "outputs": [],
   "source": [
    "# Guardar el modelo\n",
    "tf.keras.models.save_model(model, 'modelos/modelo_redes_CNN.keras')\n"
   ]
  },
  {
   "cell_type": "code",
   "execution_count": 17,
   "metadata": {},
   "outputs": [],
   "source": [
    "model = tf.keras.models.load_model(\"modelos/modelo_redes_CNN.keras\")"
   ]
  },
  {
   "cell_type": "code",
   "execution_count": 18,
   "metadata": {},
   "outputs": [
    {
     "data": {
      "text/plain": [
       "TensorShape([8, 30])"
      ]
     },
     "execution_count": 18,
     "metadata": {},
     "output_type": "execute_result"
    }
   ],
   "source": [
    "# Cargar los datos\n",
    "df = pd.read_csv(\"dataframe/champions_23_24.csv\")\n",
    "\n",
    "df = pd.get_dummies(df, columns=['Ronda'])\n",
    "df['Ronda_Semi-finals'] = False\n",
    "df['Ronda_Final'] = False\n",
    "\n",
    "# Quedarnos solo con las filas de cuartos de final\n",
    "cuartos_final = df[(df['Ronda_Quarter-finals'] == 1) & (df['Temporada'] == '2023-01-01')]\n",
    "\n",
    "# Eliminar columnas irrelevantes\n",
    "cuartos_final = cuartos_final.drop(['idPartido', 'Temporada', 'Evento', 'GolesLocal', 'GolesVisitante', 'VictoriaLocal', 'VictoriaVisitante', 'Empate'], axis=1)\n",
    "\n",
    "# Escalar características (utilizamos transform en lugar de fit_transform)\n",
    "# Ajustar el escalador a los datos de entrenamiento y luego transformar los datos de cuartos de final\n",
    "X_cuartos_final = scaler.fit_transform(cuartos_final)\n",
    "\n",
    "\n",
    "# Convertir los datos a tensores\n",
    "X_cuartos_final = tf.convert_to_tensor(X_cuartos_final, dtype=tf.float32)\n",
    "\n",
    "X_cuartos_final.shape\n",
    "\n"
   ]
  },
  {
   "cell_type": "code",
   "execution_count": 19,
   "metadata": {},
   "outputs": [
    {
     "name": "stdout",
     "output_type": "stream",
     "text": [
      "\u001b[1m1/1\u001b[0m \u001b[32m━━━━━━━━━━━━━━━━━━━━\u001b[0m\u001b[37m\u001b[0m \u001b[1m0s\u001b[0m 36ms/step\n",
      "31 vs 3:\n",
      "Probabilidad de que 31 avance: 0.42\n",
      "Probabilidad de empate: 0.26\n",
      "Probabilidad de que 3 avance: 0.33\n",
      "24 vs 14:\n",
      "Probabilidad de que 24 avance: 0.73\n",
      "Probabilidad de empate: 0.17\n",
      "Probabilidad de que 14 avance: 0.10\n",
      "5 vs 28:\n",
      "Probabilidad de que 5 avance: 0.04\n",
      "Probabilidad de empate: 0.08\n",
      "Probabilidad de que 28 avance: 0.88\n",
      "16 vs 1:\n",
      "Probabilidad de que 16 avance: 0.56\n",
      "Probabilidad de empate: 0.24\n",
      "Probabilidad de que 1 avance: 0.20\n",
      "Cuartos de final:\n",
      "31 vs 3: 31 avanza\n",
      "24 vs 14: 24 avanza\n",
      "5 vs 28: 28 avanza\n",
      "16 vs 1: 16 avanza\n"
     ]
    }
   ],
   "source": [
    "# Hacer predicciones\n",
    "predicciones_cuartos = model.predict(X_cuartos_final)\n",
    "\n",
    "# Determinar qué equipos avanzan a las semifinales\n",
    "equipos_semifinal = []\n",
    "for i in range(0, len(predicciones_cuartos), 2):\n",
    "    prob_eq1_gana = predicciones_cuartos[i][0]\n",
    "    prob_empate = predicciones_cuartos[i][1]\n",
    "    prob_eq2_gana = predicciones_cuartos[i][2]\n",
    "     \n",
    "    equipo_local = cuartos_final.iloc[i]['Local']\n",
    "    equipo_visitante = cuartos_final.iloc[i]['Visitante']\n",
    "    \n",
    "    print(f\"{equipo_local} vs {equipo_visitante}:\")\n",
    "    print(f\"Probabilidad de que {equipo_local} avance: {prob_eq1_gana:.2f}\")\n",
    "    print(f\"Probabilidad de empate: {prob_empate:.2f}\")\n",
    "    print(f\"Probabilidad de que {equipo_visitante} avance: {prob_eq2_gana:.2f}\")\n",
    "    \n",
    "    if prob_eq1_gana > prob_eq2_gana:\n",
    "        equipos_semifinal.append(equipo_local)\n",
    "    elif prob_eq2_gana > prob_eq1_gana:\n",
    "        equipos_semifinal.append(equipo_visitante)\n",
    "    else:\n",
    "        equipos_semifinal.append(\"Empate\")\n",
    "\n",
    "# Imprimir el cuadro de fases de resultados de partidos\n",
    "print(\"Cuartos de final:\")\n",
    "for i in range(0, len(cuartos_final), 2):\n",
    "    print(f\"{cuartos_final.iloc[i]['Local']} vs {cuartos_final.iloc[i]['Visitante']}: {equipos_semifinal[i//2]} avanza\")"
   ]
  },
  {
   "cell_type": "code",
   "execution_count": 20,
   "metadata": {},
   "outputs": [
    {
     "name": "stdout",
     "output_type": "stream",
     "text": [
      "Semifinales:\n",
      "24 vs 28:\n",
      "Probabilidad de que 24 avance: 0.14\n",
      "Probabilidad de empate: 0.15\n",
      "Probabilidad de que 28 avance: 0.71\n",
      "Resultado: 28 avanza\n",
      "\n",
      "31 vs 16:\n",
      "Probabilidad de que 31 avance: 0.01\n",
      "Probabilidad de empate: 0.20\n",
      "Probabilidad de que 16 avance: 0.78\n",
      "Resultado: 16 avanza\n",
      "\n"
     ]
    }
   ],
   "source": [
    "# Hacer predicciones para las semifinales basadas en los equipos que avanzaron de los cuartos de final\n",
    "# Definir enfrentamientos de las semifinales basados en los equipos que avanzaron de los cuartos de final\n",
    "\n",
    "enfrentamientos_semifinal = [(equipos_semifinal[1], equipos_semifinal[2]), (equipos_semifinal[0], equipos_semifinal[3])]\n",
    "predicciones_semifinal = []\n",
    "equipos_final = []\n",
    "\n",
    "for enfrentamiento in enfrentamientos_semifinal:\n",
    "    equipo1 = enfrentamiento[0]\n",
    "    equipo2 = enfrentamiento[1]\n",
    "    indice_equipo1 = equipos_semifinal.index(equipo1)\n",
    "    indice_equipo2 = equipos_semifinal.index(equipo2)\n",
    "    \n",
    "    # Suponiendo que 'predicciones_cuartos' contiene las predicciones para los cuartos de final\n",
    "    prob_eq1_gana = predicciones_cuartos[indice_equipo1][0]\n",
    "    prob_empate = predicciones_cuartos[indice_equipo1][1]\n",
    "    prob_eq2_gana = predicciones_cuartos[indice_equipo1][2]\n",
    "    \n",
    "    prob_eq1_gana_oponente = predicciones_cuartos[indice_equipo2][0]\n",
    "    prob_empate_oponente = predicciones_cuartos[indice_equipo2][1]\n",
    "    prob_eq2_gana_oponente = predicciones_cuartos[indice_equipo2][2]\n",
    "    \n",
    "    # Simular el enfrentamiento\n",
    "    prob_eq1_gana_semifinal = prob_eq1_gana * prob_eq2_gana_oponente\n",
    "    prob_empate_semifinal = prob_empate * prob_empate_oponente\n",
    "    prob_eq2_gana_semifinal = prob_eq2_gana * prob_eq1_gana_oponente\n",
    "\n",
    "    # Normalizar las probabilidades para asegurar que sumen 1\n",
    "    total_probabilidades = prob_eq1_gana_semifinal + prob_empate_semifinal + prob_eq2_gana_semifinal\n",
    "    prob_eq1_gana_semifinal /= total_probabilidades\n",
    "    prob_empate_semifinal /= total_probabilidades\n",
    "    prob_eq2_gana_semifinal /= total_probabilidades\n",
    "    \n",
    "    predicciones_semifinal.append([prob_eq1_gana_semifinal, prob_empate_semifinal, prob_eq2_gana_semifinal])\n",
    "\n",
    "# Imprimir las probabilidades y los resultados de los enfrentamientos de las semifinales\n",
    "print(\"Semifinales:\")\n",
    "for i, enfrentamiento in enumerate(enfrentamientos_semifinal):\n",
    "    equipo1 = enfrentamiento[0]\n",
    "    equipo2 = enfrentamiento[1]\n",
    "    prob_eq1_gana = predicciones_semifinal[i][0]\n",
    "    prob_empate = predicciones_semifinal[i][1]\n",
    "    prob_eq2_gana = predicciones_semifinal[i][2]\n",
    "    \n",
    "    print(f\"{equipo1} vs {equipo2}:\")\n",
    "    print(f\"Probabilidad de que {equipo1} avance: {prob_eq1_gana:.2f}\")\n",
    "    print(f\"Probabilidad de empate: {prob_empate:.2f}\")\n",
    "    print(f\"Probabilidad de que {equipo2} avance: {prob_eq2_gana:.2f}\")\n",
    "    \n",
    "    # Determinar quién avanza\n",
    "    if prob_eq1_gana > prob_eq2_gana:\n",
    "        print(f\"Resultado: {equipo1} avanza\\n\")\n",
    "        equipos_final.append(equipo1)\n",
    "    elif prob_eq2_gana > prob_eq1_gana:\n",
    "        print(f\"Resultado: {equipo2} avanza\\n\")\n",
    "        equipos_final.append(equipo2)\n",
    "    else:\n",
    "        print(\"Resultado: Empate\\n\")"
   ]
  },
  {
   "cell_type": "code",
   "execution_count": 21,
   "metadata": {},
   "outputs": [
    {
     "name": "stdout",
     "output_type": "stream",
     "text": [
      "Final:\n",
      "28 vs 16:\n",
      "Probabilidad de que 28 avance: 0.73\n",
      "Probabilidad de empate: 0.21\n",
      "Probabilidad de que 16 avance: 0.06\n",
      "Resultado: 28 gana la final\n",
      "\n"
     ]
    }
   ],
   "source": [
    "# Definir los enfrentamientos de la final basados en los equipos semifinalistas\n",
    "enfrentamiento_final = (equipos_final[0], equipos_final[1])\n",
    "\n",
    "# Suponiendo que 'predicciones_semifinal' contiene las predicciones para las semifinales\n",
    "indice_equipo1 = equipos_semifinal.index(enfrentamiento_final[0])\n",
    "indice_equipo2 = equipos_semifinal.index(enfrentamiento_final[1])\n",
    "\n",
    "# Suponiendo que 'predicciones_semifinal' contiene las predicciones para las semifinales\n",
    "prob_eq1_gana_final = predicciones_semifinal[0][0] * predicciones_semifinal[1][2]\n",
    "prob_empate_final = predicciones_semifinal[0][1] * predicciones_semifinal[1][1]\n",
    "prob_eq2_gana_final = predicciones_semifinal[0][2] * predicciones_semifinal[1][0]\n",
    "\n",
    "# Normalizar las probabilidades para asegurar que sumen 1\n",
    "total_probabilidades = prob_eq1_gana_final + prob_empate_final + prob_eq2_gana_final\n",
    "prob_eq1_gana_final /= total_probabilidades\n",
    "prob_empate_final /= total_probabilidades\n",
    "prob_eq2_gana_final /= total_probabilidades\n",
    "\n",
    "# Imprimir las probabilidades y el resultado de la final\n",
    "print(\"Final:\")\n",
    "print(f\"{enfrentamiento_final[0]} vs {enfrentamiento_final[1]}:\")\n",
    "print(f\"Probabilidad de que {enfrentamiento_final[0]} avance: {prob_eq1_gana_final:.2f}\")\n",
    "print(f\"Probabilidad de empate: {prob_empate_final:.2f}\")\n",
    "print(f\"Probabilidad de que {enfrentamiento_final[1]} avance: {prob_eq2_gana_final:.2f}\")\n",
    "\n",
    "# Determinar quién gana la final\n",
    "if prob_eq1_gana_final > prob_eq2_gana_final:\n",
    "    print(f\"Resultado: {enfrentamiento_final[0]} gana la final\\n\")\n",
    "elif prob_eq2_gana_final > prob_eq1_gana_final:\n",
    "    print(f\"Resultado: {enfrentamiento_final[1]} gana la final\\n\")\n",
    "else:\n",
    "    print(\"Resultado: Empate\\n\")\n",
    "\n"
   ]
  }
 ],
 "metadata": {
  "kernelspec": {
   "display_name": "base",
   "language": "python",
   "name": "python3"
  },
  "language_info": {
   "codemirror_mode": {
    "name": "ipython",
    "version": 3
   },
   "file_extension": ".py",
   "mimetype": "text/x-python",
   "name": "python",
   "nbconvert_exporter": "python",
   "pygments_lexer": "ipython3",
   "version": "3.11.5"
  }
 },
 "nbformat": 4,
 "nbformat_minor": 2
}
