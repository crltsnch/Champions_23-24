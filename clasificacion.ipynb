{
 "cells": [
  {
   "cell_type": "code",
   "execution_count": 101,
   "metadata": {},
   "outputs": [],
   "source": [
    "import pandas as pd\n",
    "import numpy as np\n",
    "import matplotlib.pyplot as plt\n",
    "import seaborn as sns"
   ]
  },
  {
   "cell_type": "code",
   "execution_count": 102,
   "metadata": {},
   "outputs": [
    {
     "data": {
      "text/html": [
       "<div>\n",
       "<style scoped>\n",
       "    .dataframe tbody tr th:only-of-type {\n",
       "        vertical-align: middle;\n",
       "    }\n",
       "\n",
       "    .dataframe tbody tr th {\n",
       "        vertical-align: top;\n",
       "    }\n",
       "\n",
       "    .dataframe thead th {\n",
       "        text-align: right;\n",
       "    }\n",
       "</style>\n",
       "<table border=\"1\" class=\"dataframe\">\n",
       "  <thead>\n",
       "    <tr style=\"text-align: right;\">\n",
       "      <th></th>\n",
       "      <th>idPartido</th>\n",
       "      <th>Temporada</th>\n",
       "      <th>Ronda</th>\n",
       "      <th>Local</th>\n",
       "      <th>Visitante</th>\n",
       "      <th>Evento</th>\n",
       "      <th>GolesLocal</th>\n",
       "      <th>GolesVisitante</th>\n",
       "      <th>VictoriaLocal</th>\n",
       "      <th>Empate</th>\n",
       "      <th>...</th>\n",
       "      <th>%_2_G_Temporada</th>\n",
       "      <th>%_2_G_Temporada_L</th>\n",
       "      <th>%_2_E_Temporada_L</th>\n",
       "      <th>%_2_P_Temporada_L</th>\n",
       "      <th>2_Media_G</th>\n",
       "      <th>2_Media_G_Local</th>\n",
       "      <th>2_Media_Goles_PP</th>\n",
       "      <th>2_ValorJugadores</th>\n",
       "      <th>2_MediaJugadores</th>\n",
       "      <th>Victoria</th>\n",
       "    </tr>\n",
       "  </thead>\n",
       "  <tbody>\n",
       "    <tr>\n",
       "      <th>0</th>\n",
       "      <td>121</td>\n",
       "      <td>2022-01-01</td>\n",
       "      <td>Group stage</td>\n",
       "      <td>235</td>\n",
       "      <td>11</td>\n",
       "      <td>Stadion Maksimir</td>\n",
       "      <td>1</td>\n",
       "      <td>0</td>\n",
       "      <td>1</td>\n",
       "      <td>0</td>\n",
       "      <td>...</td>\n",
       "      <td>55.56</td>\n",
       "      <td>60.00</td>\n",
       "      <td>20.00</td>\n",
       "      <td>20.00</td>\n",
       "      <td>0.56</td>\n",
       "      <td>0.60</td>\n",
       "      <td>1.33</td>\n",
       "      <td>685.188968</td>\n",
       "      <td>26.353422</td>\n",
       "      <td>1</td>\n",
       "    </tr>\n",
       "    <tr>\n",
       "      <th>1</th>\n",
       "      <td>122</td>\n",
       "      <td>2022-01-01</td>\n",
       "      <td>Group stage</td>\n",
       "      <td>14</td>\n",
       "      <td>153</td>\n",
       "      <td>Signal Iduna Park</td>\n",
       "      <td>3</td>\n",
       "      <td>0</td>\n",
       "      <td>1</td>\n",
       "      <td>0</td>\n",
       "      <td>...</td>\n",
       "      <td>0.00</td>\n",
       "      <td>0.00</td>\n",
       "      <td>100.00</td>\n",
       "      <td>0.00</td>\n",
       "      <td>0.00</td>\n",
       "      <td>0.00</td>\n",
       "      <td>0.20</td>\n",
       "      <td>356.128703</td>\n",
       "      <td>14.245148</td>\n",
       "      <td>1</td>\n",
       "    </tr>\n",
       "    <tr>\n",
       "      <th>2</th>\n",
       "      <td>123</td>\n",
       "      <td>2022-01-01</td>\n",
       "      <td>Group stage</td>\n",
       "      <td>15</td>\n",
       "      <td>1</td>\n",
       "      <td>Celtic Park</td>\n",
       "      <td>0</td>\n",
       "      <td>3</td>\n",
       "      <td>0</td>\n",
       "      <td>0</td>\n",
       "      <td>...</td>\n",
       "      <td>63.64</td>\n",
       "      <td>83.33</td>\n",
       "      <td>16.67</td>\n",
       "      <td>0.00</td>\n",
       "      <td>0.64</td>\n",
       "      <td>0.83</td>\n",
       "      <td>2.09</td>\n",
       "      <td>796.271706</td>\n",
       "      <td>36.194168</td>\n",
       "      <td>2</td>\n",
       "    </tr>\n",
       "    <tr>\n",
       "      <th>3</th>\n",
       "      <td>124</td>\n",
       "      <td>2022-01-01</td>\n",
       "      <td>Group stage</td>\n",
       "      <td>10</td>\n",
       "      <td>298</td>\n",
       "      <td>Estádio do Sport Lisboa e Benfica</td>\n",
       "      <td>2</td>\n",
       "      <td>0</td>\n",
       "      <td>1</td>\n",
       "      <td>0</td>\n",
       "      <td>...</td>\n",
       "      <td>20.00</td>\n",
       "      <td>33.33</td>\n",
       "      <td>0.00</td>\n",
       "      <td>66.67</td>\n",
       "      <td>0.20</td>\n",
       "      <td>0.33</td>\n",
       "      <td>1.40</td>\n",
       "      <td>382.737487</td>\n",
       "      <td>19.136874</td>\n",
       "      <td>1</td>\n",
       "    </tr>\n",
       "    <tr>\n",
       "      <th>4</th>\n",
       "      <td>125</td>\n",
       "      <td>2022-01-01</td>\n",
       "      <td>Group stage</td>\n",
       "      <td>184</td>\n",
       "      <td>2</td>\n",
       "      <td>Red Bull Arena</td>\n",
       "      <td>1</td>\n",
       "      <td>1</td>\n",
       "      <td>0</td>\n",
       "      <td>1</td>\n",
       "      <td>...</td>\n",
       "      <td>45.45</td>\n",
       "      <td>66.67</td>\n",
       "      <td>0.00</td>\n",
       "      <td>33.33</td>\n",
       "      <td>0.45</td>\n",
       "      <td>0.67</td>\n",
       "      <td>1.27</td>\n",
       "      <td>749.233912</td>\n",
       "      <td>32.575387</td>\n",
       "      <td>3</td>\n",
       "    </tr>\n",
       "  </tbody>\n",
       "</table>\n",
       "<p>5 rows × 35 columns</p>\n",
       "</div>"
      ],
      "text/plain": [
       "   idPartido   Temporada        Ronda  Local  Visitante  \\\n",
       "0        121  2022-01-01  Group stage    235         11   \n",
       "1        122  2022-01-01  Group stage     14        153   \n",
       "2        123  2022-01-01  Group stage     15          1   \n",
       "3        124  2022-01-01  Group stage     10        298   \n",
       "4        125  2022-01-01  Group stage    184          2   \n",
       "\n",
       "                              Evento  GolesLocal  GolesVisitante  \\\n",
       "0                   Stadion Maksimir           1               0   \n",
       "1                  Signal Iduna Park           3               0   \n",
       "2                        Celtic Park           0               3   \n",
       "3  Estádio do Sport Lisboa e Benfica           2               0   \n",
       "4                     Red Bull Arena           1               1   \n",
       "\n",
       "   VictoriaLocal  Empate  ...  %_2_G_Temporada  %_2_G_Temporada_L  \\\n",
       "0              1       0  ...            55.56              60.00   \n",
       "1              1       0  ...             0.00               0.00   \n",
       "2              0       0  ...            63.64              83.33   \n",
       "3              1       0  ...            20.00              33.33   \n",
       "4              0       1  ...            45.45              66.67   \n",
       "\n",
       "   %_2_E_Temporada_L  %_2_P_Temporada_L  2_Media_G  2_Media_G_Local  \\\n",
       "0              20.00              20.00       0.56             0.60   \n",
       "1             100.00               0.00       0.00             0.00   \n",
       "2              16.67               0.00       0.64             0.83   \n",
       "3               0.00              66.67       0.20             0.33   \n",
       "4               0.00              33.33       0.45             0.67   \n",
       "\n",
       "   2_Media_Goles_PP  2_ValorJugadores  2_MediaJugadores  Victoria  \n",
       "0              1.33        685.188968         26.353422         1  \n",
       "1              0.20        356.128703         14.245148         1  \n",
       "2              2.09        796.271706         36.194168         2  \n",
       "3              1.40        382.737487         19.136874         1  \n",
       "4              1.27        749.233912         32.575387         3  \n",
       "\n",
       "[5 rows x 35 columns]"
      ]
     },
     "execution_count": 102,
     "metadata": {},
     "output_type": "execute_result"
    }
   ],
   "source": [
    "df = pd.read_csv('dataframe/champions.csv')\n",
    "\n",
    "# Crear la nueva columna \"Victoria\" en función de los resultados de los partidos 1 si ganaa el equipo local, 0 si hay empate y 2 si gana el equipo visitante\n",
    "df['Victoria'] = df.apply(lambda row: 1 if row['VictoriaLocal'] == 1 else (3 if row['Empate'] == 1 else 2), axis=1)\n",
    "\n",
    "# Visualizar las primeras filas del DataFrame para verificar los cambios\n",
    "df.head()"
   ]
  },
  {
   "cell_type": "code",
   "execution_count": 103,
   "metadata": {},
   "outputs": [],
   "source": [
    "df = df.drop(['Temporada', 'Ronda', 'Evento'], axis=1)"
   ]
  },
  {
   "cell_type": "code",
   "execution_count": 104,
   "metadata": {},
   "outputs": [
    {
     "name": "stdout",
     "output_type": "stream",
     "text": [
      "<class 'pandas.core.frame.DataFrame'>\n",
      "RangeIndex: 2494 entries, 0 to 2493\n",
      "Data columns (total 32 columns):\n",
      " #   Column                Non-Null Count  Dtype  \n",
      "---  ------                --------------  -----  \n",
      " 0   idPartido             2494 non-null   int64  \n",
      " 1   Local                 2494 non-null   int64  \n",
      " 2   Visitante             2494 non-null   int64  \n",
      " 3   GolesLocal            2494 non-null   int64  \n",
      " 4   GolesVisitante        2494 non-null   int64  \n",
      " 5   VictoriaLocal         2494 non-null   int64  \n",
      " 6   Empate                2494 non-null   int64  \n",
      " 7   VictoriaVisitante     2494 non-null   int64  \n",
      " 8   %_Victorias_Local     2494 non-null   float64\n",
      " 9   %_Empate              2494 non-null   float64\n",
      " 10  %_Victoria_Visitante  2494 non-null   float64\n",
      " 11  %_Equipo1_Ganado      2494 non-null   float64\n",
      " 12  %_Equipo2_Ganado      2494 non-null   float64\n",
      " 13  %_1_G_Temporada       2494 non-null   float64\n",
      " 14  %_1_G_Temporada_L     2494 non-null   float64\n",
      " 15  %_1_E_Temporada_L     2494 non-null   float64\n",
      " 16  %_1_P_Temporada_L     2494 non-null   float64\n",
      " 17  1_Media_G             2494 non-null   float64\n",
      " 18  1_Media_G_Local       2494 non-null   float64\n",
      " 19  1_Media_Goles_PP      2494 non-null   float64\n",
      " 20  1_ValorJugadores      2494 non-null   float64\n",
      " 21  1_MediaJugadores      2494 non-null   float64\n",
      " 22  %_2_G_Temporada       2494 non-null   float64\n",
      " 23  %_2_G_Temporada_L     2494 non-null   float64\n",
      " 24  %_2_E_Temporada_L     2494 non-null   float64\n",
      " 25  %_2_P_Temporada_L     2494 non-null   float64\n",
      " 26  2_Media_G             2494 non-null   float64\n",
      " 27  2_Media_G_Local       2494 non-null   float64\n",
      " 28  2_Media_Goles_PP      2494 non-null   float64\n",
      " 29  2_ValorJugadores      2494 non-null   float64\n",
      " 30  2_MediaJugadores      2494 non-null   float64\n",
      " 31  Victoria              2494 non-null   int64  \n",
      "dtypes: float64(23), int64(9)\n",
      "memory usage: 623.6 KB\n"
     ]
    }
   ],
   "source": [
    "df.info()"
   ]
  },
  {
   "cell_type": "code",
   "execution_count": 105,
   "metadata": {},
   "outputs": [
    {
     "name": "stdout",
     "output_type": "stream",
     "text": [
      "Training Set: 1745, Test Set: 749 \n",
      "\n"
     ]
    }
   ],
   "source": [
    "from sklearn.model_selection import train_test_split\n",
    "\n",
    "partido_features = df.drop(['Victoria', 'GolesLocal', 'GolesVisitante', 'VictoriaLocal', 'VictoriaVisitante', 'Empate'], axis=1).columns\n",
    "objetivo = 'Victoria'\n",
    "\n",
    "# Separate features and labels\n",
    "partidos_X = df[partido_features].values\n",
    "partidos_y = df[objetivo].values\n",
    "\n",
    "\n",
    "# Split data 70%-30% into training set and test set\n",
    "x_train, x_test, y_train, y_test = train_test_split(partidos_X, partidos_y,\n",
    "                                                                                    test_size=0.30,\n",
    "                                                                                    random_state=0,\n",
    "                                                                                    stratify=partidos_y)\n",
    "\n",
    "print ('Training Set: %d, Test Set: %d \\n' % (x_train.shape[0], x_test.shape[0]))"
   ]
  },
  {
   "cell_type": "code",
   "execution_count": 106,
   "metadata": {},
   "outputs": [
    {
     "name": "stdout",
     "output_type": "stream",
     "text": [
      "LogisticRegression(max_iter=10000, solver='liblinear')\n"
     ]
    }
   ],
   "source": [
    "from sklearn.linear_model import LogisticRegression\n",
    "\n",
    "multi_model = LogisticRegression(solver='liblinear', max_iter=10000)\n",
    "multi_model.fit(x_train, y_train)\n",
    "print (multi_model)"
   ]
  },
  {
   "cell_type": "code",
   "execution_count": 107,
   "metadata": {},
   "outputs": [
    {
     "name": "stdout",
     "output_type": "stream",
     "text": [
      "Etiquetas predichas: [1 2 1 1 1 1 2 2 1 1 1 2 1 1 2]\n",
      "Etiquetas reales:    [1 2 1 2 2 1 3 2 2 1 1 2 1 1 1]\n"
     ]
    }
   ],
   "source": [
    "# Realizar predicciones en el conjunto de prueba\n",
    "predictions = multi_model.predict(x_test)\n",
    "\n",
    "# Imprimir las etiquetas predichas y las etiquetas reales para las primeras 15 muestras del conjunto de prueba\n",
    "print('Etiquetas predichas:', predictions[:15])\n",
    "print('Etiquetas reales:   ', y_test[:15])\n"
   ]
  },
  {
   "cell_type": "markdown",
   "metadata": {},
   "source": [
    "Métricas de evaluación del modelo"
   ]
  },
  {
   "cell_type": "code",
   "execution_count": 108,
   "metadata": {},
   "outputs": [
    {
     "name": "stdout",
     "output_type": "stream",
     "text": [
      "              precision    recall  f1-score   support\n",
      "\n",
      "           1       0.65      0.89      0.75       356\n",
      "           2       0.58      0.64      0.61       225\n",
      "           3       0.18      0.01      0.02       168\n",
      "\n",
      "    accuracy                           0.62       749\n",
      "   macro avg       0.47      0.52      0.46       749\n",
      "weighted avg       0.52      0.62      0.55       749\n",
      "\n"
     ]
    }
   ],
   "source": [
    "from sklearn. metrics import classification_report\n",
    "\n",
    "print(classification_report(y_test, predictions))"
   ]
  },
  {
   "cell_type": "markdown",
   "metadata": {},
   "source": [
    "- Precision: Para la clase 0, la precisión es baja (0.21), lo que indica que de todas las predicciones positivas para la clase 0, solo el 21% fueron realmente correctas. Para la clase 1, la precisión es mucho mejor (0.64), lo que indica que el 64% de las predicciones positivas para la clase 1 fueron correctas. Para la clase 2, la precisión es moderada (0.57), lo que indica que el 57% de las predicciones positivas para la clase 2 fueron correctas.\n",
    "\n",
    "- Recall (Recuperación): Para la clase 0, el recall es muy bajo (0.02), lo que indica que solo se identificaron correctamente el 2% de todas las instancias de la clase 0. Para la clase 1, el recall es alto (0.81), lo que indica que se identificaron correctamente el 81% de todas las instancias de la clase 1. Para la clase 2, el recall también es alto (0.71), lo que indica que se identificaron correctamente el 71% de todas las instancias de la clase 2.\n",
    "\n",
    "- F1-score: La puntuación F1 es una medida que combina precisión y recuperación en un solo número. Para la clase 0, el F1-score es muy bajo (0.03), lo que indica un bajo equilibrio entre precisión y recuperación. Para las clases 1 y 2, los F1-scores son más altos (0.72 y 0.63 respectivamente), lo que indica un mejor equilibrio entre precisión y recuperación en estas clases.\n",
    "\n",
    "- Accuracy (Precisión global): La precisión global del modelo en todas las clases es del 60%, lo que indica que el 60% de las predicciones fueron correctas en general.\n",
    "\n",
    "En general, estos resultados muestran que el modelo tiene dificultades para clasificar correctamente la clase 0, ya que tiene un recall muy bajo y una precisión baja. Sin embargo, para las clases 1 y 2, el modelo tiene un mejor rendimiento en términos de precisión, recall y F1-score."
   ]
  },
  {
   "cell_type": "code",
   "execution_count": 109,
   "metadata": {},
   "outputs": [
    {
     "name": "stdout",
     "output_type": "stream",
     "text": [
      "Overall Accuracy: 0.6194926568758344\n",
      "Overall Precision: 0.47080308592615494\n",
      "Overall Recall: 0.5155995481838178\n"
     ]
    }
   ],
   "source": [
    "from sklearn.metrics import accuracy_score, precision_score, recall_score\n",
    "\n",
    "print(\"Overall Accuracy:\",accuracy_score(y_test, predictions))\n",
    "print(\"Overall Precision:\",precision_score(y_test, predictions, average='macro'))\n",
    "print(\"Overall Recall:\",recall_score(y_test, predictions, average='macro'))\n"
   ]
  },
  {
   "cell_type": "code",
   "execution_count": 110,
   "metadata": {},
   "outputs": [
    {
     "name": "stdout",
     "output_type": "stream",
     "text": [
      "[[317  35   4]\n",
      " [ 75 145   5]\n",
      " [ 97  69   2]]\n"
     ]
    }
   ],
   "source": [
    "#Imprimimos la matriz de confusión\n",
    "from sklearn.metrics import confusion_matrix\n",
    "\n",
    "m = confusion_matrix(y_test, predictions)\n",
    "print(m)"
   ]
  },
  {
   "cell_type": "code",
   "execution_count": 112,
   "metadata": {},
   "outputs": [
    {
     "data": {
      "image/png": "[encoded data removed]",
      "text/plain": [
       "<Figure size 640x480 with 2 Axes>"
      ]
     },
     "metadata": {},
     "output_type": "display_data"
    }
   ],
   "source": [
    "\n",
    "# Definir las clases de los partidos\n",
    "partido_classes = ['Local gana', 'Empate', 'Visitante gana']\n",
    "\n",
    "# Mostrar la matriz de confusión utilizando seaborn\n",
    "sns.heatmap(m, annot=True, fmt='d', cmap='Blues', xticklabels=partido_classes, yticklabels=partido_classes)\n",
    "plt.xlabel('Predicted Label')\n",
    "plt.ylabel('True Label')\n",
    "plt.title('Confusion Matrix')\n",
    "plt.show()"
   ]
  },
  {
   "cell_type": "markdown",
   "metadata": {},
   "source": [
    "En el caso de un modelo de clasificación multiclase, no es posible mostrar una única curva ROC que muestre la tasa de verdaderos positivos frente a la tasa de falsos positivos. Sin embargo, puedes utilizar las tasas para cada clase en una comparación Uno vs. Resto (OVR) para crear un gráfico ROC para cada clase."
   ]
  },
  {
   "cell_type": "code",
   "execution_count": 113,
   "metadata": {},
   "outputs": [
    {
     "name": "stderr",
     "output_type": "stream",
     "text": [
      "/Users/carlotasanchezgonzalez/anaconda3/lib/python3.11/site-packages/sklearn/metrics/_ranking.py:1146: UndefinedMetricWarning: No positive samples in y_true, true positive value should be meaningless\n",
      "  warnings.warn(\n"
     ]
    },
    {
     "data": {
      "image/png": "[encoded data removed]",
      "text/plain": [
       "<Figure size 640x480 with 1 Axes>"
      ]
     },
     "metadata": {},
     "output_type": "display_data"
    }
   ],
   "source": [
    "from sklearn.metrics import roc_curve\n",
    "from sklearn.metrics import roc_auc_score\n",
    "\n",
    "# Obtener las probabilidades de clase\n",
    "partidos_prob = multi_model.predict_proba(x_test)\n",
    "\n",
    "# Obtener métricas ROC para cada clase\n",
    "fpr = {}\n",
    "tpr = {}\n",
    "thresh = {}\n",
    "for i in range(len(multi_model.classes_)):    \n",
    "    fpr[i], tpr[i], thresh[i] = roc_curve(y_test, partidos_prob[:, i], pos_label=i)\n",
    "    \n",
    "# Trazar la curva ROC\n",
    "for i in range(len(multi_model.classes_)):\n",
    "    plt.plot(fpr[i], tpr[i], linestyle='--', label='Class {} vs Rest'.format(i))\n",
    "\n",
    "plt.title('Multiclass ROC curve')\n",
    "plt.xlabel('False Positive Rate')\n",
    "plt.ylabel('True Positive Rate')\n",
    "plt.legend(loc='best')\n",
    "plt.show()"
   ]
  },
  {
   "cell_type": "markdown",
   "metadata": {},
   "source": [
    "Como vemos este modelo no es muy bueno interpreto que porque hay una diferencia muy grande de muestras para cada clase. Para ello, utilizare otros modelos como random forest o gradient boosting que son útiles para manejar desbalanceo de clases."
   ]
  },
  {
   "cell_type": "code",
   "execution_count": 114,
   "metadata": {},
   "outputs": [
    {
     "name": "stdout",
     "output_type": "stream",
     "text": [
      "Average AUC: 0.7385126099206554\n"
     ]
    }
   ],
   "source": [
    "auc = roc_auc_score(y_test, partidos_prob, multi_class='ovr')\n",
    "print('Average AUC:', auc)"
   ]
  },
  {
   "cell_type": "code",
   "execution_count": 118,
   "metadata": {},
   "outputs": [
    {
     "name": "stdout",
     "output_type": "stream",
     "text": [
      "Accuracy: 0.6341789052069426\n",
      "\n",
      "Classification Report:\n",
      "              precision    recall  f1-score   support\n",
      "\n",
      "           1       0.69      0.83      0.75       356\n",
      "           2       0.60      0.68      0.64       225\n",
      "           3       0.40      0.15      0.22       168\n",
      "\n",
      "    accuracy                           0.63       749\n",
      "   macro avg       0.56      0.55      0.54       749\n",
      "weighted avg       0.60      0.63      0.60       749\n",
      "\n"
     ]
    },
    {
     "data": {
      "image/png": "[encoded data removed]",
      "text/plain": [
       "<Figure size 640x480 with 2 Axes>"
      ]
     },
     "metadata": {},
     "output_type": "display_data"
    }
   ],
   "source": [
    "from sklearn.ensemble import RandomForestClassifier\n",
    "\n",
    "# Crear y entrenar el modelo Random Forest\n",
    "random_forest_model = RandomForestClassifier(n_estimators=100, random_state=42)\n",
    "random_forest_model.fit(x_train, y_train)\n",
    "\n",
    "# Realizar predicciones en el conjunto de prueba\n",
    "predictions = random_forest_model.predict(x_test)\n",
    "\n",
    "# Calcular la precisión del modelo\n",
    "accuracy = accuracy_score(y_test, predictions)\n",
    "print(\"Accuracy:\", accuracy)\n",
    "\n",
    "# Mostrar el reporte de clasificación\n",
    "print(\"\\nClassification Report:\")\n",
    "print(classification_report(y_test, predictions))\n",
    "\n",
    "# Calcular la matriz de confusión\n",
    "conf_matrix = confusion_matrix(y_test, predictions)\n",
    "\n",
    "# Visualizar la matriz de confusión\n",
    "plt.imshow(conf_matrix, interpolation=\"nearest\", cmap=plt.cm.Blues)\n",
    "plt.colorbar()\n",
    "tick_marks = np.arange(len(np.unique(y_test)))\n",
    "plt.xticks(tick_marks, np.unique(y_test), rotation=45)\n",
    "plt.yticks(tick_marks, np.unique(y_test))\n",
    "plt.xlabel(\"Predicted Class\")\n",
    "plt.ylabel(\"True Class\")\n",
    "plt.title(\"Confusion Matrix\")\n",
    "plt.show()\n"
   ]
  },
  {
   "cell_type": "markdown",
   "metadata": {},
   "source": [
    "Con este modelo vemos que los resultados mejoran. Ahora voy a probar con "
   ]
  }
 ],
 "metadata": {
  "kernelspec": {
   "display_name": "base",
   "language": "python",
   "name": "python3"
  },
  "language_info": {
   "codemirror_mode": {
    "name": "ipython",
    "version": 3
   },
   "file_extension": ".py",
   "mimetype": "text/x-python",
   "name": "python",
   "nbconvert_exporter": "python",
   "pygments_lexer": "ipython3",
   "version": "3.11.5"
  }
 },
 "nbformat": 4,
 "nbformat_minor": 2
}
