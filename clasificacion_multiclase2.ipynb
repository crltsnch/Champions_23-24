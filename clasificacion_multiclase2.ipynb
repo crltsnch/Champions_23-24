{
 "cells": [
  {
   "cell_type": "code",
   "execution_count": 233,
   "metadata": {},
   "outputs": [],
   "source": [
    "import pandas as pd\n",
    "import numpy as np\n",
    "import matplotlib.pyplot as plt\n",
    "import seaborn as sns"
   ]
  },
  {
   "cell_type": "code",
   "execution_count": 234,
   "metadata": {},
   "outputs": [
    {
     "data": {
      "text/html": [
       "<div>\n",
       "<style scoped>\n",
       "    .dataframe tbody tr th:only-of-type {\n",
       "        vertical-align: middle;\n",
       "    }\n",
       "\n",
       "    .dataframe tbody tr th {\n",
       "        vertical-align: top;\n",
       "    }\n",
       "\n",
       "    .dataframe thead th {\n",
       "        text-align: right;\n",
       "    }\n",
       "</style>\n",
       "<table border=\"1\" class=\"dataframe\">\n",
       "  <thead>\n",
       "    <tr style=\"text-align: right;\">\n",
       "      <th></th>\n",
       "      <th>idPartido</th>\n",
       "      <th>Temporada</th>\n",
       "      <th>Ronda</th>\n",
       "      <th>Local</th>\n",
       "      <th>Visitante</th>\n",
       "      <th>Evento</th>\n",
       "      <th>GolesLocal</th>\n",
       "      <th>GolesVisitante</th>\n",
       "      <th>VictoriaLocal</th>\n",
       "      <th>Empate</th>\n",
       "      <th>...</th>\n",
       "      <th>1_MediaJugadores</th>\n",
       "      <th>%_2_G_Temporada</th>\n",
       "      <th>%_2_G_Temporada_L</th>\n",
       "      <th>%_2_E_Temporada_L</th>\n",
       "      <th>%_2_P_Temporada_L</th>\n",
       "      <th>2_Media_G</th>\n",
       "      <th>2_Media_G_Local</th>\n",
       "      <th>2_Media_Goles_PP</th>\n",
       "      <th>2_ValorJugadores</th>\n",
       "      <th>2_MediaJugadores</th>\n",
       "    </tr>\n",
       "  </thead>\n",
       "  <tbody>\n",
       "    <tr>\n",
       "      <th>0</th>\n",
       "      <td>121</td>\n",
       "      <td>2022-01-01</td>\n",
       "      <td>Group stage</td>\n",
       "      <td>235</td>\n",
       "      <td>11</td>\n",
       "      <td>Stadion Maksimir</td>\n",
       "      <td>1</td>\n",
       "      <td>0</td>\n",
       "      <td>1</td>\n",
       "      <td>0</td>\n",
       "      <td>...</td>\n",
       "      <td>18.743616</td>\n",
       "      <td>55.56</td>\n",
       "      <td>60.00</td>\n",
       "      <td>20.00</td>\n",
       "      <td>20.00</td>\n",
       "      <td>0.56</td>\n",
       "      <td>0.60</td>\n",
       "      <td>1.33</td>\n",
       "      <td>685.188968</td>\n",
       "      <td>26.353422</td>\n",
       "    </tr>\n",
       "    <tr>\n",
       "      <th>1</th>\n",
       "      <td>122</td>\n",
       "      <td>2022-01-01</td>\n",
       "      <td>Group stage</td>\n",
       "      <td>14</td>\n",
       "      <td>153</td>\n",
       "      <td>Signal Iduna Park</td>\n",
       "      <td>3</td>\n",
       "      <td>0</td>\n",
       "      <td>1</td>\n",
       "      <td>0</td>\n",
       "      <td>...</td>\n",
       "      <td>19.853461</td>\n",
       "      <td>0.00</td>\n",
       "      <td>0.00</td>\n",
       "      <td>100.00</td>\n",
       "      <td>0.00</td>\n",
       "      <td>0.00</td>\n",
       "      <td>0.00</td>\n",
       "      <td>0.20</td>\n",
       "      <td>356.128703</td>\n",
       "      <td>14.245148</td>\n",
       "    </tr>\n",
       "    <tr>\n",
       "      <th>2</th>\n",
       "      <td>123</td>\n",
       "      <td>2022-01-01</td>\n",
       "      <td>Group stage</td>\n",
       "      <td>15</td>\n",
       "      <td>1</td>\n",
       "      <td>Celtic Park</td>\n",
       "      <td>0</td>\n",
       "      <td>3</td>\n",
       "      <td>0</td>\n",
       "      <td>0</td>\n",
       "      <td>...</td>\n",
       "      <td>18.490575</td>\n",
       "      <td>63.64</td>\n",
       "      <td>83.33</td>\n",
       "      <td>16.67</td>\n",
       "      <td>0.00</td>\n",
       "      <td>0.64</td>\n",
       "      <td>0.83</td>\n",
       "      <td>2.09</td>\n",
       "      <td>796.271706</td>\n",
       "      <td>36.194168</td>\n",
       "    </tr>\n",
       "    <tr>\n",
       "      <th>3</th>\n",
       "      <td>124</td>\n",
       "      <td>2022-01-01</td>\n",
       "      <td>Group stage</td>\n",
       "      <td>10</td>\n",
       "      <td>298</td>\n",
       "      <td>Estádio do Sport Lisboa e Benfica</td>\n",
       "      <td>2</td>\n",
       "      <td>0</td>\n",
       "      <td>1</td>\n",
       "      <td>0</td>\n",
       "      <td>...</td>\n",
       "      <td>28.153728</td>\n",
       "      <td>20.00</td>\n",
       "      <td>33.33</td>\n",
       "      <td>0.00</td>\n",
       "      <td>66.67</td>\n",
       "      <td>0.20</td>\n",
       "      <td>0.33</td>\n",
       "      <td>1.40</td>\n",
       "      <td>382.737487</td>\n",
       "      <td>19.136874</td>\n",
       "    </tr>\n",
       "    <tr>\n",
       "      <th>4</th>\n",
       "      <td>125</td>\n",
       "      <td>2022-01-01</td>\n",
       "      <td>Group stage</td>\n",
       "      <td>184</td>\n",
       "      <td>2</td>\n",
       "      <td>Red Bull Arena</td>\n",
       "      <td>1</td>\n",
       "      <td>1</td>\n",
       "      <td>0</td>\n",
       "      <td>1</td>\n",
       "      <td>...</td>\n",
       "      <td>19.353798</td>\n",
       "      <td>45.45</td>\n",
       "      <td>66.67</td>\n",
       "      <td>0.00</td>\n",
       "      <td>33.33</td>\n",
       "      <td>0.45</td>\n",
       "      <td>0.67</td>\n",
       "      <td>1.27</td>\n",
       "      <td>749.233912</td>\n",
       "      <td>32.575387</td>\n",
       "    </tr>\n",
       "  </tbody>\n",
       "</table>\n",
       "<p>5 rows × 34 columns</p>\n",
       "</div>"
      ],
      "text/plain": [
       "   idPartido   Temporada        Ronda  Local  Visitante  \\\n",
       "0        121  2022-01-01  Group stage    235         11   \n",
       "1        122  2022-01-01  Group stage     14        153   \n",
       "2        123  2022-01-01  Group stage     15          1   \n",
       "3        124  2022-01-01  Group stage     10        298   \n",
       "4        125  2022-01-01  Group stage    184          2   \n",
       "\n",
       "                              Evento  GolesLocal  GolesVisitante  \\\n",
       "0                   Stadion Maksimir           1               0   \n",
       "1                  Signal Iduna Park           3               0   \n",
       "2                        Celtic Park           0               3   \n",
       "3  Estádio do Sport Lisboa e Benfica           2               0   \n",
       "4                     Red Bull Arena           1               1   \n",
       "\n",
       "   VictoriaLocal  Empate  ...  1_MediaJugadores  %_2_G_Temporada  \\\n",
       "0              1       0  ...         18.743616            55.56   \n",
       "1              1       0  ...         19.853461             0.00   \n",
       "2              0       0  ...         18.490575            63.64   \n",
       "3              1       0  ...         28.153728            20.00   \n",
       "4              0       1  ...         19.353798            45.45   \n",
       "\n",
       "   %_2_G_Temporada_L  %_2_E_Temporada_L  %_2_P_Temporada_L  2_Media_G  \\\n",
       "0              60.00              20.00              20.00       0.56   \n",
       "1               0.00             100.00               0.00       0.00   \n",
       "2              83.33              16.67               0.00       0.64   \n",
       "3              33.33               0.00              66.67       0.20   \n",
       "4              66.67               0.00              33.33       0.45   \n",
       "\n",
       "   2_Media_G_Local  2_Media_Goles_PP  2_ValorJugadores  2_MediaJugadores  \n",
       "0             0.60              1.33        685.188968         26.353422  \n",
       "1             0.00              0.20        356.128703         14.245148  \n",
       "2             0.83              2.09        796.271706         36.194168  \n",
       "3             0.33              1.40        382.737487         19.136874  \n",
       "4             0.67              1.27        749.233912         32.575387  \n",
       "\n",
       "[5 rows x 34 columns]"
      ]
     },
     "execution_count": 234,
     "metadata": {},
     "output_type": "execute_result"
    }
   ],
   "source": [
    "df = pd.read_csv('dataframe/champions.csv')\n",
    "df.head()"
   ]
  },
  {
   "cell_type": "markdown",
   "metadata": {},
   "source": [
    "### Multiclass classifier 1X2"
   ]
  },
  {
   "cell_type": "code",
   "execution_count": 235,
   "metadata": {},
   "outputs": [
    {
     "data": {
      "text/html": [
       "<div>\n",
       "<style scoped>\n",
       "    .dataframe tbody tr th:only-of-type {\n",
       "        vertical-align: middle;\n",
       "    }\n",
       "\n",
       "    .dataframe tbody tr th {\n",
       "        vertical-align: top;\n",
       "    }\n",
       "\n",
       "    .dataframe thead th {\n",
       "        text-align: right;\n",
       "    }\n",
       "</style>\n",
       "<table border=\"1\" class=\"dataframe\">\n",
       "  <thead>\n",
       "    <tr style=\"text-align: right;\">\n",
       "      <th></th>\n",
       "      <th>idPartido</th>\n",
       "      <th>Temporada</th>\n",
       "      <th>Ronda</th>\n",
       "      <th>Local</th>\n",
       "      <th>Visitante</th>\n",
       "      <th>Evento</th>\n",
       "      <th>GolesLocal</th>\n",
       "      <th>GolesVisitante</th>\n",
       "      <th>VictoriaLocal</th>\n",
       "      <th>Empate</th>\n",
       "      <th>...</th>\n",
       "      <th>%_2_G_Temporada</th>\n",
       "      <th>%_2_G_Temporada_L</th>\n",
       "      <th>%_2_E_Temporada_L</th>\n",
       "      <th>%_2_P_Temporada_L</th>\n",
       "      <th>2_Media_G</th>\n",
       "      <th>2_Media_G_Local</th>\n",
       "      <th>2_Media_Goles_PP</th>\n",
       "      <th>2_ValorJugadores</th>\n",
       "      <th>2_MediaJugadores</th>\n",
       "      <th>Posicion</th>\n",
       "    </tr>\n",
       "  </thead>\n",
       "  <tbody>\n",
       "    <tr>\n",
       "      <th>0</th>\n",
       "      <td>121</td>\n",
       "      <td>2022-01-01</td>\n",
       "      <td>Group stage</td>\n",
       "      <td>235</td>\n",
       "      <td>11</td>\n",
       "      <td>Stadion Maksimir</td>\n",
       "      <td>1</td>\n",
       "      <td>0</td>\n",
       "      <td>1</td>\n",
       "      <td>0</td>\n",
       "      <td>...</td>\n",
       "      <td>55.56</td>\n",
       "      <td>60.00</td>\n",
       "      <td>20.00</td>\n",
       "      <td>20.00</td>\n",
       "      <td>0.56</td>\n",
       "      <td>0.60</td>\n",
       "      <td>1.33</td>\n",
       "      <td>685.188968</td>\n",
       "      <td>26.353422</td>\n",
       "      <td>Group stage</td>\n",
       "    </tr>\n",
       "    <tr>\n",
       "      <th>1</th>\n",
       "      <td>122</td>\n",
       "      <td>2022-01-01</td>\n",
       "      <td>Group stage</td>\n",
       "      <td>14</td>\n",
       "      <td>153</td>\n",
       "      <td>Signal Iduna Park</td>\n",
       "      <td>3</td>\n",
       "      <td>0</td>\n",
       "      <td>1</td>\n",
       "      <td>0</td>\n",
       "      <td>...</td>\n",
       "      <td>0.00</td>\n",
       "      <td>0.00</td>\n",
       "      <td>100.00</td>\n",
       "      <td>0.00</td>\n",
       "      <td>0.00</td>\n",
       "      <td>0.00</td>\n",
       "      <td>0.20</td>\n",
       "      <td>356.128703</td>\n",
       "      <td>14.245148</td>\n",
       "      <td>Round of 16</td>\n",
       "    </tr>\n",
       "    <tr>\n",
       "      <th>2</th>\n",
       "      <td>123</td>\n",
       "      <td>2022-01-01</td>\n",
       "      <td>Group stage</td>\n",
       "      <td>15</td>\n",
       "      <td>1</td>\n",
       "      <td>Celtic Park</td>\n",
       "      <td>0</td>\n",
       "      <td>3</td>\n",
       "      <td>0</td>\n",
       "      <td>0</td>\n",
       "      <td>...</td>\n",
       "      <td>63.64</td>\n",
       "      <td>83.33</td>\n",
       "      <td>16.67</td>\n",
       "      <td>0.00</td>\n",
       "      <td>0.64</td>\n",
       "      <td>0.83</td>\n",
       "      <td>2.09</td>\n",
       "      <td>796.271706</td>\n",
       "      <td>36.194168</td>\n",
       "      <td>Group stage</td>\n",
       "    </tr>\n",
       "    <tr>\n",
       "      <th>3</th>\n",
       "      <td>124</td>\n",
       "      <td>2022-01-01</td>\n",
       "      <td>Group stage</td>\n",
       "      <td>10</td>\n",
       "      <td>298</td>\n",
       "      <td>Estádio do Sport Lisboa e Benfica</td>\n",
       "      <td>2</td>\n",
       "      <td>0</td>\n",
       "      <td>1</td>\n",
       "      <td>0</td>\n",
       "      <td>...</td>\n",
       "      <td>20.00</td>\n",
       "      <td>33.33</td>\n",
       "      <td>0.00</td>\n",
       "      <td>66.67</td>\n",
       "      <td>0.20</td>\n",
       "      <td>0.33</td>\n",
       "      <td>1.40</td>\n",
       "      <td>382.737487</td>\n",
       "      <td>19.136874</td>\n",
       "      <td>Quarter-finals</td>\n",
       "    </tr>\n",
       "    <tr>\n",
       "      <th>4</th>\n",
       "      <td>125</td>\n",
       "      <td>2022-01-01</td>\n",
       "      <td>Group stage</td>\n",
       "      <td>184</td>\n",
       "      <td>2</td>\n",
       "      <td>Red Bull Arena</td>\n",
       "      <td>1</td>\n",
       "      <td>1</td>\n",
       "      <td>0</td>\n",
       "      <td>1</td>\n",
       "      <td>...</td>\n",
       "      <td>45.45</td>\n",
       "      <td>66.67</td>\n",
       "      <td>0.00</td>\n",
       "      <td>33.33</td>\n",
       "      <td>0.45</td>\n",
       "      <td>0.67</td>\n",
       "      <td>1.27</td>\n",
       "      <td>749.233912</td>\n",
       "      <td>32.575387</td>\n",
       "      <td>Group stage</td>\n",
       "    </tr>\n",
       "  </tbody>\n",
       "</table>\n",
       "<p>5 rows × 35 columns</p>\n",
       "</div>"
      ],
      "text/plain": [
       "   idPartido   Temporada        Ronda  Local  Visitante  \\\n",
       "0        121  2022-01-01  Group stage    235         11   \n",
       "1        122  2022-01-01  Group stage     14        153   \n",
       "2        123  2022-01-01  Group stage     15          1   \n",
       "3        124  2022-01-01  Group stage     10        298   \n",
       "4        125  2022-01-01  Group stage    184          2   \n",
       "\n",
       "                              Evento  GolesLocal  GolesVisitante  \\\n",
       "0                   Stadion Maksimir           1               0   \n",
       "1                  Signal Iduna Park           3               0   \n",
       "2                        Celtic Park           0               3   \n",
       "3  Estádio do Sport Lisboa e Benfica           2               0   \n",
       "4                     Red Bull Arena           1               1   \n",
       "\n",
       "   VictoriaLocal  Empate  ...  %_2_G_Temporada  %_2_G_Temporada_L  \\\n",
       "0              1       0  ...            55.56              60.00   \n",
       "1              1       0  ...             0.00               0.00   \n",
       "2              0       0  ...            63.64              83.33   \n",
       "3              1       0  ...            20.00              33.33   \n",
       "4              0       1  ...            45.45              66.67   \n",
       "\n",
       "   %_2_E_Temporada_L  %_2_P_Temporada_L  2_Media_G  2_Media_G_Local  \\\n",
       "0              20.00              20.00       0.56             0.60   \n",
       "1             100.00               0.00       0.00             0.00   \n",
       "2              16.67               0.00       0.64             0.83   \n",
       "3               0.00              66.67       0.20             0.33   \n",
       "4               0.00              33.33       0.45             0.67   \n",
       "\n",
       "   2_Media_Goles_PP  2_ValorJugadores  2_MediaJugadores        Posicion  \n",
       "0              1.33        685.188968         26.353422     Group stage  \n",
       "1              0.20        356.128703         14.245148     Round of 16  \n",
       "2              2.09        796.271706         36.194168     Group stage  \n",
       "3              1.40        382.737487         19.136874  Quarter-finals  \n",
       "4              1.27        749.233912         32.575387     Group stage  \n",
       "\n",
       "[5 rows x 35 columns]"
      ]
     },
     "execution_count": 235,
     "metadata": {},
     "output_type": "execute_result"
    }
   ],
   "source": [
    "# Crea una nueva columna para almacenar la fase en la que se quedó el equipo 1\n",
    "df['Posicion'] = ''\n",
    "\n",
    "# Itera sobre cada fila del DataFrame\n",
    "for index, row in df.iterrows():\n",
    "    # Obtiene la temporada y el equipo local de esta fila\n",
    "    temporada = row['Temporada']\n",
    "    equipo_local = row['Local']\n",
    "    \n",
    "    # Filtra el DataFrame para encontrar todas las filas de la misma temporada donde el equipo local aparezca\n",
    "    partidos_equipo_local = df[(df['Temporada'] == temporada) & ((df['Local'] == equipo_local) | (df['Visitante'] == equipo_local))]\n",
    "    \n",
    "    # Encuentra la última fila donde el equipo local haya participado en esta temporada\n",
    "    ultima_fila_equipo_local = partidos_equipo_local.index.max()\n",
    "    \n",
    "    # Si no hay partidos registrados para el equipo local en esta temporada, continúa con la siguiente fila\n",
    "    if pd.isnull(ultima_fila_equipo_local):\n",
    "        continue\n",
    "    \n",
    "    # Obtiene la ronda de la última aparición del equipo local en esta temporada\n",
    "    ronda_ultima_aparicion = df.loc[ultima_fila_equipo_local, 'Ronda']\n",
    "    \n",
    "    # Si la ronda es 'Final', determinar si el equipo local ganó\n",
    "    if ronda_ultima_aparicion == 'Final':\n",
    "        # Verificamos si el equipo local es el ganador\n",
    "        if equipo_local == df.loc[ultima_fila_equipo_local, 'Local'] and df.loc[ultima_fila_equipo_local, 'VictoriaLocal'] == 1:\n",
    "            df.at[index, 'Posicion'] = 'Winner'\n",
    "        elif equipo_local == df.loc[ultima_fila_equipo_local, 'Visitante'] and df.loc[ultima_fila_equipo_local, 'VictoriaVisitante'] == 1:\n",
    "            df.at[index, 'Posicion'] = 'Final'\n",
    "        else:\n",
    "            df.at[index, 'Posicion'] = 'Final'\n",
    "    else:\n",
    "        # Asigna la ronda al partido actual en la nueva columna Posicion\n",
    "        df.at[index, 'Posicion'] = ronda_ultima_aparicion\n",
    "\n",
    "\n",
    "\n",
    "df.head()\n",
    "\n"
   ]
  },
  {
   "cell_type": "code",
   "execution_count": 236,
   "metadata": {},
   "outputs": [
    {
     "data": {
      "text/html": [
       "<div>\n",
       "<style scoped>\n",
       "    .dataframe tbody tr th:only-of-type {\n",
       "        vertical-align: middle;\n",
       "    }\n",
       "\n",
       "    .dataframe tbody tr th {\n",
       "        vertical-align: top;\n",
       "    }\n",
       "\n",
       "    .dataframe thead th {\n",
       "        text-align: right;\n",
       "    }\n",
       "</style>\n",
       "<table border=\"1\" class=\"dataframe\">\n",
       "  <thead>\n",
       "    <tr style=\"text-align: right;\">\n",
       "      <th></th>\n",
       "      <th>idPartido</th>\n",
       "      <th>Temporada</th>\n",
       "      <th>Ronda</th>\n",
       "      <th>Local</th>\n",
       "      <th>Visitante</th>\n",
       "      <th>Evento</th>\n",
       "      <th>GolesLocal</th>\n",
       "      <th>GolesVisitante</th>\n",
       "      <th>VictoriaLocal</th>\n",
       "      <th>Empate</th>\n",
       "      <th>...</th>\n",
       "      <th>%_2_G_Temporada</th>\n",
       "      <th>%_2_G_Temporada_L</th>\n",
       "      <th>%_2_E_Temporada_L</th>\n",
       "      <th>%_2_P_Temporada_L</th>\n",
       "      <th>2_Media_G</th>\n",
       "      <th>2_Media_G_Local</th>\n",
       "      <th>2_Media_Goles_PP</th>\n",
       "      <th>2_ValorJugadores</th>\n",
       "      <th>2_MediaJugadores</th>\n",
       "      <th>Posicion</th>\n",
       "    </tr>\n",
       "  </thead>\n",
       "  <tbody>\n",
       "    <tr>\n",
       "      <th>27</th>\n",
       "      <td>148</td>\n",
       "      <td>2022-01-01</td>\n",
       "      <td>Group stage</td>\n",
       "      <td>16</td>\n",
       "      <td>14</td>\n",
       "      <td>Etihad Stadium</td>\n",
       "      <td>2</td>\n",
       "      <td>1</td>\n",
       "      <td>1</td>\n",
       "      <td>0</td>\n",
       "      <td>...</td>\n",
       "      <td>42.86</td>\n",
       "      <td>50.00</td>\n",
       "      <td>50.0</td>\n",
       "      <td>0.00</td>\n",
       "      <td>0.43</td>\n",
       "      <td>0.50</td>\n",
       "      <td>1.43</td>\n",
       "      <td>516.189990</td>\n",
       "      <td>19.853461</td>\n",
       "      <td>Winner</td>\n",
       "    </tr>\n",
       "    <tr>\n",
       "      <th>44</th>\n",
       "      <td>165</td>\n",
       "      <td>2022-01-01</td>\n",
       "      <td>Group stage</td>\n",
       "      <td>16</td>\n",
       "      <td>153</td>\n",
       "      <td>Etihad Stadium</td>\n",
       "      <td>5</td>\n",
       "      <td>0</td>\n",
       "      <td>1</td>\n",
       "      <td>0</td>\n",
       "      <td>...</td>\n",
       "      <td>0.00</td>\n",
       "      <td>0.00</td>\n",
       "      <td>100.0</td>\n",
       "      <td>0.00</td>\n",
       "      <td>0.00</td>\n",
       "      <td>0.00</td>\n",
       "      <td>0.20</td>\n",
       "      <td>356.128703</td>\n",
       "      <td>14.245148</td>\n",
       "      <td>Winner</td>\n",
       "    </tr>\n",
       "    <tr>\n",
       "      <th>90</th>\n",
       "      <td>211</td>\n",
       "      <td>2022-01-01</td>\n",
       "      <td>Group stage</td>\n",
       "      <td>16</td>\n",
       "      <td>80</td>\n",
       "      <td>Etihad Stadium</td>\n",
       "      <td>3</td>\n",
       "      <td>1</td>\n",
       "      <td>1</td>\n",
       "      <td>0</td>\n",
       "      <td>...</td>\n",
       "      <td>20.00</td>\n",
       "      <td>33.33</td>\n",
       "      <td>0.0</td>\n",
       "      <td>66.67</td>\n",
       "      <td>0.20</td>\n",
       "      <td>0.33</td>\n",
       "      <td>1.00</td>\n",
       "      <td>387.436159</td>\n",
       "      <td>16.143173</td>\n",
       "      <td>Winner</td>\n",
       "    </tr>\n",
       "    <tr>\n",
       "      <th>109</th>\n",
       "      <td>230</td>\n",
       "      <td>2022-01-01</td>\n",
       "      <td>Round of 16</td>\n",
       "      <td>16</td>\n",
       "      <td>68</td>\n",
       "      <td>Etihad Stadium</td>\n",
       "      <td>7</td>\n",
       "      <td>0</td>\n",
       "      <td>1</td>\n",
       "      <td>0</td>\n",
       "      <td>...</td>\n",
       "      <td>57.14</td>\n",
       "      <td>50.00</td>\n",
       "      <td>25.0</td>\n",
       "      <td>25.00</td>\n",
       "      <td>0.57</td>\n",
       "      <td>0.50</td>\n",
       "      <td>2.00</td>\n",
       "      <td>529.877426</td>\n",
       "      <td>24.085338</td>\n",
       "      <td>Winner</td>\n",
       "    </tr>\n",
       "    <tr>\n",
       "      <th>113</th>\n",
       "      <td>234</td>\n",
       "      <td>2022-01-01</td>\n",
       "      <td>Quarter-finals</td>\n",
       "      <td>16</td>\n",
       "      <td>3</td>\n",
       "      <td>Etihad Stadium</td>\n",
       "      <td>3</td>\n",
       "      <td>0</td>\n",
       "      <td>1</td>\n",
       "      <td>0</td>\n",
       "      <td>...</td>\n",
       "      <td>88.89</td>\n",
       "      <td>80.00</td>\n",
       "      <td>20.0</td>\n",
       "      <td>0.00</td>\n",
       "      <td>0.89</td>\n",
       "      <td>0.80</td>\n",
       "      <td>2.44</td>\n",
       "      <td>702.349336</td>\n",
       "      <td>29.264556</td>\n",
       "      <td>Winner</td>\n",
       "    </tr>\n",
       "  </tbody>\n",
       "</table>\n",
       "<p>5 rows × 35 columns</p>\n",
       "</div>"
      ],
      "text/plain": [
       "     idPartido   Temporada           Ronda  Local  Visitante          Evento  \\\n",
       "27         148  2022-01-01     Group stage     16         14  Etihad Stadium   \n",
       "44         165  2022-01-01     Group stage     16        153  Etihad Stadium   \n",
       "90         211  2022-01-01     Group stage     16         80  Etihad Stadium   \n",
       "109        230  2022-01-01     Round of 16     16         68  Etihad Stadium   \n",
       "113        234  2022-01-01  Quarter-finals     16          3  Etihad Stadium   \n",
       "\n",
       "     GolesLocal  GolesVisitante  VictoriaLocal  Empate  ...  %_2_G_Temporada  \\\n",
       "27            2               1              1       0  ...            42.86   \n",
       "44            5               0              1       0  ...             0.00   \n",
       "90            3               1              1       0  ...            20.00   \n",
       "109           7               0              1       0  ...            57.14   \n",
       "113           3               0              1       0  ...            88.89   \n",
       "\n",
       "     %_2_G_Temporada_L  %_2_E_Temporada_L  %_2_P_Temporada_L  2_Media_G  \\\n",
       "27               50.00               50.0               0.00       0.43   \n",
       "44                0.00              100.0               0.00       0.00   \n",
       "90               33.33                0.0              66.67       0.20   \n",
       "109              50.00               25.0              25.00       0.57   \n",
       "113              80.00               20.0               0.00       0.89   \n",
       "\n",
       "     2_Media_G_Local  2_Media_Goles_PP  2_ValorJugadores  2_MediaJugadores  \\\n",
       "27              0.50              1.43        516.189990         19.853461   \n",
       "44              0.00              0.20        356.128703         14.245148   \n",
       "90              0.33              1.00        387.436159         16.143173   \n",
       "109             0.50              2.00        529.877426         24.085338   \n",
       "113             0.80              2.44        702.349336         29.264556   \n",
       "\n",
       "     Posicion  \n",
       "27     Winner  \n",
       "44     Winner  \n",
       "90     Winner  \n",
       "109    Winner  \n",
       "113    Winner  \n",
       "\n",
       "[5 rows x 35 columns]"
      ]
     },
     "execution_count": 236,
     "metadata": {},
     "output_type": "execute_result"
    }
   ],
   "source": [
    "winner_rows = df[df['Posicion'] == 'Winner']\n",
    "winner_rows.head()\n"
   ]
  },
  {
   "cell_type": "code",
   "execution_count": 237,
   "metadata": {},
   "outputs": [
    {
     "data": {
      "text/html": [
       "<div>\n",
       "<style scoped>\n",
       "    .dataframe tbody tr th:only-of-type {\n",
       "        vertical-align: middle;\n",
       "    }\n",
       "\n",
       "    .dataframe tbody tr th {\n",
       "        vertical-align: top;\n",
       "    }\n",
       "\n",
       "    .dataframe thead th {\n",
       "        text-align: right;\n",
       "    }\n",
       "</style>\n",
       "<table border=\"1\" class=\"dataframe\">\n",
       "  <thead>\n",
       "    <tr style=\"text-align: right;\">\n",
       "      <th></th>\n",
       "      <th>idPartido</th>\n",
       "      <th>Local</th>\n",
       "      <th>Visitante</th>\n",
       "      <th>GolesLocal</th>\n",
       "      <th>GolesVisitante</th>\n",
       "      <th>VictoriaLocal</th>\n",
       "      <th>Empate</th>\n",
       "      <th>VictoriaVisitante</th>\n",
       "      <th>%_Victorias_Local</th>\n",
       "      <th>%_Empate</th>\n",
       "      <th>...</th>\n",
       "      <th>%_2_G_Temporada</th>\n",
       "      <th>%_2_G_Temporada_L</th>\n",
       "      <th>%_2_E_Temporada_L</th>\n",
       "      <th>%_2_P_Temporada_L</th>\n",
       "      <th>2_Media_G</th>\n",
       "      <th>2_Media_G_Local</th>\n",
       "      <th>2_Media_Goles_PP</th>\n",
       "      <th>2_ValorJugadores</th>\n",
       "      <th>2_MediaJugadores</th>\n",
       "      <th>Posicion</th>\n",
       "    </tr>\n",
       "  </thead>\n",
       "  <tbody>\n",
       "    <tr>\n",
       "      <th>0</th>\n",
       "      <td>121</td>\n",
       "      <td>235</td>\n",
       "      <td>11</td>\n",
       "      <td>1</td>\n",
       "      <td>0</td>\n",
       "      <td>1</td>\n",
       "      <td>0</td>\n",
       "      <td>0</td>\n",
       "      <td>100.0</td>\n",
       "      <td>0.0</td>\n",
       "      <td>...</td>\n",
       "      <td>55.56</td>\n",
       "      <td>60.00</td>\n",
       "      <td>20.00</td>\n",
       "      <td>20.00</td>\n",
       "      <td>0.56</td>\n",
       "      <td>0.60</td>\n",
       "      <td>1.33</td>\n",
       "      <td>685.188968</td>\n",
       "      <td>26.353422</td>\n",
       "      <td>Group stage</td>\n",
       "    </tr>\n",
       "    <tr>\n",
       "      <th>1</th>\n",
       "      <td>122</td>\n",
       "      <td>14</td>\n",
       "      <td>153</td>\n",
       "      <td>3</td>\n",
       "      <td>0</td>\n",
       "      <td>1</td>\n",
       "      <td>0</td>\n",
       "      <td>0</td>\n",
       "      <td>0.0</td>\n",
       "      <td>100.0</td>\n",
       "      <td>...</td>\n",
       "      <td>0.00</td>\n",
       "      <td>0.00</td>\n",
       "      <td>100.00</td>\n",
       "      <td>0.00</td>\n",
       "      <td>0.00</td>\n",
       "      <td>0.00</td>\n",
       "      <td>0.20</td>\n",
       "      <td>356.128703</td>\n",
       "      <td>14.245148</td>\n",
       "      <td>Round of 16</td>\n",
       "    </tr>\n",
       "    <tr>\n",
       "      <th>2</th>\n",
       "      <td>123</td>\n",
       "      <td>15</td>\n",
       "      <td>1</td>\n",
       "      <td>0</td>\n",
       "      <td>3</td>\n",
       "      <td>0</td>\n",
       "      <td>0</td>\n",
       "      <td>1</td>\n",
       "      <td>100.0</td>\n",
       "      <td>0.0</td>\n",
       "      <td>...</td>\n",
       "      <td>63.64</td>\n",
       "      <td>83.33</td>\n",
       "      <td>16.67</td>\n",
       "      <td>0.00</td>\n",
       "      <td>0.64</td>\n",
       "      <td>0.83</td>\n",
       "      <td>2.09</td>\n",
       "      <td>796.271706</td>\n",
       "      <td>36.194168</td>\n",
       "      <td>Group stage</td>\n",
       "    </tr>\n",
       "    <tr>\n",
       "      <th>3</th>\n",
       "      <td>124</td>\n",
       "      <td>10</td>\n",
       "      <td>298</td>\n",
       "      <td>2</td>\n",
       "      <td>0</td>\n",
       "      <td>1</td>\n",
       "      <td>0</td>\n",
       "      <td>0</td>\n",
       "      <td>0.0</td>\n",
       "      <td>0.0</td>\n",
       "      <td>...</td>\n",
       "      <td>20.00</td>\n",
       "      <td>33.33</td>\n",
       "      <td>0.00</td>\n",
       "      <td>66.67</td>\n",
       "      <td>0.20</td>\n",
       "      <td>0.33</td>\n",
       "      <td>1.40</td>\n",
       "      <td>382.737487</td>\n",
       "      <td>19.136874</td>\n",
       "      <td>Quarter-finals</td>\n",
       "    </tr>\n",
       "    <tr>\n",
       "      <th>4</th>\n",
       "      <td>125</td>\n",
       "      <td>184</td>\n",
       "      <td>2</td>\n",
       "      <td>1</td>\n",
       "      <td>1</td>\n",
       "      <td>0</td>\n",
       "      <td>1</td>\n",
       "      <td>0</td>\n",
       "      <td>100.0</td>\n",
       "      <td>0.0</td>\n",
       "      <td>...</td>\n",
       "      <td>45.45</td>\n",
       "      <td>66.67</td>\n",
       "      <td>0.00</td>\n",
       "      <td>33.33</td>\n",
       "      <td>0.45</td>\n",
       "      <td>0.67</td>\n",
       "      <td>1.27</td>\n",
       "      <td>749.233912</td>\n",
       "      <td>32.575387</td>\n",
       "      <td>Group stage</td>\n",
       "    </tr>\n",
       "  </tbody>\n",
       "</table>\n",
       "<p>5 rows × 32 columns</p>\n",
       "</div>"
      ],
      "text/plain": [
       "   idPartido  Local  Visitante  GolesLocal  GolesVisitante  VictoriaLocal  \\\n",
       "0        121    235         11           1               0              1   \n",
       "1        122     14        153           3               0              1   \n",
       "2        123     15          1           0               3              0   \n",
       "3        124     10        298           2               0              1   \n",
       "4        125    184          2           1               1              0   \n",
       "\n",
       "   Empate  VictoriaVisitante  %_Victorias_Local  %_Empate  ...  \\\n",
       "0       0                  0              100.0       0.0  ...   \n",
       "1       0                  0                0.0     100.0  ...   \n",
       "2       0                  1              100.0       0.0  ...   \n",
       "3       0                  0                0.0       0.0  ...   \n",
       "4       1                  0              100.0       0.0  ...   \n",
       "\n",
       "   %_2_G_Temporada  %_2_G_Temporada_L  %_2_E_Temporada_L  %_2_P_Temporada_L  \\\n",
       "0            55.56              60.00              20.00              20.00   \n",
       "1             0.00               0.00             100.00               0.00   \n",
       "2            63.64              83.33              16.67               0.00   \n",
       "3            20.00              33.33               0.00              66.67   \n",
       "4            45.45              66.67               0.00              33.33   \n",
       "\n",
       "   2_Media_G  2_Media_G_Local  2_Media_Goles_PP  2_ValorJugadores  \\\n",
       "0       0.56             0.60              1.33        685.188968   \n",
       "1       0.00             0.00              0.20        356.128703   \n",
       "2       0.64             0.83              2.09        796.271706   \n",
       "3       0.20             0.33              1.40        382.737487   \n",
       "4       0.45             0.67              1.27        749.233912   \n",
       "\n",
       "   2_MediaJugadores        Posicion  \n",
       "0         26.353422     Group stage  \n",
       "1         14.245148     Round of 16  \n",
       "2         36.194168     Group stage  \n",
       "3         19.136874  Quarter-finals  \n",
       "4         32.575387     Group stage  \n",
       "\n",
       "[5 rows x 32 columns]"
      ]
     },
     "execution_count": 237,
     "metadata": {},
     "output_type": "execute_result"
    }
   ],
   "source": [
    "df = df.drop(['Temporada', 'Ronda', 'Evento'], axis=1)\n",
    "df.head()"
   ]
  },
  {
   "cell_type": "code",
   "execution_count": 238,
   "metadata": {},
   "outputs": [
    {
     "name": "stdout",
     "output_type": "stream",
     "text": [
      "Training Set: 1745, Test Set: 749 \n",
      "\n"
     ]
    }
   ],
   "source": [
    "from sklearn.model_selection import train_test_split\n",
    "\n",
    "partido_features = df.drop(['Posicion', 'GolesLocal', 'GolesVisitante', 'VictoriaLocal', 'VictoriaVisitante', 'Empate'], axis=1).columns\n",
    "objetivo = 'Posicion'\n",
    "\n",
    "# Separate features and labels\n",
    "partidos_X = df[partido_features].values\n",
    "partidos_y = df[objetivo].values\n",
    "\n",
    "\n",
    "# Split data 70%-30% into training set and test set\n",
    "x_train, x_test, y_train, y_test = train_test_split(partidos_X, partidos_y,\n",
    "                                                    test_size=0.30,\n",
    "                                                    random_state=0,\n",
    "                                                    stratify=partidos_y)\n",
    "\n",
    "print ('Training Set: %d, Test Set: %d \\n' % (x_train.shape[0], x_test.shape[0]))"
   ]
  },
  {
   "cell_type": "code",
   "execution_count": 239,
   "metadata": {},
   "outputs": [
    {
     "name": "stdout",
     "output_type": "stream",
     "text": [
      "LogisticRegression(max_iter=10000, solver='liblinear')\n"
     ]
    }
   ],
   "source": [
    "from sklearn.linear_model import LogisticRegression\n",
    "\n",
    "multi_model = LogisticRegression(solver='liblinear', max_iter=10000)\n",
    "multi_model.fit(x_train, y_train)\n",
    "print (multi_model)"
   ]
  },
  {
   "cell_type": "code",
   "execution_count": 240,
   "metadata": {},
   "outputs": [
    {
     "name": "stdout",
     "output_type": "stream",
     "text": [
      "Etiquetas predichas: ['Round of 16' 'Round of 16' 'Semi-finals' 'Final' 'Group stage'\n",
      " 'Round of 16' 'Round of 16' 'Group stage' 'Round of 16' 'Round of 16'\n",
      " 'Round of 16' 'Final' 'Group stage' 'Round of 16' 'Semi-finals']\n",
      "Etiquetas reales:    ['Quarter-finals' 'Round of 16' 'Final' 'Final' 'Group stage'\n",
      " 'Round of 16' 'Round of 16' 'Group stage' 'Round of 16' 'Round of 16'\n",
      " 'Round of 16' 'Final' 'Group stage' 'Round of 16' 'Semi-finals']\n"
     ]
    }
   ],
   "source": [
    "# Realizar predicciones en el conjunto de prueba\n",
    "predictions = multi_model.predict(x_test)\n",
    "\n",
    "# Imprimir las etiquetas predichas y las etiquetas reales para las primeras 15 muestras del conjunto de prueba\n",
    "print('Etiquetas predichas:', predictions[:15])\n",
    "print('Etiquetas reales:   ', y_test[:15])\n"
   ]
  },
  {
   "cell_type": "markdown",
   "metadata": {},
   "source": [
    "Métricas de evaluación del modelo"
   ]
  },
  {
   "cell_type": "code",
   "execution_count": 241,
   "metadata": {},
   "outputs": [
    {
     "name": "stdout",
     "output_type": "stream",
     "text": [
      "                precision    recall  f1-score   support\n",
      "\n",
      "         Final       0.66      0.65      0.65        62\n",
      "   Group stage       0.99      1.00      1.00       288\n",
      "Quarter-finals       0.46      0.28      0.35       120\n",
      "   Round of 16       0.69      0.98      0.81       192\n",
      "   Semi-finals       0.72      0.47      0.57        72\n",
      "        Winner       0.29      0.13      0.18        15\n",
      "\n",
      "      accuracy                           0.78       749\n",
      "     macro avg       0.64      0.59      0.59       749\n",
      "  weighted avg       0.76      0.78      0.76       749\n",
      "\n"
     ]
    }
   ],
   "source": [
    "from sklearn. metrics import classification_report\n",
    "\n",
    "print(classification_report(y_test, predictions))"
   ]
  },
  {
   "cell_type": "markdown",
   "metadata": {},
   "source": [
    "- Precision: Indica la proporción de predicciones positivas correctas (verdaderos positivos) sobre el total de predicciones positivas realizadas por el modelo. Por ejemplo, para la clase \"Final\", el modelo tiene una precisión del 66%, lo que significa que el 66% de las veces que el modelo predijo la clase \"Final\", fue correcta.\n",
    "\n",
    "- Recall (Recuperación o Sensibilidad): Mide la proporción de verdaderos positivos sobre el total de muestras que realmente pertenecen a la clase dada. Para la clase \"Round of 16\", el modelo tiene un recall del 98%, lo que indica que el 98% de las veces que una muestra realmente pertenecía a la clase \"Round of 16\", el modelo la identificó correctamente.\n",
    "\n",
    "- F1: Es la media armónica de precision y recall. Es útil cuando las clases están desequilibradas.\n",
    "\n",
    "- Accuracy (Precisión global): Es la proporción de predicciones correctas sobre el total de predicciones realizadas por el modelo. En este caso, el modelo tiene una precisión global del 78%.\n",
    "\n",
    "- Macro avg (Promedio macro): Es el promedio sin ponderar de precision, recall y f1-score sobre todas las clases.\n",
    "\n",
    "- Weighted avg (Promedio ponderado): Es el promedio ponderado de precision, recall y f1-score sobre todas las clases, ponderado por el número de muestras en cada clase.\n",
    "\n"
   ]
  },
  {
   "cell_type": "code",
   "execution_count": 242,
   "metadata": {},
   "outputs": [
    {
     "name": "stdout",
     "output_type": "stream",
     "text": [
      "Overall Accuracy: 0.7823765020026703\n",
      "Overall Precision: 0.6358426864882313\n",
      "Overall Recall: 0.585015307646356\n"
     ]
    }
   ],
   "source": [
    "from sklearn.metrics import accuracy_score, precision_score, recall_score\n",
    "\n",
    "print(\"Overall Accuracy:\",accuracy_score(y_test, predictions))\n",
    "print(\"Overall Precision:\",precision_score(y_test, predictions, average='macro'))\n",
    "print(\"Overall Recall:\",recall_score(y_test, predictions, average='macro'))\n"
   ]
  },
  {
   "cell_type": "code",
   "execution_count": 243,
   "metadata": {},
   "outputs": [
    {
     "name": "stdout",
     "output_type": "stream",
     "text": [
      "[[ 40   0  11   0   6   5]\n",
      " [  0 288   0   0   0   0]\n",
      " [  0   0  33  82   5   0]\n",
      " [  0   2   1 189   0   0]\n",
      " [ 13   0  23   2  34   0]\n",
      " [  8   0   3   0   2   2]]\n"
     ]
    }
   ],
   "source": [
    "#Imprimimos la matriz de confusión\n",
    "from sklearn.metrics import confusion_matrix\n",
    "\n",
    "m = confusion_matrix(y_test, predictions)\n",
    "print(m)"
   ]
  },
  {
   "cell_type": "code",
   "execution_count": 256,
   "metadata": {},
   "outputs": [
    {
     "data": {
      "image/png": "[encoded data removed]",
      "text/plain": [
       "<Figure size 432x288 with 2 Axes>"
      ]
     },
     "metadata": {
      "needs_background": "light"
     },
     "output_type": "display_data"
    }
   ],
   "source": [
    "\n",
    "# Definir las clases de los partidos\n",
    "posicion_classes = ['Final', 'Group stage', 'Quarter-finals', 'Round of 16', 'Semi-finals', 'Winner']\n",
    "\n",
    "# Mostrar la matriz de confusión utilizando seaborn\n",
    "sns.heatmap(m, annot=True, fmt='d', cmap='Blues', xticklabels=posicion_classes, yticklabels=posicion_classes)\n",
    "plt.xlabel('Predicted Label')\n",
    "plt.ylabel('True Label')\n",
    "plt.title('Confusion Matrix')\n",
    "plt.show()"
   ]
  },
  {
   "cell_type": "markdown",
   "metadata": {},
   "source": [
    "En el caso de un modelo de clasificación multiclase, no es posible mostrar una única curva ROC que muestre la tasa de verdaderos positivos frente a la tasa de falsos positivos. Sin embargo, puedes utilizar las tasas para cada clase en una comparación Uno vs. Resto (OVR) para crear un gráfico ROC para cada clase."
   ]
  },
  {
   "cell_type": "code",
   "execution_count": 259,
   "metadata": {},
   "outputs": [
    {
     "name": "stderr",
     "output_type": "stream",
     "text": [
      "/Users/carlotasanchezgonzalez/opt/anaconda3/lib/python3.9/site-packages/sklearn/metrics/_ranking.py:999: UndefinedMetricWarning: No positive samples in y_true, true positive value should be meaningless\n",
      "  warnings.warn(\n",
      "/Users/carlotasanchezgonzalez/opt/anaconda3/lib/python3.9/site-packages/sklearn/metrics/_ranking.py:999: UndefinedMetricWarning: No positive samples in y_true, true positive value should be meaningless\n",
      "  warnings.warn(\n",
      "/Users/carlotasanchezgonzalez/opt/anaconda3/lib/python3.9/site-packages/sklearn/metrics/_ranking.py:999: UndefinedMetricWarning: No positive samples in y_true, true positive value should be meaningless\n",
      "  warnings.warn(\n",
      "/Users/carlotasanchezgonzalez/opt/anaconda3/lib/python3.9/site-packages/sklearn/metrics/_ranking.py:999: UndefinedMetricWarning: No positive samples in y_true, true positive value should be meaningless\n",
      "  warnings.warn(\n",
      "/Users/carlotasanchezgonzalez/opt/anaconda3/lib/python3.9/site-packages/sklearn/metrics/_ranking.py:999: UndefinedMetricWarning: No positive samples in y_true, true positive value should be meaningless\n",
      "  warnings.warn(\n",
      "/Users/carlotasanchezgonzalez/opt/anaconda3/lib/python3.9/site-packages/sklearn/metrics/_ranking.py:999: UndefinedMetricWarning: No positive samples in y_true, true positive value should be meaningless\n",
      "  warnings.warn(\n"
     ]
    },
    {
     "data": {
      "image/png": "[encoded data removed]",
      "text/plain": [
       "<Figure size 432x288 with 1 Axes>"
      ]
     },
     "metadata": {
      "needs_background": "light"
     },
     "output_type": "display_data"
    }
   ],
   "source": [
    "from sklearn.metrics import roc_curve\n",
    "from sklearn.metrics import roc_auc_score\n",
    "\n",
    "# Obtener las probabilidades de clase\n",
    "partidos_prob = multi_model.predict_proba(x_test)\n",
    "\n",
    "# Obtener métricas ROC para cada clase\n",
    "fpr = {}\n",
    "tpr = {}\n",
    "thresh = {}\n",
    "for i in range(len(multi_model.classes_)):    \n",
    "    fpr[i], tpr[i], thresh[i] = roc_curve(y_test, partidos_prob[:, i], pos_label=i)\n",
    "    \n",
    "# Trazar la curva ROC\n",
    "for i in range(len(multi_model.classes_)):\n",
    "    plt.plot(fpr[i], tpr[i], linestyle='--', label='Class {} vs Rest'.format(i))\n",
    "\n",
    "plt.title('Multiclass ROC curve')\n",
    "plt.xlabel('False Positive Rate')\n",
    "plt.ylabel('True Positive Rate')\n",
    "plt.legend(loc='best')\n",
    "plt.show()"
   ]
  },
  {
   "cell_type": "code",
   "execution_count": 260,
   "metadata": {},
   "outputs": [
    {
     "name": "stdout",
     "output_type": "stream",
     "text": [
      "Average AUC: 0.9679651005859448\n"
     ]
    }
   ],
   "source": [
    "auc = roc_auc_score(y_test, partidos_prob, multi_class='ovr')\n",
    "print('Average AUC:', auc)"
   ]
  },
  {
   "cell_type": "markdown",
   "metadata": {},
   "source": [
    "Promedio de los AUC obtenidos para cada clase individualmente mediante un enfoque OVR, en este caso sugiere que el modelo tiene un buen rendimiento en términos de capacidad discriminativa en general."
   ]
  },
  {
   "cell_type": "markdown",
   "metadata": {},
   "source": [
    "### Random Forest"
   ]
  },
  {
   "cell_type": "code",
   "execution_count": 261,
   "metadata": {},
   "outputs": [
    {
     "name": "stdout",
     "output_type": "stream",
     "text": [
      "Accuracy: 0.9719626168224299\n",
      "\n",
      "Classification Report:\n",
      "                precision    recall  f1-score   support\n",
      "\n",
      "         Final       0.82      0.90      0.86        62\n",
      "   Group stage       1.00      1.00      1.00       288\n",
      "Quarter-finals       0.94      1.00      0.97       120\n",
      "   Round of 16       1.00      0.99      0.99       192\n",
      "   Semi-finals       0.97      0.93      0.95        72\n",
      "        Winner       1.00      0.47      0.64        15\n",
      "\n",
      "      accuracy                           0.97       749\n",
      "     macro avg       0.96      0.88      0.90       749\n",
      "  weighted avg       0.97      0.97      0.97       749\n",
      "\n"
     ]
    },
    {
     "data": {
      "image/png": "[encoded data removed]",
      "text/plain": [
       "<Figure size 432x288 with 2 Axes>"
      ]
     },
     "metadata": {
      "needs_background": "light"
     },
     "output_type": "display_data"
    },
    {
     "name": "stderr",
     "output_type": "stream",
     "text": [
      "/Users/carlotasanchezgonzalez/opt/anaconda3/lib/python3.9/site-packages/sklearn/metrics/_ranking.py:999: UndefinedMetricWarning: No positive samples in y_true, true positive value should be meaningless\n",
      "  warnings.warn(\n",
      "/Users/carlotasanchezgonzalez/opt/anaconda3/lib/python3.9/site-packages/sklearn/metrics/_ranking.py:999: UndefinedMetricWarning: No positive samples in y_true, true positive value should be meaningless\n",
      "  warnings.warn(\n",
      "/Users/carlotasanchezgonzalez/opt/anaconda3/lib/python3.9/site-packages/sklearn/metrics/_ranking.py:999: UndefinedMetricWarning: No positive samples in y_true, true positive value should be meaningless\n",
      "  warnings.warn(\n",
      "/Users/carlotasanchezgonzalez/opt/anaconda3/lib/python3.9/site-packages/sklearn/metrics/_ranking.py:999: UndefinedMetricWarning: No positive samples in y_true, true positive value should be meaningless\n",
      "  warnings.warn(\n",
      "/Users/carlotasanchezgonzalez/opt/anaconda3/lib/python3.9/site-packages/sklearn/metrics/_ranking.py:999: UndefinedMetricWarning: No positive samples in y_true, true positive value should be meaningless\n",
      "  warnings.warn(\n",
      "/Users/carlotasanchezgonzalez/opt/anaconda3/lib/python3.9/site-packages/sklearn/metrics/_ranking.py:999: UndefinedMetricWarning: No positive samples in y_true, true positive value should be meaningless\n",
      "  warnings.warn(\n"
     ]
    },
    {
     "data": {
      "image/png": "[encoded data removed]",
      "text/plain": [
       "<Figure size 432x288 with 1 Axes>"
      ]
     },
     "metadata": {
      "needs_background": "light"
     },
     "output_type": "display_data"
    }
   ],
   "source": [
    "from sklearn.ensemble import RandomForestClassifier\n",
    "\n",
    "\n",
    "# Crear y entrenar el modelo Random Forest\n",
    "random_forest_model = RandomForestClassifier(n_estimators=100, random_state=42)\n",
    "random_forest_model.fit(x_train, y_train)\n",
    "\n",
    "# Realizar predicciones en el conjunto de prueba\n",
    "predictions = random_forest_model.predict(x_test)\n",
    "\n",
    "# Calcular la precisión del modelo\n",
    "accuracy = accuracy_score(y_test, predictions)\n",
    "print(\"Accuracy:\", accuracy)\n",
    "\n",
    "# Mostrar el reporte de clasificación\n",
    "print(\"\\nClassification Report:\")\n",
    "print(classification_report(y_test, predictions))\n",
    "\n",
    "# Calcular la matriz de confusión\n",
    "conf_matrix = confusion_matrix(y_test, predictions)\n",
    "\n",
    "# Mostrar la matriz de confusión utilizando seaborn\n",
    "sns.heatmap(conf_matrix, annot=True, fmt='d', cmap='Blues', xticklabels=posicion_classes, yticklabels=posicion_classes)\n",
    "plt.xlabel('Predicted Label')\n",
    "plt.ylabel('True Label')\n",
    "plt.title('Confusion Matrix')\n",
    "plt.show()\n",
    "\n",
    "# Obtener las probabilidades de clase\n",
    "partidos_prob = random_forest_model.predict_proba(x_test)\n",
    "\n",
    "# Obtener métricas ROC para cada clase\n",
    "fpr = {}\n",
    "tpr = {}\n",
    "thresh = {}\n",
    "for i in range(len(random_forest_model.classes_)):    \n",
    "    fpr[i], tpr[i], thresh[i] = roc_curve(y_test, partidos_prob[:, i], pos_label=i)\n",
    "    \n",
    "# Trazar la curva ROC\n",
    "for i in range(len(random_forest_model.classes_)):\n",
    "    plt.plot(fpr[i], tpr[i], linestyle='--', label='Class {} vs Rest'.format(i))\n",
    "\n",
    "plt.title('Multiclass ROC curve')\n",
    "plt.xlabel('False Positive Rate')\n",
    "plt.ylabel('True Positive Rate')\n",
    "plt.legend(loc='best')\n",
    "plt.show()\n"
   ]
  },
  {
   "cell_type": "markdown",
   "metadata": {},
   "source": [
    "Con este modelo vemos que los resultados mejoran. Ahora voy a probar con Gradient Boosting este modelo puede ser bueno para mi trabajo.\n",
    "\n",
    "#### Gradient Boosting"
   ]
  },
  {
   "cell_type": "code",
   "execution_count": 262,
   "metadata": {},
   "outputs": [
    {
     "name": "stdout",
     "output_type": "stream",
     "text": [
      "Accuracy: 0.9853137516688919\n",
      "Classification Report:\n",
      "                 precision    recall  f1-score   support\n",
      "\n",
      "         Final       0.94      0.94      0.94        62\n",
      "   Group stage       0.99      1.00      1.00       288\n",
      "Quarter-finals       0.96      1.00      0.98       120\n",
      "   Round of 16       1.00      0.99      0.99       192\n",
      "   Semi-finals       1.00      0.96      0.98        72\n",
      "        Winner       1.00      0.87      0.93        15\n",
      "\n",
      "      accuracy                           0.99       749\n",
      "     macro avg       0.98      0.96      0.97       749\n",
      "  weighted avg       0.99      0.99      0.99       749\n",
      "\n"
     ]
    },
    {
     "data": {
      "image/png": "[encoded data removed]",
      "text/plain": [
       "<Figure size 432x288 with 2 Axes>"
      ]
     },
     "metadata": {
      "needs_background": "light"
     },
     "output_type": "display_data"
    },
    {
     "name": "stderr",
     "output_type": "stream",
     "text": [
      "/Users/carlotasanchezgonzalez/opt/anaconda3/lib/python3.9/site-packages/sklearn/metrics/_ranking.py:999: UndefinedMetricWarning: No positive samples in y_true, true positive value should be meaningless\n",
      "  warnings.warn(\n",
      "/Users/carlotasanchezgonzalez/opt/anaconda3/lib/python3.9/site-packages/sklearn/metrics/_ranking.py:999: UndefinedMetricWarning: No positive samples in y_true, true positive value should be meaningless\n",
      "  warnings.warn(\n",
      "/Users/carlotasanchezgonzalez/opt/anaconda3/lib/python3.9/site-packages/sklearn/metrics/_ranking.py:999: UndefinedMetricWarning: No positive samples in y_true, true positive value should be meaningless\n",
      "  warnings.warn(\n",
      "/Users/carlotasanchezgonzalez/opt/anaconda3/lib/python3.9/site-packages/sklearn/metrics/_ranking.py:999: UndefinedMetricWarning: No positive samples in y_true, true positive value should be meaningless\n",
      "  warnings.warn(\n",
      "/Users/carlotasanchezgonzalez/opt/anaconda3/lib/python3.9/site-packages/sklearn/metrics/_ranking.py:999: UndefinedMetricWarning: No positive samples in y_true, true positive value should be meaningless\n",
      "  warnings.warn(\n",
      "/Users/carlotasanchezgonzalez/opt/anaconda3/lib/python3.9/site-packages/sklearn/metrics/_ranking.py:999: UndefinedMetricWarning: No positive samples in y_true, true positive value should be meaningless\n",
      "  warnings.warn(\n"
     ]
    },
    {
     "data": {
      "image/png": "[encoded data removed]",
      "text/plain": [
       "<Figure size 432x288 with 1 Axes>"
      ]
     },
     "metadata": {
      "needs_background": "light"
     },
     "output_type": "display_data"
    }
   ],
   "source": [
    "from sklearn.ensemble import GradientBoostingClassifier\n",
    "\n",
    "# Inicializar y ajustar el modelo Gradient Boosting\n",
    "modelo_gb = GradientBoostingClassifier()\n",
    "modelo_gb.fit(x_train, y_train)\n",
    "\n",
    "# Realizar predicciones\n",
    "predicciones = modelo_gb.predict(x_test)\n",
    "\n",
    "# Calcular la precisión del modelo\n",
    "precision = accuracy_score(y_test, predicciones)\n",
    "print(\"Accuracy:\", precision)\n",
    "\n",
    "# Mostrar el informe de clasificación\n",
    "print(\"Classification Report:\\n\", classification_report(y_test, predicciones))\n",
    "\n",
    "# Calcular la matriz de confusión\n",
    "conf_matrix = confusion_matrix(y_test, predictions)\n",
    "# Mostrar la matriz de confusión utilizando seaborn\n",
    "sns.heatmap(conf_matrix, annot=True, fmt='d', cmap='Blues', xticklabels=posicion_classes, yticklabels=posicion_classes)\n",
    "plt.xlabel('Predicted Label')\n",
    "plt.ylabel('True Label')\n",
    "plt.title('Confusion Matrix')\n",
    "plt.show()\n",
    "\n",
    "\n",
    "# Obtener las probabilidades de clase\n",
    "partidos_prob = modelo_gb.predict_proba(x_test)\n",
    "\n",
    "# Obtener métricas ROC para cada clase\n",
    "fpr = {}\n",
    "tpr = {}\n",
    "thresh = {}\n",
    "for i in range(len(modelo_gb.classes_)):    \n",
    "    fpr[i], tpr[i], thresh[i] = roc_curve(y_test, partidos_prob[:, i], pos_label=i)\n",
    "    \n",
    "# Trazar la curva ROC\n",
    "for i in range(len(modelo_gb.classes_)):\n",
    "    plt.plot(fpr[i], tpr[i], linestyle='--', label='Class {} vs Rest'.format(i))\n",
    "\n",
    "plt.title('Multiclass ROC curve')\n",
    "plt.xlabel('False Positive Rate')\n",
    "plt.ylabel('True Positive Rate')\n",
    "plt.legend(loc='best')\n",
    "plt.show()\n"
   ]
  },
  {
   "cell_type": "markdown",
   "metadata": {},
   "source": [
    "### Preprocesamiento de los datos\n",
    "\n",
    "Escalaré los datos con un pipeline y utilizaré los mismo modelos anteriores a ver si mis resultados mejoran. Además también utilizaré SVM, un algoritmo de aprendizaje supervisado. Su objetivo principal en la clasificación es encontrar un hiperplano en un espacio multidimensional que separe de la mejor manera posible las diferentes clases de datos. Este hiperplano se define de manera que maximiza la distancia entre los puntos más cercanos de las clases, conocidos como vectores de soporte."
   ]
  },
  {
   "cell_type": "code",
   "execution_count": 249,
   "metadata": {},
   "outputs": [
    {
     "data": {
      "text/html": [
       "<div>\n",
       "<style scoped>\n",
       "    .dataframe tbody tr th:only-of-type {\n",
       "        vertical-align: middle;\n",
       "    }\n",
       "\n",
       "    .dataframe tbody tr th {\n",
       "        vertical-align: top;\n",
       "    }\n",
       "\n",
       "    .dataframe thead th {\n",
       "        text-align: right;\n",
       "    }\n",
       "</style>\n",
       "<table border=\"1\" class=\"dataframe\">\n",
       "  <thead>\n",
       "    <tr style=\"text-align: right;\">\n",
       "      <th></th>\n",
       "      <th>idPartido</th>\n",
       "      <th>Local</th>\n",
       "      <th>Visitante</th>\n",
       "      <th>GolesLocal</th>\n",
       "      <th>GolesVisitante</th>\n",
       "      <th>VictoriaLocal</th>\n",
       "      <th>Empate</th>\n",
       "      <th>VictoriaVisitante</th>\n",
       "      <th>%_Victorias_Local</th>\n",
       "      <th>%_Empate</th>\n",
       "      <th>...</th>\n",
       "      <th>%_2_G_Temporada</th>\n",
       "      <th>%_2_G_Temporada_L</th>\n",
       "      <th>%_2_E_Temporada_L</th>\n",
       "      <th>%_2_P_Temporada_L</th>\n",
       "      <th>2_Media_G</th>\n",
       "      <th>2_Media_G_Local</th>\n",
       "      <th>2_Media_Goles_PP</th>\n",
       "      <th>2_ValorJugadores</th>\n",
       "      <th>2_MediaJugadores</th>\n",
       "      <th>Posicion</th>\n",
       "    </tr>\n",
       "  </thead>\n",
       "  <tbody>\n",
       "    <tr>\n",
       "      <th>0</th>\n",
       "      <td>121</td>\n",
       "      <td>235</td>\n",
       "      <td>11</td>\n",
       "      <td>1</td>\n",
       "      <td>0</td>\n",
       "      <td>1</td>\n",
       "      <td>0</td>\n",
       "      <td>0</td>\n",
       "      <td>100.0</td>\n",
       "      <td>0.0</td>\n",
       "      <td>...</td>\n",
       "      <td>55.56</td>\n",
       "      <td>60.00</td>\n",
       "      <td>20.00</td>\n",
       "      <td>20.00</td>\n",
       "      <td>0.56</td>\n",
       "      <td>0.60</td>\n",
       "      <td>1.33</td>\n",
       "      <td>685.188968</td>\n",
       "      <td>26.353422</td>\n",
       "      <td>Group stage</td>\n",
       "    </tr>\n",
       "    <tr>\n",
       "      <th>1</th>\n",
       "      <td>122</td>\n",
       "      <td>14</td>\n",
       "      <td>153</td>\n",
       "      <td>3</td>\n",
       "      <td>0</td>\n",
       "      <td>1</td>\n",
       "      <td>0</td>\n",
       "      <td>0</td>\n",
       "      <td>0.0</td>\n",
       "      <td>100.0</td>\n",
       "      <td>...</td>\n",
       "      <td>0.00</td>\n",
       "      <td>0.00</td>\n",
       "      <td>100.00</td>\n",
       "      <td>0.00</td>\n",
       "      <td>0.00</td>\n",
       "      <td>0.00</td>\n",
       "      <td>0.20</td>\n",
       "      <td>356.128703</td>\n",
       "      <td>14.245148</td>\n",
       "      <td>Round of 16</td>\n",
       "    </tr>\n",
       "    <tr>\n",
       "      <th>2</th>\n",
       "      <td>123</td>\n",
       "      <td>15</td>\n",
       "      <td>1</td>\n",
       "      <td>0</td>\n",
       "      <td>3</td>\n",
       "      <td>0</td>\n",
       "      <td>0</td>\n",
       "      <td>1</td>\n",
       "      <td>100.0</td>\n",
       "      <td>0.0</td>\n",
       "      <td>...</td>\n",
       "      <td>63.64</td>\n",
       "      <td>83.33</td>\n",
       "      <td>16.67</td>\n",
       "      <td>0.00</td>\n",
       "      <td>0.64</td>\n",
       "      <td>0.83</td>\n",
       "      <td>2.09</td>\n",
       "      <td>796.271706</td>\n",
       "      <td>36.194168</td>\n",
       "      <td>Group stage</td>\n",
       "    </tr>\n",
       "    <tr>\n",
       "      <th>3</th>\n",
       "      <td>124</td>\n",
       "      <td>10</td>\n",
       "      <td>298</td>\n",
       "      <td>2</td>\n",
       "      <td>0</td>\n",
       "      <td>1</td>\n",
       "      <td>0</td>\n",
       "      <td>0</td>\n",
       "      <td>0.0</td>\n",
       "      <td>0.0</td>\n",
       "      <td>...</td>\n",
       "      <td>20.00</td>\n",
       "      <td>33.33</td>\n",
       "      <td>0.00</td>\n",
       "      <td>66.67</td>\n",
       "      <td>0.20</td>\n",
       "      <td>0.33</td>\n",
       "      <td>1.40</td>\n",
       "      <td>382.737487</td>\n",
       "      <td>19.136874</td>\n",
       "      <td>Quarter-finals</td>\n",
       "    </tr>\n",
       "    <tr>\n",
       "      <th>4</th>\n",
       "      <td>125</td>\n",
       "      <td>184</td>\n",
       "      <td>2</td>\n",
       "      <td>1</td>\n",
       "      <td>1</td>\n",
       "      <td>0</td>\n",
       "      <td>1</td>\n",
       "      <td>0</td>\n",
       "      <td>100.0</td>\n",
       "      <td>0.0</td>\n",
       "      <td>...</td>\n",
       "      <td>45.45</td>\n",
       "      <td>66.67</td>\n",
       "      <td>0.00</td>\n",
       "      <td>33.33</td>\n",
       "      <td>0.45</td>\n",
       "      <td>0.67</td>\n",
       "      <td>1.27</td>\n",
       "      <td>749.233912</td>\n",
       "      <td>32.575387</td>\n",
       "      <td>Group stage</td>\n",
       "    </tr>\n",
       "  </tbody>\n",
       "</table>\n",
       "<p>5 rows × 32 columns</p>\n",
       "</div>"
      ],
      "text/plain": [
       "   idPartido  Local  Visitante  GolesLocal  GolesVisitante  VictoriaLocal  \\\n",
       "0        121    235         11           1               0              1   \n",
       "1        122     14        153           3               0              1   \n",
       "2        123     15          1           0               3              0   \n",
       "3        124     10        298           2               0              1   \n",
       "4        125    184          2           1               1              0   \n",
       "\n",
       "   Empate  VictoriaVisitante  %_Victorias_Local  %_Empate  ...  \\\n",
       "0       0                  0              100.0       0.0  ...   \n",
       "1       0                  0                0.0     100.0  ...   \n",
       "2       0                  1              100.0       0.0  ...   \n",
       "3       0                  0                0.0       0.0  ...   \n",
       "4       1                  0              100.0       0.0  ...   \n",
       "\n",
       "   %_2_G_Temporada  %_2_G_Temporada_L  %_2_E_Temporada_L  %_2_P_Temporada_L  \\\n",
       "0            55.56              60.00              20.00              20.00   \n",
       "1             0.00               0.00             100.00               0.00   \n",
       "2            63.64              83.33              16.67               0.00   \n",
       "3            20.00              33.33               0.00              66.67   \n",
       "4            45.45              66.67               0.00              33.33   \n",
       "\n",
       "   2_Media_G  2_Media_G_Local  2_Media_Goles_PP  2_ValorJugadores  \\\n",
       "0       0.56             0.60              1.33        685.188968   \n",
       "1       0.00             0.00              0.20        356.128703   \n",
       "2       0.64             0.83              2.09        796.271706   \n",
       "3       0.20             0.33              1.40        382.737487   \n",
       "4       0.45             0.67              1.27        749.233912   \n",
       "\n",
       "   2_MediaJugadores        Posicion  \n",
       "0         26.353422     Group stage  \n",
       "1         14.245148     Round of 16  \n",
       "2         36.194168     Group stage  \n",
       "3         19.136874  Quarter-finals  \n",
       "4         32.575387     Group stage  \n",
       "\n",
       "[5 rows x 32 columns]"
      ]
     },
     "execution_count": 249,
     "metadata": {},
     "output_type": "execute_result"
    }
   ],
   "source": [
    "df.head()"
   ]
  },
  {
   "cell_type": "code",
   "execution_count": 250,
   "metadata": {},
   "outputs": [
    {
     "name": "stdout",
     "output_type": "stream",
     "text": [
      "Pipeline(steps=[('preprocessor',\n",
      "                 ColumnTransformer(transformers=[('preprocess',\n",
      "                                                  Pipeline(steps=[('scaler',\n",
      "                                                                   StandardScaler())]),\n",
      "                                                  [3, 4, 5, 6, 7, 8, 9, 10, 11,\n",
      "                                                   12, 13, 14, 15, 16, 17, 18,\n",
      "                                                   19, 20, 21, 22, 23, 24,\n",
      "                                                   25])])),\n",
      "                ('regressor', SVC(probability=True))])\n"
     ]
    }
   ],
   "source": [
    "from sklearn.preprocessing import StandardScaler\n",
    "from sklearn.compose import ColumnTransformer\n",
    "from sklearn.pipeline import Pipeline\n",
    "from sklearn.svm import SVC\n",
    "\n",
    "columnas_a_escalar = [3, 4, 5, 6, 7, 8, 9, 10, 11, 12, 13, 14, 15, 16, 17, 18, 19, 20, 21, 22, 23, 24, 25]\n",
    "\n",
    "\n",
    "feature_transformer = Pipeline(steps=[\n",
    "    ('scaler', StandardScaler())\n",
    "    ])\n",
    "\n",
    "preprocessor = ColumnTransformer(\n",
    "    transformers=[\n",
    "        ('preprocess', feature_transformer, columnas_a_escalar)])\n",
    "\n",
    "#pipeline con svc\n",
    "pipeline = Pipeline(steps=[('preprocessor', preprocessor),\n",
    "                           ('regressor', SVC(probability=True))])\n",
    "\n",
    "\n",
    "multi_model_SVC = pipeline.fit(x_train, y_train)\n",
    "print (multi_model_SVC)\n"
   ]
  },
  {
   "cell_type": "code",
   "execution_count": 264,
   "metadata": {},
   "outputs": [
    {
     "name": "stdout",
     "output_type": "stream",
     "text": [
      "Overall Accuracy: 0.8918558077436582\n",
      "Overall Precision: 0.6735490285298907\n",
      "Overall Recall: 0.6917973416965353\n",
      "Average AUC: 0.9808175051164539\n"
     ]
    },
    {
     "name": "stderr",
     "output_type": "stream",
     "text": [
      "/Users/carlotasanchezgonzalez/opt/anaconda3/lib/python3.9/site-packages/sklearn/metrics/_classification.py:1318: UndefinedMetricWarning: Precision is ill-defined and being set to 0.0 in labels with no predicted samples. Use `zero_division` parameter to control this behavior.\n",
      "  _warn_prf(average, modifier, msg_start, len(result))\n"
     ]
    },
    {
     "data": {
      "image/png": "[encoded data removed]",
      "text/plain": [
       "<Figure size 432x288 with 2 Axes>"
      ]
     },
     "metadata": {
      "needs_background": "light"
     },
     "output_type": "display_data"
    },
    {
     "name": "stderr",
     "output_type": "stream",
     "text": [
      "/Users/carlotasanchezgonzalez/opt/anaconda3/lib/python3.9/site-packages/sklearn/metrics/_ranking.py:999: UndefinedMetricWarning: No positive samples in y_true, true positive value should be meaningless\n",
      "  warnings.warn(\n",
      "/Users/carlotasanchezgonzalez/opt/anaconda3/lib/python3.9/site-packages/sklearn/metrics/_ranking.py:999: UndefinedMetricWarning: No positive samples in y_true, true positive value should be meaningless\n",
      "  warnings.warn(\n",
      "/Users/carlotasanchezgonzalez/opt/anaconda3/lib/python3.9/site-packages/sklearn/metrics/_ranking.py:999: UndefinedMetricWarning: No positive samples in y_true, true positive value should be meaningless\n",
      "  warnings.warn(\n",
      "/Users/carlotasanchezgonzalez/opt/anaconda3/lib/python3.9/site-packages/sklearn/metrics/_ranking.py:999: UndefinedMetricWarning: No positive samples in y_true, true positive value should be meaningless\n",
      "  warnings.warn(\n",
      "/Users/carlotasanchezgonzalez/opt/anaconda3/lib/python3.9/site-packages/sklearn/metrics/_ranking.py:999: UndefinedMetricWarning: No positive samples in y_true, true positive value should be meaningless\n",
      "  warnings.warn(\n",
      "/Users/carlotasanchezgonzalez/opt/anaconda3/lib/python3.9/site-packages/sklearn/metrics/_ranking.py:999: UndefinedMetricWarning: No positive samples in y_true, true positive value should be meaningless\n",
      "  warnings.warn(\n"
     ]
    },
    {
     "data": {
      "image/png": "[encoded data removed]",
      "text/plain": [
       "<Figure size 432x288 with 1 Axes>"
      ]
     },
     "metadata": {
      "needs_background": "light"
     },
     "output_type": "display_data"
    }
   ],
   "source": [
    "#Evaluación del modelo SVC con pipeline\n",
    "# Get predictions from test data\n",
    "predictions = multi_model_SVC.predict(x_test)\n",
    "partidos_prob = multi_model_SVC.predict_proba(x_test)\n",
    "\n",
    "# Overall metrics\n",
    "print(\"Overall Accuracy:\",accuracy_score(y_test, predictions))\n",
    "print(\"Overall Precision:\",precision_score(y_test, predictions, average='macro'))\n",
    "print(\"Overall Recall:\",recall_score(y_test, predictions, average='macro'))\n",
    "print('Average AUC:', roc_auc_score(y_test,partidos_prob, multi_class='ovr'))\n",
    "\n",
    "m = confusion_matrix(y_test, predictions)\n",
    "# Mostrar la matriz de confusión utilizando seaborn\n",
    "sns.heatmap(m, annot=True, fmt='d', cmap='Blues', xticklabels=posicion_classes, yticklabels=posicion_classes)\n",
    "plt.xlabel('Predicted Label')\n",
    "plt.ylabel('True Label')\n",
    "plt.title('Confusion Matrix')\n",
    "plt.show()\n",
    "\n",
    "# Obtener métricas ROC para cada clase\n",
    "fpr = {}\n",
    "tpr = {}\n",
    "thresh = {}\n",
    "for i in range(len(multi_model_SVC.classes_)):    \n",
    "    fpr[i], tpr[i], thresh[i] = roc_curve(y_test, partidos_prob[:, i], pos_label=i)\n",
    "    \n",
    "# Trazar la curva ROC\n",
    "for i in range(len(multi_model_SVC.classes_)):\n",
    "    plt.plot(fpr[i], tpr[i], linestyle='--', label='Class {} vs Rest'.format(i))\n",
    "\n",
    "plt.title('Multiclass ROC curve')\n",
    "plt.xlabel('False Positive Rate')\n",
    "plt.ylabel('True Positive Rate')\n",
    "plt.legend(loc='best')\n",
    "plt.show()"
   ]
  },
  {
   "cell_type": "code",
   "execution_count": 252,
   "metadata": {},
   "outputs": [
    {
     "name": "stdout",
     "output_type": "stream",
     "text": [
      "Pipeline(steps=[('preprocessor',\n",
      "                 ColumnTransformer(transformers=[('preprocess',\n",
      "                                                  Pipeline(steps=[('scaler',\n",
      "                                                                   StandardScaler())]),\n",
      "                                                  [3, 4, 5, 6, 7, 8, 9, 10, 11,\n",
      "                                                   12, 13, 14, 15, 16, 17, 18,\n",
      "                                                   19, 20, 21, 22, 23, 24,\n",
      "                                                   25])])),\n",
      "                ('regressor', RandomForestClassifier(random_state=42))])\n",
      "Overall Accuracy: 0.9692923898531375\n",
      "Overall Precision: 0.9519086496747972\n",
      "Overall Recall: 0.8590763142174432\n",
      "Average AUC: 0.9947201864615578\n"
     ]
    },
    {
     "data": {
      "image/png": "[encoded data removed]",
      "text/plain": [
       "<Figure size 432x288 with 2 Axes>"
      ]
     },
     "metadata": {
      "needs_background": "light"
     },
     "output_type": "display_data"
    },
    {
     "name": "stderr",
     "output_type": "stream",
     "text": [
      "/Users/carlotasanchezgonzalez/opt/anaconda3/lib/python3.9/site-packages/sklearn/metrics/_ranking.py:999: UndefinedMetricWarning: No positive samples in y_true, true positive value should be meaningless\n",
      "  warnings.warn(\n",
      "/Users/carlotasanchezgonzalez/opt/anaconda3/lib/python3.9/site-packages/sklearn/metrics/_ranking.py:999: UndefinedMetricWarning: No positive samples in y_true, true positive value should be meaningless\n",
      "  warnings.warn(\n",
      "/Users/carlotasanchezgonzalez/opt/anaconda3/lib/python3.9/site-packages/sklearn/metrics/_ranking.py:999: UndefinedMetricWarning: No positive samples in y_true, true positive value should be meaningless\n",
      "  warnings.warn(\n",
      "/Users/carlotasanchezgonzalez/opt/anaconda3/lib/python3.9/site-packages/sklearn/metrics/_ranking.py:999: UndefinedMetricWarning: No positive samples in y_true, true positive value should be meaningless\n",
      "  warnings.warn(\n",
      "/Users/carlotasanchezgonzalez/opt/anaconda3/lib/python3.9/site-packages/sklearn/metrics/_ranking.py:999: UndefinedMetricWarning: No positive samples in y_true, true positive value should be meaningless\n",
      "  warnings.warn(\n",
      "/Users/carlotasanchezgonzalez/opt/anaconda3/lib/python3.9/site-packages/sklearn/metrics/_ranking.py:999: UndefinedMetricWarning: No positive samples in y_true, true positive value should be meaningless\n",
      "  warnings.warn(\n"
     ]
    },
    {
     "data": {
      "image/png": "[encoded data removed]",
      "text/plain": [
       "<Figure size 432x288 with 1 Axes>"
      ]
     },
     "metadata": {
      "needs_background": "light"
     },
     "output_type": "display_data"
    }
   ],
   "source": [
    "#pipeline con random forest\n",
    "pipeline = Pipeline(steps=[('preprocessor', preprocessor),\n",
    "                           ('regressor', RandomForestClassifier(n_estimators=100, random_state=42))])\n",
    "\n",
    "multi_model_RF = pipeline.fit(x_train, y_train)\n",
    "print (multi_model_RF)\n",
    "\n",
    "#Evaluación del modelo Random Forest con pipeline\n",
    "# Get predictions from test data\n",
    "predictions = multi_model_RF.predict(x_test)\n",
    "partidos_prob = multi_model_RF.predict_proba(x_test)\n",
    "\n",
    "# Overall metrics\n",
    "print(\"Overall Accuracy:\",accuracy_score(y_test, predictions))\n",
    "print(\"Overall Precision:\",precision_score(y_test, predictions, average='macro'))\n",
    "print(\"Overall Recall:\",recall_score(y_test, predictions, average='macro'))\n",
    "print('Average AUC:', roc_auc_score(y_test,partidos_prob, multi_class='ovr'))\n",
    "\n",
    "# Confusion matrix\n",
    "plt.imshow(m, interpolation=\"nearest\", cmap=plt.cm.Blues)\n",
    "plt.colorbar()\n",
    "tick_marks = np.arange(len(posicion_classes))\n",
    "plt.xticks(tick_marks, posicion_classes, rotation=45)\n",
    "plt.yticks(tick_marks, posicion_classes)\n",
    "plt.xlabel(\"Predicted Winner\")\n",
    "plt.ylabel(\"Actual Winner\")\n",
    "plt.show()\n",
    "\n",
    "# Obtener métricas ROC para cada clase\n",
    "fpr = {}\n",
    "tpr = {}\n",
    "thresh = {}\n",
    "for i in range(len(multi_model_RF.classes_)):    \n",
    "    fpr[i], tpr[i], thresh[i] = roc_curve(y_test, partidos_prob[:, i], pos_label=i)\n",
    "    \n",
    "# Trazar la curva ROC\n",
    "for i in range(len(multi_model_RF.classes_)):\n",
    "    plt.plot(fpr[i], tpr[i], linestyle='--', label='Class {} vs Rest'.format(i))\n",
    "\n",
    "plt.title('Multiclass ROC curve')\n",
    "plt.xlabel('False Positive Rate')\n",
    "plt.ylabel('True Positive Rate')\n",
    "plt.legend(loc='best')\n",
    "plt.show()\n"
   ]
  },
  {
   "cell_type": "code",
   "execution_count": 253,
   "metadata": {},
   "outputs": [
    {
     "name": "stdout",
     "output_type": "stream",
     "text": [
      "Pipeline(steps=[('preprocessor',\n",
      "                 ColumnTransformer(transformers=[('preprocess',\n",
      "                                                  Pipeline(steps=[('scaler',\n",
      "                                                                   StandardScaler())]),\n",
      "                                                  [3, 4, 5, 6, 7, 8, 9, 10, 11,\n",
      "                                                   12, 13, 14, 15, 16, 17, 18,\n",
      "                                                   19, 20, 21, 22, 23, 24,\n",
      "                                                   25])])),\n",
      "                ('regressor', GradientBoostingClassifier())])\n",
      "Overall Accuracy: 0.9879839786381842\n",
      "Overall Precision: 0.9813961426864651\n",
      "Overall Recall: 0.9424880525686977\n",
      "Average AUC: 0.9947201864615578\n"
     ]
    },
    {
     "data": {
      "image/png": "[encoded data removed]",
      "text/plain": [
       "<Figure size 432x288 with 2 Axes>"
      ]
     },
     "metadata": {
      "needs_background": "light"
     },
     "output_type": "display_data"
    },
    {
     "name": "stderr",
     "output_type": "stream",
     "text": [
      "/Users/carlotasanchezgonzalez/opt/anaconda3/lib/python3.9/site-packages/sklearn/metrics/_ranking.py:999: UndefinedMetricWarning: No positive samples in y_true, true positive value should be meaningless\n",
      "  warnings.warn(\n",
      "/Users/carlotasanchezgonzalez/opt/anaconda3/lib/python3.9/site-packages/sklearn/metrics/_ranking.py:999: UndefinedMetricWarning: No positive samples in y_true, true positive value should be meaningless\n",
      "  warnings.warn(\n",
      "/Users/carlotasanchezgonzalez/opt/anaconda3/lib/python3.9/site-packages/sklearn/metrics/_ranking.py:999: UndefinedMetricWarning: No positive samples in y_true, true positive value should be meaningless\n",
      "  warnings.warn(\n",
      "/Users/carlotasanchezgonzalez/opt/anaconda3/lib/python3.9/site-packages/sklearn/metrics/_ranking.py:999: UndefinedMetricWarning: No positive samples in y_true, true positive value should be meaningless\n",
      "  warnings.warn(\n",
      "/Users/carlotasanchezgonzalez/opt/anaconda3/lib/python3.9/site-packages/sklearn/metrics/_ranking.py:999: UndefinedMetricWarning: No positive samples in y_true, true positive value should be meaningless\n",
      "  warnings.warn(\n",
      "/Users/carlotasanchezgonzalez/opt/anaconda3/lib/python3.9/site-packages/sklearn/metrics/_ranking.py:999: UndefinedMetricWarning: No positive samples in y_true, true positive value should be meaningless\n",
      "  warnings.warn(\n"
     ]
    },
    {
     "data": {
      "image/png": "[encoded data removed]",
      "text/plain": [
       "<Figure size 432x288 with 1 Axes>"
      ]
     },
     "metadata": {
      "needs_background": "light"
     },
     "output_type": "display_data"
    }
   ],
   "source": [
    "#pipeline con gradient boosting\n",
    "pipeline = Pipeline(steps=[('preprocessor', preprocessor),\n",
    "                           ('regressor', GradientBoostingClassifier())])\n",
    "\n",
    "multi_model_GB = pipeline.fit(x_train, y_train)\n",
    "print (multi_model_GB)\n",
    "\n",
    "#Evaluación del modelo Gradient Boosting con pipeline\n",
    "# Get predictions from test data\n",
    "predictions = multi_model_GB.predict(x_test)\n",
    "partidos_prob_prob = multi_model_GB.predict_proba(x_test)\n",
    "\n",
    "# Overall metrics\n",
    "print(\"Overall Accuracy:\",accuracy_score(y_test, predictions))\n",
    "print(\"Overall Precision:\",precision_score(y_test, predictions, average='macro'))\n",
    "print(\"Overall Recall:\",recall_score(y_test, predictions, average='macro'))\n",
    "print('Average AUC:', roc_auc_score(y_test,partidos_prob, multi_class='ovr'))\n",
    "\n",
    "# Confusion matrix\n",
    "plt.imshow(m, interpolation=\"nearest\", cmap=plt.cm.Blues)\n",
    "plt.colorbar()\n",
    "tick_marks = np.arange(len(posicion_classes))\n",
    "plt.xticks(tick_marks, posicion_classes, rotation=45)\n",
    "plt.yticks(tick_marks, posicion_classes)\n",
    "plt.xlabel(\"Predicted Winner\")\n",
    "plt.ylabel(\"Actual Winner\")\n",
    "plt.show()\n",
    "\n",
    "# Obtener métricas ROC para cada clase\n",
    "fpr = {}\n",
    "tpr = {}\n",
    "thresh = {}\n",
    "for i in range(len(multi_model_GB.classes_)):    \n",
    "    fpr[i], tpr[i], thresh[i] = roc_curve(y_test, partidos_prob[:, i], pos_label=i)\n",
    "    \n",
    "# Trazar la curva ROC\n",
    "for i in range(len(multi_model_GB.classes_)):\n",
    "    plt.plot(fpr[i], tpr[i], linestyle='--', label='Class {} vs Rest'.format(i))\n",
    "\n",
    "plt.title('Multiclass ROC curve')\n",
    "plt.xlabel('False Positive Rate')\n",
    "plt.ylabel('True Positive Rate')\n",
    "plt.legend(loc='best')\n",
    "plt.show()\n"
   ]
  },
  {
   "cell_type": "code",
   "execution_count": 254,
   "metadata": {},
   "outputs": [
    {
     "name": "stderr",
     "output_type": "stream",
     "text": [
      "/Users/carlotasanchezgonzalez/opt/anaconda3/lib/python3.9/site-packages/sklearn/linear_model/_logistic.py:814: ConvergenceWarning: lbfgs failed to converge (status=1):\n",
      "STOP: TOTAL NO. of ITERATIONS REACHED LIMIT.\n",
      "\n",
      "Increase the number of iterations (max_iter) or scale the data as shown in:\n",
      "    https://scikit-learn.org/stable/modules/preprocessing.html\n",
      "Please also refer to the documentation for alternative solver options:\n",
      "    https://scikit-learn.org/stable/modules/linear_model.html#logistic-regression\n",
      "  n_iter_i = _check_optimize_result(\n"
     ]
    },
    {
     "name": "stdout",
     "output_type": "stream",
     "text": [
      "Pipeline(steps=[('preprocessor',\n",
      "                 ColumnTransformer(transformers=[('preprocess',\n",
      "                                                  Pipeline(steps=[('scaler',\n",
      "                                                                   StandardScaler())]),\n",
      "                                                  [3, 4, 5, 6, 7, 8, 9, 10, 11,\n",
      "                                                   12, 13, 14, 15, 16, 17, 18,\n",
      "                                                   19, 20, 21, 22, 23, 24,\n",
      "                                                   25])])),\n",
      "                ('regressor', GradientBoostingClassifier())])\n",
      "Overall Accuracy: 0.9145527369826435\n",
      "Overall Precision: 0.7427021116706424\n",
      "Overall Recall: 0.7400070937873356\n",
      "Average AUC: 0.9947201864615578\n"
     ]
    },
    {
     "data": {
      "image/png": "[encoded data removed]",
      "text/plain": [
       "<Figure size 432x288 with 2 Axes>"
      ]
     },
     "metadata": {
      "needs_background": "light"
     },
     "output_type": "display_data"
    },
    {
     "name": "stderr",
     "output_type": "stream",
     "text": [
      "/Users/carlotasanchezgonzalez/opt/anaconda3/lib/python3.9/site-packages/sklearn/metrics/_ranking.py:999: UndefinedMetricWarning: No positive samples in y_true, true positive value should be meaningless\n",
      "  warnings.warn(\n",
      "/Users/carlotasanchezgonzalez/opt/anaconda3/lib/python3.9/site-packages/sklearn/metrics/_ranking.py:999: UndefinedMetricWarning: No positive samples in y_true, true positive value should be meaningless\n",
      "  warnings.warn(\n",
      "/Users/carlotasanchezgonzalez/opt/anaconda3/lib/python3.9/site-packages/sklearn/metrics/_ranking.py:999: UndefinedMetricWarning: No positive samples in y_true, true positive value should be meaningless\n",
      "  warnings.warn(\n",
      "/Users/carlotasanchezgonzalez/opt/anaconda3/lib/python3.9/site-packages/sklearn/metrics/_ranking.py:999: UndefinedMetricWarning: No positive samples in y_true, true positive value should be meaningless\n",
      "  warnings.warn(\n",
      "/Users/carlotasanchezgonzalez/opt/anaconda3/lib/python3.9/site-packages/sklearn/metrics/_ranking.py:999: UndefinedMetricWarning: No positive samples in y_true, true positive value should be meaningless\n",
      "  warnings.warn(\n",
      "/Users/carlotasanchezgonzalez/opt/anaconda3/lib/python3.9/site-packages/sklearn/metrics/_ranking.py:999: UndefinedMetricWarning: No positive samples in y_true, true positive value should be meaningless\n",
      "  warnings.warn(\n"
     ]
    },
    {
     "data": {
      "image/png": "[encoded data removed]",
      "text/plain": [
       "<Figure size 432x288 with 1 Axes>"
      ]
     },
     "metadata": {
      "needs_background": "light"
     },
     "output_type": "display_data"
    }
   ],
   "source": [
    "#pipeline con gradient boosting\n",
    "pipeline = Pipeline(steps=[('preprocessor', preprocessor),\n",
    "                           ('regressor', LogisticRegression())])\n",
    "\n",
    "multi_model_LR = pipeline.fit(x_train, y_train)\n",
    "print (multi_model_GB)\n",
    "\n",
    "#Evaluación del modelo Gradient Boosting con pipeline\n",
    "# Get predictions from test data\n",
    "predictions = multi_model_LR.predict(x_test)\n",
    "partidos_prob_prob = multi_model_LR.predict_proba(x_test)\n",
    "\n",
    "# Overall metrics\n",
    "print(\"Overall Accuracy:\",accuracy_score(y_test, predictions))\n",
    "print(\"Overall Precision:\",precision_score(y_test, predictions, average='macro'))\n",
    "print(\"Overall Recall:\",recall_score(y_test, predictions, average='macro'))\n",
    "print('Average AUC:', roc_auc_score(y_test,partidos_prob, multi_class='ovr'))\n",
    "\n",
    "# Confusion matrix\n",
    "plt.imshow(m, interpolation=\"nearest\", cmap=plt.cm.Blues)\n",
    "plt.colorbar()\n",
    "tick_marks = np.arange(len(posicion_classes))\n",
    "plt.xticks(tick_marks, posicion_classes, rotation=45)\n",
    "plt.yticks(tick_marks, posicion_classes)\n",
    "plt.xlabel(\"Predicted Winner\")\n",
    "plt.ylabel(\"Actual Winner\")\n",
    "plt.show()\n",
    "\n",
    "# Obtener métricas ROC para cada clase\n",
    "fpr = {}\n",
    "tpr = {}\n",
    "thresh = {}\n",
    "for i in range(len(multi_model_LR.classes_)):    \n",
    "    fpr[i], tpr[i], thresh[i] = roc_curve(y_test, partidos_prob[:, i], pos_label=i)\n",
    "    \n",
    "# Trazar la curva ROC\n",
    "for i in range(len(multi_model_LR.classes_)):\n",
    "    plt.plot(fpr[i], tpr[i], linestyle='--', label='Class {} vs Rest'.format(i))\n",
    "\n",
    "plt.title('Multiclass ROC curve')\n",
    "plt.xlabel('False Positive Rate')\n",
    "plt.ylabel('True Positive Rate')\n",
    "plt.legend(loc='best')\n",
    "plt.show()"
   ]
  },
  {
   "cell_type": "code",
   "execution_count": 255,
   "metadata": {},
   "outputs": [
    {
     "name": "stderr",
     "output_type": "stream",
     "text": [
      "/Users/carlotasanchezgonzalez/opt/anaconda3/lib/python3.9/site-packages/sklearn/linear_model/_logistic.py:814: ConvergenceWarning: lbfgs failed to converge (status=1):\n",
      "STOP: TOTAL NO. of ITERATIONS REACHED LIMIT.\n",
      "\n",
      "Increase the number of iterations (max_iter) or scale the data as shown in:\n",
      "    https://scikit-learn.org/stable/modules/preprocessing.html\n",
      "Please also refer to the documentation for alternative solver options:\n",
      "    https://scikit-learn.org/stable/modules/linear_model.html#logistic-regression\n",
      "  n_iter_i = _check_optimize_result(\n"
     ]
    },
    {
     "ename": "KeyboardInterrupt",
     "evalue": "",
     "output_type": "error",
     "traceback": [
      "\u001b[0;31m---------------------------------------------------------------------------\u001b[0m",
      "\u001b[0;31mKeyboardInterrupt\u001b[0m                         Traceback (most recent call last)",
      "Input \u001b[0;32mIn [255]\u001b[0m, in \u001b[0;36m<cell line: 13>\u001b[0;34m()\u001b[0m\n\u001b[1;32m     12\u001b[0m \u001b[38;5;66;03m# Iterar sobre cada modelo\u001b[39;00m\n\u001b[1;32m     13\u001b[0m \u001b[38;5;28;01mfor\u001b[39;00m nombre, modelo \u001b[38;5;129;01min\u001b[39;00m modelos\u001b[38;5;241m.\u001b[39mitems():\n\u001b[1;32m     14\u001b[0m     \u001b[38;5;66;03m# Entrenar el modelo\u001b[39;00m\n\u001b[0;32m---> 15\u001b[0m     \u001b[43mmodelo\u001b[49m\u001b[38;5;241;43m.\u001b[39;49m\u001b[43mfit\u001b[49m\u001b[43m(\u001b[49m\u001b[43mx_train\u001b[49m\u001b[43m,\u001b[49m\u001b[43m \u001b[49m\u001b[43my_train\u001b[49m\u001b[43m)\u001b[49m\n\u001b[1;32m     17\u001b[0m     \u001b[38;5;66;03m# Realizar predicciones en el conjunto de prueba\u001b[39;00m\n\u001b[1;32m     18\u001b[0m     predicciones \u001b[38;5;241m=\u001b[39m modelo\u001b[38;5;241m.\u001b[39mpredict(x_test)\n",
      "File \u001b[0;32m~/opt/anaconda3/lib/python3.9/site-packages/sklearn/pipeline.py:394\u001b[0m, in \u001b[0;36mPipeline.fit\u001b[0;34m(self, X, y, **fit_params)\u001b[0m\n\u001b[1;32m    392\u001b[0m     \u001b[38;5;28;01mif\u001b[39;00m \u001b[38;5;28mself\u001b[39m\u001b[38;5;241m.\u001b[39m_final_estimator \u001b[38;5;241m!=\u001b[39m \u001b[38;5;124m\"\u001b[39m\u001b[38;5;124mpassthrough\u001b[39m\u001b[38;5;124m\"\u001b[39m:\n\u001b[1;32m    393\u001b[0m         fit_params_last_step \u001b[38;5;241m=\u001b[39m fit_params_steps[\u001b[38;5;28mself\u001b[39m\u001b[38;5;241m.\u001b[39msteps[\u001b[38;5;241m-\u001b[39m\u001b[38;5;241m1\u001b[39m][\u001b[38;5;241m0\u001b[39m]]\n\u001b[0;32m--> 394\u001b[0m         \u001b[38;5;28;43mself\u001b[39;49m\u001b[38;5;241;43m.\u001b[39;49m\u001b[43m_final_estimator\u001b[49m\u001b[38;5;241;43m.\u001b[39;49m\u001b[43mfit\u001b[49m\u001b[43m(\u001b[49m\u001b[43mXt\u001b[49m\u001b[43m,\u001b[49m\u001b[43m \u001b[49m\u001b[43my\u001b[49m\u001b[43m,\u001b[49m\u001b[43m \u001b[49m\u001b[38;5;241;43m*\u001b[39;49m\u001b[38;5;241;43m*\u001b[39;49m\u001b[43mfit_params_last_step\u001b[49m\u001b[43m)\u001b[49m\n\u001b[1;32m    396\u001b[0m \u001b[38;5;28;01mreturn\u001b[39;00m \u001b[38;5;28mself\u001b[39m\n",
      "File \u001b[0;32m~/opt/anaconda3/lib/python3.9/site-packages/sklearn/ensemble/_gb.py:586\u001b[0m, in \u001b[0;36mBaseGradientBoosting.fit\u001b[0;34m(self, X, y, sample_weight, monitor)\u001b[0m\n\u001b[1;32m    583\u001b[0m     \u001b[38;5;28mself\u001b[39m\u001b[38;5;241m.\u001b[39m_resize_state()\n\u001b[1;32m    585\u001b[0m \u001b[38;5;66;03m# fit the boosting stages\u001b[39;00m\n\u001b[0;32m--> 586\u001b[0m n_stages \u001b[38;5;241m=\u001b[39m \u001b[38;5;28;43mself\u001b[39;49m\u001b[38;5;241;43m.\u001b[39;49m\u001b[43m_fit_stages\u001b[49m\u001b[43m(\u001b[49m\n\u001b[1;32m    587\u001b[0m \u001b[43m    \u001b[49m\u001b[43mX\u001b[49m\u001b[43m,\u001b[49m\n\u001b[1;32m    588\u001b[0m \u001b[43m    \u001b[49m\u001b[43my\u001b[49m\u001b[43m,\u001b[49m\n\u001b[1;32m    589\u001b[0m \u001b[43m    \u001b[49m\u001b[43mraw_predictions\u001b[49m\u001b[43m,\u001b[49m\n\u001b[1;32m    590\u001b[0m \u001b[43m    \u001b[49m\u001b[43msample_weight\u001b[49m\u001b[43m,\u001b[49m\n\u001b[1;32m    591\u001b[0m \u001b[43m    \u001b[49m\u001b[38;5;28;43mself\u001b[39;49m\u001b[38;5;241;43m.\u001b[39;49m\u001b[43m_rng\u001b[49m\u001b[43m,\u001b[49m\n\u001b[1;32m    592\u001b[0m \u001b[43m    \u001b[49m\u001b[43mX_val\u001b[49m\u001b[43m,\u001b[49m\n\u001b[1;32m    593\u001b[0m \u001b[43m    \u001b[49m\u001b[43my_val\u001b[49m\u001b[43m,\u001b[49m\n\u001b[1;32m    594\u001b[0m \u001b[43m    \u001b[49m\u001b[43msample_weight_val\u001b[49m\u001b[43m,\u001b[49m\n\u001b[1;32m    595\u001b[0m \u001b[43m    \u001b[49m\u001b[43mbegin_at_stage\u001b[49m\u001b[43m,\u001b[49m\n\u001b[1;32m    596\u001b[0m \u001b[43m    \u001b[49m\u001b[43mmonitor\u001b[49m\u001b[43m,\u001b[49m\n\u001b[1;32m    597\u001b[0m \u001b[43m\u001b[49m\u001b[43m)\u001b[49m\n\u001b[1;32m    599\u001b[0m \u001b[38;5;66;03m# change shape of arrays after fit (early-stopping or additional ests)\u001b[39;00m\n\u001b[1;32m    600\u001b[0m \u001b[38;5;28;01mif\u001b[39;00m n_stages \u001b[38;5;241m!=\u001b[39m \u001b[38;5;28mself\u001b[39m\u001b[38;5;241m.\u001b[39mestimators_\u001b[38;5;241m.\u001b[39mshape[\u001b[38;5;241m0\u001b[39m]:\n",
      "File \u001b[0;32m~/opt/anaconda3/lib/python3.9/site-packages/sklearn/ensemble/_gb.py:663\u001b[0m, in \u001b[0;36mBaseGradientBoosting._fit_stages\u001b[0;34m(self, X, y, raw_predictions, sample_weight, random_state, X_val, y_val, sample_weight_val, begin_at_stage, monitor)\u001b[0m\n\u001b[1;32m    656\u001b[0m     old_oob_score \u001b[38;5;241m=\u001b[39m loss_(\n\u001b[1;32m    657\u001b[0m         y[\u001b[38;5;241m~\u001b[39msample_mask],\n\u001b[1;32m    658\u001b[0m         raw_predictions[\u001b[38;5;241m~\u001b[39msample_mask],\n\u001b[1;32m    659\u001b[0m         sample_weight[\u001b[38;5;241m~\u001b[39msample_mask],\n\u001b[1;32m    660\u001b[0m     )\n\u001b[1;32m    662\u001b[0m \u001b[38;5;66;03m# fit next stage of trees\u001b[39;00m\n\u001b[0;32m--> 663\u001b[0m raw_predictions \u001b[38;5;241m=\u001b[39m \u001b[38;5;28;43mself\u001b[39;49m\u001b[38;5;241;43m.\u001b[39;49m\u001b[43m_fit_stage\u001b[49m\u001b[43m(\u001b[49m\n\u001b[1;32m    664\u001b[0m \u001b[43m    \u001b[49m\u001b[43mi\u001b[49m\u001b[43m,\u001b[49m\n\u001b[1;32m    665\u001b[0m \u001b[43m    \u001b[49m\u001b[43mX\u001b[49m\u001b[43m,\u001b[49m\n\u001b[1;32m    666\u001b[0m \u001b[43m    \u001b[49m\u001b[43my\u001b[49m\u001b[43m,\u001b[49m\n\u001b[1;32m    667\u001b[0m \u001b[43m    \u001b[49m\u001b[43mraw_predictions\u001b[49m\u001b[43m,\u001b[49m\n\u001b[1;32m    668\u001b[0m \u001b[43m    \u001b[49m\u001b[43msample_weight\u001b[49m\u001b[43m,\u001b[49m\n\u001b[1;32m    669\u001b[0m \u001b[43m    \u001b[49m\u001b[43msample_mask\u001b[49m\u001b[43m,\u001b[49m\n\u001b[1;32m    670\u001b[0m \u001b[43m    \u001b[49m\u001b[43mrandom_state\u001b[49m\u001b[43m,\u001b[49m\n\u001b[1;32m    671\u001b[0m \u001b[43m    \u001b[49m\u001b[43mX_csc\u001b[49m\u001b[43m,\u001b[49m\n\u001b[1;32m    672\u001b[0m \u001b[43m    \u001b[49m\u001b[43mX_csr\u001b[49m\u001b[43m,\u001b[49m\n\u001b[1;32m    673\u001b[0m \u001b[43m\u001b[49m\u001b[43m)\u001b[49m\n\u001b[1;32m    675\u001b[0m \u001b[38;5;66;03m# track deviance (= loss)\u001b[39;00m\n\u001b[1;32m    676\u001b[0m \u001b[38;5;28;01mif\u001b[39;00m do_oob:\n",
      "File \u001b[0;32m~/opt/anaconda3/lib/python3.9/site-packages/sklearn/ensemble/_gb.py:249\u001b[0m, in \u001b[0;36mBaseGradientBoosting._fit_stage\u001b[0;34m(self, i, X, y, raw_predictions, sample_weight, sample_mask, random_state, X_csc, X_csr)\u001b[0m\n\u001b[1;32m    246\u001b[0m tree\u001b[38;5;241m.\u001b[39mfit(X, residual, sample_weight\u001b[38;5;241m=\u001b[39msample_weight, check_input\u001b[38;5;241m=\u001b[39m\u001b[38;5;28;01mFalse\u001b[39;00m)\n\u001b[1;32m    248\u001b[0m \u001b[38;5;66;03m# update tree leaves\u001b[39;00m\n\u001b[0;32m--> 249\u001b[0m \u001b[43mloss\u001b[49m\u001b[38;5;241;43m.\u001b[39;49m\u001b[43mupdate_terminal_regions\u001b[49m\u001b[43m(\u001b[49m\n\u001b[1;32m    250\u001b[0m \u001b[43m    \u001b[49m\u001b[43mtree\u001b[49m\u001b[38;5;241;43m.\u001b[39;49m\u001b[43mtree_\u001b[49m\u001b[43m,\u001b[49m\n\u001b[1;32m    251\u001b[0m \u001b[43m    \u001b[49m\u001b[43mX\u001b[49m\u001b[43m,\u001b[49m\n\u001b[1;32m    252\u001b[0m \u001b[43m    \u001b[49m\u001b[43my\u001b[49m\u001b[43m,\u001b[49m\n\u001b[1;32m    253\u001b[0m \u001b[43m    \u001b[49m\u001b[43mresidual\u001b[49m\u001b[43m,\u001b[49m\n\u001b[1;32m    254\u001b[0m \u001b[43m    \u001b[49m\u001b[43mraw_predictions\u001b[49m\u001b[43m,\u001b[49m\n\u001b[1;32m    255\u001b[0m \u001b[43m    \u001b[49m\u001b[43msample_weight\u001b[49m\u001b[43m,\u001b[49m\n\u001b[1;32m    256\u001b[0m \u001b[43m    \u001b[49m\u001b[43msample_mask\u001b[49m\u001b[43m,\u001b[49m\n\u001b[1;32m    257\u001b[0m \u001b[43m    \u001b[49m\u001b[43mlearning_rate\u001b[49m\u001b[38;5;241;43m=\u001b[39;49m\u001b[38;5;28;43mself\u001b[39;49m\u001b[38;5;241;43m.\u001b[39;49m\u001b[43mlearning_rate\u001b[49m\u001b[43m,\u001b[49m\n\u001b[1;32m    258\u001b[0m \u001b[43m    \u001b[49m\u001b[43mk\u001b[49m\u001b[38;5;241;43m=\u001b[39;49m\u001b[43mk\u001b[49m\u001b[43m,\u001b[49m\n\u001b[1;32m    259\u001b[0m \u001b[43m\u001b[49m\u001b[43m)\u001b[49m\n\u001b[1;32m    261\u001b[0m \u001b[38;5;66;03m# add tree to ensemble\u001b[39;00m\n\u001b[1;32m    262\u001b[0m \u001b[38;5;28mself\u001b[39m\u001b[38;5;241m.\u001b[39mestimators_[i, k] \u001b[38;5;241m=\u001b[39m tree\n",
      "File \u001b[0;32m~/opt/anaconda3/lib/python3.9/site-packages/sklearn/ensemble/_gb_losses.py:121\u001b[0m, in \u001b[0;36mLossFunction.update_terminal_regions\u001b[0;34m(self, tree, X, y, residual, raw_predictions, sample_weight, sample_mask, learning_rate, k)\u001b[0m\n\u001b[1;32m    119\u001b[0m \u001b[38;5;66;03m# update each leaf (= perform line search)\u001b[39;00m\n\u001b[1;32m    120\u001b[0m \u001b[38;5;28;01mfor\u001b[39;00m leaf \u001b[38;5;129;01min\u001b[39;00m np\u001b[38;5;241m.\u001b[39mwhere(tree\u001b[38;5;241m.\u001b[39mchildren_left \u001b[38;5;241m==\u001b[39m TREE_LEAF)[\u001b[38;5;241m0\u001b[39m]:\n\u001b[0;32m--> 121\u001b[0m     \u001b[38;5;28;43mself\u001b[39;49m\u001b[38;5;241;43m.\u001b[39;49m\u001b[43m_update_terminal_region\u001b[49m\u001b[43m(\u001b[49m\n\u001b[1;32m    122\u001b[0m \u001b[43m        \u001b[49m\u001b[43mtree\u001b[49m\u001b[43m,\u001b[49m\n\u001b[1;32m    123\u001b[0m \u001b[43m        \u001b[49m\u001b[43mmasked_terminal_regions\u001b[49m\u001b[43m,\u001b[49m\n\u001b[1;32m    124\u001b[0m \u001b[43m        \u001b[49m\u001b[43mleaf\u001b[49m\u001b[43m,\u001b[49m\n\u001b[1;32m    125\u001b[0m \u001b[43m        \u001b[49m\u001b[43mX\u001b[49m\u001b[43m,\u001b[49m\n\u001b[1;32m    126\u001b[0m \u001b[43m        \u001b[49m\u001b[43my\u001b[49m\u001b[43m,\u001b[49m\n\u001b[1;32m    127\u001b[0m \u001b[43m        \u001b[49m\u001b[43mresidual\u001b[49m\u001b[43m,\u001b[49m\n\u001b[1;32m    128\u001b[0m \u001b[43m        \u001b[49m\u001b[43mraw_predictions\u001b[49m\u001b[43m[\u001b[49m\u001b[43m:\u001b[49m\u001b[43m,\u001b[49m\u001b[43m \u001b[49m\u001b[43mk\u001b[49m\u001b[43m]\u001b[49m\u001b[43m,\u001b[49m\n\u001b[1;32m    129\u001b[0m \u001b[43m        \u001b[49m\u001b[43msample_weight\u001b[49m\u001b[43m,\u001b[49m\n\u001b[1;32m    130\u001b[0m \u001b[43m    \u001b[49m\u001b[43m)\u001b[49m\n\u001b[1;32m    132\u001b[0m \u001b[38;5;66;03m# update predictions (both in-bag and out-of-bag)\u001b[39;00m\n\u001b[1;32m    133\u001b[0m raw_predictions[:, k] \u001b[38;5;241m+\u001b[39m\u001b[38;5;241m=\u001b[39m learning_rate \u001b[38;5;241m*\u001b[39m tree\u001b[38;5;241m.\u001b[39mvalue[:, \u001b[38;5;241m0\u001b[39m, \u001b[38;5;241m0\u001b[39m]\u001b[38;5;241m.\u001b[39mtake(\n\u001b[1;32m    134\u001b[0m     terminal_regions, axis\u001b[38;5;241m=\u001b[39m\u001b[38;5;241m0\u001b[39m\n\u001b[1;32m    135\u001b[0m )\n",
      "File \u001b[0;32m~/opt/anaconda3/lib/python3.9/site-packages/sklearn/ensemble/_gb_losses.py:838\u001b[0m, in \u001b[0;36mMultinomialDeviance._update_terminal_region\u001b[0;34m(self, tree, terminal_regions, leaf, X, y, residual, raw_predictions, sample_weight)\u001b[0m\n\u001b[1;32m    826\u001b[0m \u001b[38;5;28;01mdef\u001b[39;00m \u001b[38;5;21m_update_terminal_region\u001b[39m(\n\u001b[1;32m    827\u001b[0m     \u001b[38;5;28mself\u001b[39m,\n\u001b[1;32m    828\u001b[0m     tree,\n\u001b[0;32m   (...)\u001b[0m\n\u001b[1;32m    835\u001b[0m     sample_weight,\n\u001b[1;32m    836\u001b[0m ):\n\u001b[1;32m    837\u001b[0m     \u001b[38;5;124;03m\"\"\"Make a single Newton-Raphson step.\"\"\"\u001b[39;00m\n\u001b[0;32m--> 838\u001b[0m     terminal_region \u001b[38;5;241m=\u001b[39m \u001b[43mnp\u001b[49m\u001b[38;5;241;43m.\u001b[39;49m\u001b[43mwhere\u001b[49m\u001b[43m(\u001b[49m\u001b[43mterminal_regions\u001b[49m\u001b[43m \u001b[49m\u001b[38;5;241;43m==\u001b[39;49m\u001b[43m \u001b[49m\u001b[43mleaf\u001b[49m\u001b[43m)\u001b[49m[\u001b[38;5;241m0\u001b[39m]\n\u001b[1;32m    839\u001b[0m     residual \u001b[38;5;241m=\u001b[39m residual\u001b[38;5;241m.\u001b[39mtake(terminal_region, axis\u001b[38;5;241m=\u001b[39m\u001b[38;5;241m0\u001b[39m)\n\u001b[1;32m    840\u001b[0m     y \u001b[38;5;241m=\u001b[39m y\u001b[38;5;241m.\u001b[39mtake(terminal_region, axis\u001b[38;5;241m=\u001b[39m\u001b[38;5;241m0\u001b[39m)\n",
      "File \u001b[0;32m<__array_function__ internals>:180\u001b[0m, in \u001b[0;36mwhere\u001b[0;34m(*args, **kwargs)\u001b[0m\n",
      "\u001b[0;31mKeyboardInterrupt\u001b[0m: "
     ]
    }
   ],
   "source": [
    "'''Evalaución de todos los modelos escalados, ya que tienen mejor rendimiento'''\n",
    "\n",
    "\n",
    "modelos = {'Logistic Regression': multi_model_LR,\n",
    "          'Random Forest': multi_model_RF,\n",
    "          'Gradient Boosting': multi_model_GB,\n",
    "          'SVM': multi_model_SVC}\n",
    "\n",
    "# Crear un diccionario para almacenar las métricas de cada modelo\n",
    "metricas = {}\n",
    "\n",
    "# Iterar sobre cada modelo\n",
    "for nombre, modelo in modelos.items():\n",
    "    # Entrenar el modelo\n",
    "    modelo.fit(x_train, y_train)\n",
    "    \n",
    "    # Realizar predicciones en el conjunto de prueba\n",
    "    predicciones = modelo.predict(x_test)\n",
    "    predicciones_proba = modelo.predict_proba(x_test)\n",
    "    \n",
    "    # Calcular las métricas\n",
    "    accuracy = accuracy_score(y_test, predicciones)\n",
    "    precision = precision_score(y_test, predicciones, average='macro')\n",
    "    recall = recall_score(y_test, predicciones, average='macro')\n",
    "    roc_auc = roc_auc_score(y_test, predicciones_proba, multi_class='ovr')\n",
    "    \n",
    "    # Almacenar las métricas en el diccionario\n",
    "    metricas[nombre] = {'Accuracy': accuracy, 'Precision': precision, 'Recall': recall, 'AUC': roc_auc}\n",
    "\n",
    "# Crear un DataFrame a partir del diccionario de métricas\n",
    "df_metricas = pd.DataFrame.from_dict(metricas, orient='index')\n",
    "\n",
    "# Imprimir el DataFrame\n",
    "df_metricas\n"
   ]
  },
  {
   "cell_type": "markdown",
   "metadata": {},
   "source": [
    "Basándonos en estas métricas, podemos observar que el modelo de Gradient Boosting tiene el mejor desempeño general en términos de precisión, recall, accuracy y ROC AUC en comparación con los otros modelos."
   ]
  },
  {
   "cell_type": "code",
   "execution_count": null,
   "metadata": {},
   "outputs": [
    {
     "data": {
      "text/plain": [
       "\"#Voy a guardar los modelos para usarlos para predecir resultados de otros partidos\\nimport joblib\\n\\n# Guardar los modelos en un archivo\\njoblib.dump(multi_model_LR, 'modelos/multi_model_LR.pkl')\\njoblib.dump(multi_model_RF, 'modelos/multi_model_RF.pkl')\\njoblib.dump(multi_model_GB, 'modelos/multi_model_GB.pkl')\\njoblib.dump(multi_model_SVC, 'modelos/multi_model_SVC.pkl')\""
      ]
     },
     "execution_count": 221,
     "metadata": {},
     "output_type": "execute_result"
    }
   ],
   "source": [
    "#Voy a guardar los modelos para usarlos para predecir resultados de otros partidos\n",
    "import joblib\n",
    "\n",
    "# Guardar los modelos en un archivo\n",
    "joblib.dump(multi_model_LR, 'modelos/multi_model2_LR.pkl')\n",
    "joblib.dump(multi_model_RF, 'modelos/multi_model2_RF.pkl')\n",
    "joblib.dump(multi_model_GB, 'modelos/multi_model2_GB.pkl')\n",
    "joblib.dump(multi_model_SVC, 'modelos/multi_model2_SVC.pkl')\n"
   ]
  },
  {
   "cell_type": "code",
   "execution_count": null,
   "metadata": {},
   "outputs": [
    {
     "data": {
      "text/plain": [
       "\"#Cargo el data que quiero usar para las predicciones y me quedo con lo que necesito\\ndata = pd.read_csv('dataframe/champions_23_24.csv', header=None, skiprows=1)\\n\\ndata.head()\""
      ]
     },
     "execution_count": 222,
     "metadata": {},
     "output_type": "execute_result"
    }
   ],
   "source": [
    "#Cargo el data que quiero usar para las predicciones y me quedo con lo que necesito\n",
    "data = pd.read_csv('dataframe/champions_23_24.csv', header=None, skiprows=1)\n",
    "\n",
    "data.head()"
   ]
  },
  {
   "cell_type": "code",
   "execution_count": null,
   "metadata": {},
   "outputs": [
    {
     "data": {
      "text/plain": [
       "'data = data.drop([1, 2, 5, 6, 7, 8, 9, 10], axis=1)\\ndata.head()'"
      ]
     },
     "execution_count": 223,
     "metadata": {},
     "output_type": "execute_result"
    }
   ],
   "source": [
    "data = data.drop([1, 2, 5, 6, 7, 8, 9, 10], axis=1)\n",
    "data.head()"
   ]
  },
  {
   "cell_type": "code",
   "execution_count": null,
   "metadata": {},
   "outputs": [
    {
     "data": {
      "text/plain": [
       "\"#Predicciones con LR\\nmulti_model_LR = joblib.load('modelos/multi_model_LR.pkl')\\n\\npredicciones = multi_model_LR.predict(data)\\nnuevo_data = data.iloc[:, [1, 2]].copy()  # Selecciona las columnas 3 y 4 del DataFrame original\\nnuevo_data['LR'] = predicciones  # Agrega las predicciones como una nueva columna\\n\\n# Imprimir las últimas 8 filas del nuevo DataFrame\\nprint(nuevo_data.tail(8))\""
      ]
     },
     "execution_count": 224,
     "metadata": {},
     "output_type": "execute_result"
    }
   ],
   "source": [
    "#Predicciones con LR\n",
    "multi_model_2LR = joblib.load('modelos/multi_model2_LR.pkl')\n",
    "\n",
    "predicciones = multi_model_2LR.predict(data)\n",
    "nuevo_data = data.iloc[:, [1, 2]].copy()  # Selecciona las columnas 3 y 4 del DataFrame original\n",
    "nuevo_data['LR'] = predicciones  # Agrega las predicciones como una nueva columna\n",
    "\n",
    "# Imprimir las últimas 8 filas del nuevo DataFrame\n",
    "print(nuevo_data.tail(8))\n"
   ]
  },
  {
   "cell_type": "code",
   "execution_count": null,
   "metadata": {},
   "outputs": [
    {
     "data": {
      "text/plain": [
       "\"#Predicciones con LR\\nmulti_model_RF = joblib.load('modelos/multi_model_RF.pkl')\\npredicciones_RF = multi_model_RF.predict(data)\\nnuevo_data['RF'] = predicciones_RF\\n\\n# Imprimir las últimas 8 filas de las columnas seleccionadas\\nprint(nuevo_data.tail(8))\""
      ]
     },
     "execution_count": 225,
     "metadata": {},
     "output_type": "execute_result"
    }
   ],
   "source": [
    "#Predicciones con LR\n",
    "multi_model2_RF = joblib.load('modelos/multi_model2_RF.pkl')\n",
    "predicciones_RF = multi_model2_RF.predict(data)\n",
    "nuevo_data['RF'] = predicciones_RF\n",
    "\n",
    "# Imprimir las últimas 8 filas de las columnas seleccionadas\n",
    "print(nuevo_data.tail(8))"
   ]
  },
  {
   "cell_type": "code",
   "execution_count": null,
   "metadata": {},
   "outputs": [
    {
     "data": {
      "text/plain": [
       "\"#Predicciones con GB\\nmulti_model_GB = joblib.load('modelos/multi_model_GB.pkl')\\npredicciones_GB = multi_model_GB.predict(data)\\nnuevo_data['GB'] = predicciones_GB\\n\\nnuevo_data.tail(8)\""
      ]
     },
     "execution_count": 226,
     "metadata": {},
     "output_type": "execute_result"
    }
   ],
   "source": [
    "#Predicciones con GB\n",
    "multi_model2_GB = joblib.load('modelos/multi_model2_GB.pkl')\n",
    "predicciones_GB = multi_model2_GB.predict(data)\n",
    "nuevo_data['GB'] = predicciones_GB\n",
    "\n",
    "nuevo_data.tail(8)"
   ]
  },
  {
   "cell_type": "code",
   "execution_count": null,
   "metadata": {},
   "outputs": [
    {
     "data": {
      "text/plain": [
       "\"#Predicciones con SVC\\nmulti_model_SVC = joblib.load('modelos/multi_model_SVC.pkl')\\npredicciones_SVC = multi_model_SVC.predict(data)\\nnuevo_data['SVC'] = predicciones_SVC\\n\\nnuevo_data.tail(8)\""
      ]
     },
     "execution_count": 227,
     "metadata": {},
     "output_type": "execute_result"
    }
   ],
   "source": [
    "#Predicciones con SVC\n",
    "multi_model2_SVC = joblib.load('modelos/multi_model2_SVC.pkl')\n",
    "predicciones_SVC = multi_model2_SVC.predict(data)\n",
    "nuevo_data['SVC'] = predicciones_SVC\n",
    "\n",
    "nuevo_data.tail(8)"
   ]
  },
  {
   "cell_type": "code",
   "execution_count": null,
   "metadata": {},
   "outputs": [
    {
     "data": {
      "text/plain": [
       "\"import json\\n\\n# Cargar el JSON que contiene la correspondencia entre IDs de equipos y nombres\\nwith open('dataframe/id_equipo.json', 'r') as f:\\n    id_equipos = json.load(f)\\n\\n# Crear un diccionario para facilitar el mapeo\\nid_to_equipo = {str(value): key for key, value in id_equipos.items()}\\n\\n# Reemplazar los IDs de equipos en las columnas correspondientes de nuevo_data con los nombres de los equipos\\nnuevo_data[3] = nuevo_data[3].astype(str).map(id_to_equipo)\\nnuevo_data[4] = nuevo_data[4].astype(str).map(id_to_equipo)\\n\\n# Imprimir las últimas 8 filas con los nombres de los equipos en lugar de los IDs\\nnuevo_data.tail(8)\""
      ]
     },
     "execution_count": 228,
     "metadata": {},
     "output_type": "execute_result"
    }
   ],
   "source": [
    "import json\n",
    "\n",
    "# Cargar el JSON que contiene la correspondencia entre IDs de equipos y nombres\n",
    "with open('dataframe/id_equipo.json', 'r') as f:\n",
    "    id_equipos = json.load(f)\n",
    "\n",
    "# Crear un diccionario para facilitar el mapeo\n",
    "id_to_equipo = {str(value): key for key, value in id_equipos.items()}\n",
    "\n",
    "# Reemplazar los IDs de equipos en las columnas correspondientes de nuevo_data con los nombres de los equipos\n",
    "nuevo_data[3] = nuevo_data[3].astype(str).map(id_to_equipo)\n",
    "nuevo_data[4] = nuevo_data[4].astype(str).map(id_to_equipo)\n",
    "\n",
    "# Imprimir las últimas 8 filas con los nombres de los equipos en lugar de los IDs\n",
    "nuevo_data.tail(8)\n"
   ]
  }
 ],
 "metadata": {
  "kernelspec": {
   "display_name": "base",
   "language": "python",
   "name": "python3"
  },
  "language_info": {
   "codemirror_mode": {
    "name": "ipython",
    "version": 3
   },
   "file_extension": ".py",
   "mimetype": "text/x-python",
   "name": "python",
   "nbconvert_exporter": "python",
   "pygments_lexer": "ipython3",
   "version": "3.9.12"
  }
 },
 "nbformat": 4,
 "nbformat_minor": 2
}
